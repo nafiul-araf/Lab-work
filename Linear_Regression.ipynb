{
  "nbformat": 4,
  "nbformat_minor": 0,
  "metadata": {
    "colab": {
      "name": "Linear_Regression.ipynb",
      "provenance": [],
      "include_colab_link": true
    },
    "kernelspec": {
      "display_name": "Python 3",
      "language": "python",
      "name": "python3"
    },
    "language_info": {
      "codemirror_mode": {
        "name": "ipython",
        "version": 3
      },
      "file_extension": ".py",
      "mimetype": "text/x-python",
      "name": "python",
      "nbconvert_exporter": "python",
      "pygments_lexer": "ipython3",
      "version": "3.8.3"
    }
  },
  "cells": [
    {
      "cell_type": "markdown",
      "metadata": {
        "id": "view-in-github",
        "colab_type": "text"
      },
      "source": [
        "<a href=\"https://colab.research.google.com/github/nafiul-araf/Lab-work/blob/main/Linear_Regression.ipynb\" target=\"_parent\"><img src=\"https://colab.research.google.com/assets/colab-badge.svg\" alt=\"Open In Colab\"/></a>"
      ]
    },
    {
      "cell_type": "markdown",
      "metadata": {
        "id": "SjGntYFT68lr"
      },
      "source": [
        "# Necessary Libraries"
      ]
    },
    {
      "cell_type": "code",
      "metadata": {
        "id": "S4_jHkFv68lu"
      },
      "source": [
        "import pandas as pd\n",
        "import numpy as np\n",
        "import matplotlib.pyplot as plt\n",
        "import seaborn as sns\n",
        "from my_custom_utils import data_preparation,important_features_visualization_linear,feature_selection_linear\n",
        "\n",
        "%matplotlib inline\n",
        "sns.set(style='darkgrid', rc={'figure.figsize':(10,6)})\n",
        "\n",
        "import warnings\n",
        "warnings.filterwarnings(\"ignore\")"
      ],
      "execution_count": null,
      "outputs": []
    },
    {
      "cell_type": "markdown",
      "metadata": {
        "id": "NZ4BkqCP68lv"
      },
      "source": [
        "# Loading the Data"
      ]
    },
    {
      "cell_type": "code",
      "metadata": {
        "id": "DUv6py5B68lw",
        "outputId": "7bcbc106-e45d-49b5-961d-d2f940fe3966"
      },
      "source": [
        "df=pd.read_csv('Copy of Depression and Happiness Factor Analysis.csv')\n",
        "df.shape"
      ],
      "execution_count": null,
      "outputs": [
        {
          "data": {
            "text/plain": [
              "(920, 21)"
            ]
          },
          "execution_count": 2,
          "metadata": {},
          "output_type": "execute_result"
        }
      ]
    },
    {
      "cell_type": "markdown",
      "metadata": {
        "id": "Yw4I6Zxx68lx"
      },
      "source": [
        "# Data Preparation"
      ]
    },
    {
      "cell_type": "markdown",
      "metadata": {
        "id": "zIDQTQ5U68lx"
      },
      "source": [
        "* Preparing the data using the imported `data_preparation()` function.\n",
        "```Python\n",
        "    def data_preparation(data):\n",
        "  \"\"\"This funtion is for data preparation which returns the clean data. In order to do this, it drops the unnecessay columns and sets the index. \n",
        "  Then it encodes the categorical non-numeric data into numeric data using label encoder.\n",
        "  Input:\n",
        "      data: The dataframe.\n",
        "  \n",
        "  Output:\n",
        "      Concatenation of encoded and numeric data.\n",
        "  \"\"\"\n",
        "  data=data.drop(['Timestamp','Unnamed: 20'],axis=1)\n",
        "  data=data.set_index('Which year are you in?')\n",
        "  data_numeric=data.drop(data.iloc[:, [0,2,4,5,6,8,9,10,11,12,13,14,15,16]],axis=1)\n",
        "  data_non_numeric=data.drop(data.iloc[:, [1,3,7,17]],axis=1)\n",
        "  le=LabelEncoder()\n",
        "  encode=data_non_numeric.apply(le.fit_transform)\n",
        "\n",
        "  return pd.concat([encode,data_numeric],axis=1)\n",
        "```"
      ]
    },
    {
      "cell_type": "code",
      "metadata": {
        "id": "0EyhpRiu68ly",
        "outputId": "31af20a9-7da0-48a3-d857-32b0a8780e2e"
      },
      "source": [
        "data_final=data_preparation(df)\n",
        "data_final.shape"
      ],
      "execution_count": null,
      "outputs": [
        {
          "data": {
            "text/plain": [
              "(920, 18)"
            ]
          },
          "execution_count": 3,
          "metadata": {},
          "output_type": "execute_result"
        }
      ]
    },
    {
      "cell_type": "markdown",
      "metadata": {
        "id": "Srs6GcVb68ly"
      },
      "source": [
        "# Feature Selection"
      ]
    },
    {
      "cell_type": "markdown",
      "metadata": {
        "id": "Y1IKqPhz68ly"
      },
      "source": [
        "* Visualizing the important features using the imported `important_features_visualization_linear()` function.\n",
        "```Python\n",
        "def important_features_visualization_linear(data):\n",
        "  \"\"\"This function plots the importance features using mutual information regression. It is only for Linear_Regression.ipynb.\n",
        "\n",
        "  Input:\n",
        "      data: The dataframe.\n",
        "  \n",
        "  Output:\n",
        "      Plots a horizontal bar chart of the important features in a descending order.\n",
        "  \"\"\"\n",
        "  X=data.drop('On a scale of 1-100, how would you express this feeling?',axis=1)\n",
        "  y=data['On a scale of 1-100, how would you express this feeling?']\n",
        "  imp=mutual_info_regression(X,y)\n",
        "  feat_imp=pd.Series(imp,data.columns[0:len(data.columns)-1])\n",
        "  feat_imp.sort_values(ascending=False).plot(kind='barh',color='teal',figsize=(20,10))\n",
        "  plt.show()\n",
        "```"
      ]
    },
    {
      "cell_type": "code",
      "metadata": {
        "id": "ANcPO4W268lz",
        "outputId": "b5909a9a-9158-4374-9a92-d325e7e73da4"
      },
      "source": [
        "imp_feat_vis=important_features_visualization_linear(data_final)\n",
        "imp_feat_vis"
      ],
      "execution_count": null,
      "outputs": [
        {
          "data": {
            "image/png": "[encoded data removed]",
            "text/plain": [
              "<Figure size 1440x720 with 1 Axes>"
            ]
          },
          "metadata": {},
          "output_type": "display_data"
        }
      ]
    },
    {
      "cell_type": "markdown",
      "metadata": {
        "id": "nzITNDBx68lz"
      },
      "source": [
        "* Finding the important features using the imported `feature_selection_linear()` function.\n",
        "```Python\n",
        "def feature_selection_linear(data):\n",
        "  \"\"\"This function finds the important features using mutual information regression under a percentile value. It is only for Linear_Regression.ipynb.\n",
        "\n",
        "  Input:\n",
        "      data: The dataframe.\n",
        "  \n",
        "  Output:\n",
        "      Returns the top important features under 30 percentiles.\n",
        "  \"\"\"\n",
        "  X=data.drop('On a scale of 1-100, how would you express this feeling?',axis=1)\n",
        "  y=data['On a scale of 1-100, how would you express this feeling?']\n",
        "  select=SelectPercentile(mutual_info_regression,percentile=30)\n",
        "  select.fit(X,y)\n",
        "\n",
        "  return X.columns[select.get_support()]\n",
        "```"
      ]
    },
    {
      "cell_type": "code",
      "metadata": {
        "id": "SpxX2j0k68l0",
        "outputId": "8b60a253-e5f6-492c-ddaa-ef0daa8f0378"
      },
      "source": [
        "important_features=feature_selection_linear(data_final)\n",
        "important_features"
      ],
      "execution_count": null,
      "outputs": [
        {
          "data": {
            "text/plain": [
              "Index(['How are you feeling right now?', 'Your location ?',\n",
              "       'Are you feeling pressure in your study or work right now?',\n",
              "       'Are you satisfied with your meal today?',\n",
              "       'How long did you sleep last night?(in hours)'],\n",
              "      dtype='object')"
            ]
          },
          "execution_count": 5,
          "metadata": {},
          "output_type": "execute_result"
        }
      ]
    },
    {
      "cell_type": "markdown",
      "metadata": {
        "id": "vSv-JwTW68l0"
      },
      "source": [
        "# Splitting the Data based on the Feature Selection"
      ]
    },
    {
      "cell_type": "code",
      "metadata": {
        "id": "CG5qVRqh68l1"
      },
      "source": [
        "X=data_final[['How long did you sleep last night?(in hours)', 'How are you feeling right now?', 'Are you satisfied with your meal today?', 'Your location ?', 'Are you feeling pressure in your study or work right now?']].values\n",
        "y=data_final['On a scale of 1-100, how would you express this feeling?'].values"
      ],
      "execution_count": null,
      "outputs": []
    },
    {
      "cell_type": "code",
      "metadata": {
        "id": "X2RaIKAu68l1"
      },
      "source": [
        "from sklearn.model_selection import train_test_split"
      ],
      "execution_count": null,
      "outputs": []
    },
    {
      "cell_type": "code",
      "metadata": {
        "id": "xpkcES-n68l2"
      },
      "source": [
        "X_train,X_test,y_train,y_test=train_test_split(X,y,test_size=0.20,random_state=21)"
      ],
      "execution_count": null,
      "outputs": []
    },
    {
      "cell_type": "markdown",
      "metadata": {
        "id": "p1vpRjgm68l2"
      },
      "source": [
        "# Linear Regression from Scratch"
      ]
    },
    {
      "cell_type": "markdown",
      "metadata": {
        "id": "uV-UjwJT68l3"
      },
      "source": [
        "### <span style='color:green'>***Step-1***</span>***:*** <span style='color:red'>***Initialize the Parameters which are weight and bias***</span>"
      ]
    },
    {
      "cell_type": "code",
      "metadata": {
        "id": "tEgtj3iw68l3"
      },
      "source": [
        "def initialize_parameters(lenw):\n",
        "    \"\"\"The numpy.random.randn() function creates an array of specified shape and fills it with random values as per standard \n",
        "    normal distribution.\n",
        "    \n",
        "    Arg: \n",
        "       lenw: n numbers of training samlple i.e. X_train.shape[0]\n",
        "    Returns:\n",
        "          weight and bias\n",
        "    \"\"\"\n",
        "    w=np.random.randn(1, lenw)\n",
        "    b=0\n",
        "    return w, b"
      ],
      "execution_count": null,
      "outputs": []
    },
    {
      "cell_type": "markdown",
      "metadata": {
        "id": "uvc2U_lW68l3"
      },
      "source": [
        "### <span style='color:green'>***Step-2***</span>***:*** <span style='color:red'>***Forward Propagation***</span>"
      ]
    },
    {
      "cell_type": "code",
      "metadata": {
        "id": "0ho5UcNi68l4"
      },
      "source": [
        "def forward_prop(X, w, b):\n",
        "    \"\"\"A linear function or prediction function which is the matrix multiplication of the training samples and weights and then \n",
        "    sum up the bias.\n",
        "    \n",
        "    Args:\n",
        "        X: X_train\n",
        "        w, b: weights and bias from the step 1.\n",
        "    Returns:\n",
        "          z: The result of the calculation\n",
        "    \"\"\"\n",
        "    y_pred=np.dot(w, X)+b\n",
        "    return y_pred"
      ],
      "execution_count": null,
      "outputs": []
    },
    {
      "cell_type": "markdown",
      "metadata": {
        "id": "3D8vqq-u68l4"
      },
      "source": [
        "### <span style='color:green'>***Step-3***</span>***:*** <span style='color:red'>***Cost Function***</span>"
      ]
    },
    {
      "cell_type": "code",
      "metadata": {
        "id": "pEdteyiK68l4"
      },
      "source": [
        "def cost_function(y_pred, y):\n",
        "    \"\"\"Cost function  is (1/2) of mean squared error.\n",
        "    \n",
        "    Args:\n",
        "        y_pred: Prediction funtion\n",
        "        y: True value\n",
        "    Returns: \n",
        "        J: Cost function\n",
        "    \"\"\"\n",
        "    m=y.shape[1]\n",
        "    J=(1/(2*m))*np.sum(np.square(y_pred-y))\n",
        "    return J"
      ],
      "execution_count": null,
      "outputs": []
    },
    {
      "cell_type": "markdown",
      "metadata": {
        "id": "Zu_xpju_68l4"
      },
      "source": [
        "### <span style='color:green'>***Step-4***</span>***:*** <span style='color:red'>***Backward Propagation***</span>"
      ]
    },
    {
      "cell_type": "code",
      "metadata": {
        "id": "vIQHEOvw68l5"
      },
      "source": [
        "# row vector mul with col vec. (1xm)x(mxn)=(1xn). Rows are transposed into cols\n",
        "def back_prop(X, y, y_pred):\n",
        "    \"\"\"Finds the derivative of weight's and bias's.\n",
        "    \n",
        "    Args:\n",
        "        X: Independent variables\n",
        "        y: Dependent variables\n",
        "        y_pred: Found from prediction function\n",
        "    Returns:\n",
        "        dw, db: Derivative of weight's and bais's\n",
        "    \"\"\"\n",
        "    m=y.shape[1]\n",
        "    dy_pred=(1/m)*(y_pred-y)\n",
        "    dw=np.dot(dy_pred, X.T)\n",
        "    db=np.sum(dy_pred)\n",
        "    return dw, db"
      ],
      "execution_count": null,
      "outputs": []
    },
    {
      "cell_type": "markdown",
      "metadata": {
        "id": "1PE4lcgE68l5"
      },
      "source": [
        "### <span style='color:green'>***Step-5***</span>***:*** <span style='color:red'>***Gradient Descent***</span>"
      ]
    },
    {
      "cell_type": "code",
      "metadata": {
        "id": "a2sb-73y68l5"
      },
      "source": [
        "def gradient_descent(w, b, dw, db, lr):\n",
        "    \"\"\"Update of weight and bias.\n",
        "    \n",
        "    Args:\n",
        "        w, b, dw, db, lr: Old weights and bias's with their derivatives and learning rate(lr)\n",
        "    Returns:\n",
        "        w, b: Updated weight and bias\n",
        "    \"\"\"\n",
        "    w=w-lr*dw\n",
        "    b=b-lr*db\n",
        "    return w, b"
      ],
      "execution_count": null,
      "outputs": []
    },
    {
      "cell_type": "markdown",
      "metadata": {
        "id": "yr_Q_bLE68l6"
      },
      "source": [
        "### <span style='color:green'>***Step-6***</span>***:*** <span style='color:red'>***Putting it altogether: Final Model***</span>"
      ]
    },
    {
      "cell_type": "code",
      "metadata": {
        "id": "uc4A4u0268l6"
      },
      "source": [
        "def linear_regression_model(X_train, y_train, X_test, y_test, lr, epochs):\n",
        "    \"\"\"This function puts all the 5 steps altogether and builds the linear regreesion model from scratch.\n",
        "    \n",
        "    Args:\n",
        "       Training and testing data with a learning rate(lr) and iteration(epochs)\n",
        "    Returns:\n",
        "        Training and testing costs and mean absolute errors and also plots them.\n",
        "    \"\"\"\n",
        "    lenw=X_train.shape[0]\n",
        "    w, b=initialize_parameters(lenw) #step1\n",
        "    costs_train=[]\n",
        "    costs_test=[]\n",
        "    MAEs_train=[]\n",
        "    MAEs_test=[]\n",
        "    m_train=y_train.shape[1]\n",
        "    m_test=y_test.shape[1]\n",
        "    \n",
        "    for i in range(1, epochs+1):\n",
        "        #training set\n",
        "        y_pred_train=forward_prop(X_train, w, b) #step2\n",
        "        cost_train=cost_function(y_pred_train, y_train) #step3\n",
        "        dw, db=back_prop(X_train, y_train, y_pred_train) #step4\n",
        "        w, b=gradient_descent(w, b, dw, db, lr) #step5\n",
        "        \n",
        "        if i%10==0:\n",
        "            costs_train.append(cost_train)\n",
        "        MAE_train=(1/m_train)*np.sum(np.abs(y_pred_train-y_train))\n",
        "        if i%10==0:\n",
        "            MAEs_train.append(MAE_train)\n",
        "        \n",
        "        #testing set\n",
        "        y_pred_test=forward_prop(X_test, w, b)\n",
        "        cost_test=cost_function(y_pred_test, y_test)\n",
        "        if i%10==0:\n",
        "            costs_test.append(cost_test)\n",
        "        MAE_test=(1/m_test)*np.sum(np.abs(y_pred_test-y_test))\n",
        "        if i%10==0:\n",
        "            MAEs_test.append(MAE_test)\n",
        "        \n",
        "        print('Epochs '+str(i)+' /'+str(epochs)+': ')\n",
        "        print('Training Cost '+str(cost_train)+'|'+' Testing Cost '+str(cost_test))\n",
        "        print('Training MAE '+str(MAE_train)+'|'+' Testing MAE '+str(MAE_test))\n",
        "    \n",
        "    plt.plot(costs_train, color='orange', label='Training Cost')\n",
        "    plt.plot(costs_test, color='blue', label='Testing Cost')\n",
        "    plt.xlabel('Iterations (per 10)', fontsize=18)\n",
        "    plt.ylabel('Cost', fontsize=18)\n",
        "    plt.title('Learning Rate '+str(lr), fontsize=18)\n",
        "    plt.legend(prop={'size': 15})\n",
        "    plt.tight_layout()\n",
        "    plt.show();\n",
        "    \n",
        "    plt.plot(MAEs_train, color='orange', label='Training Mean Absolute Error')\n",
        "    plt.plot(MAEs_test, color='blue', label='Testing Mean Absolute Error')\n",
        "    plt.xlabel('Iterations (per 10)', fontsize=18)\n",
        "    plt.ylabel('Mean Squared Error', fontsize=18)\n",
        "    plt.title('Learning Rate '+str(lr), fontsize=18)\n",
        "    plt.legend(prop={'size': 15})\n",
        "    plt.tight_layout()\n",
        "    plt.show();"
      ],
      "execution_count": null,
      "outputs": []
    },
    {
      "cell_type": "markdown",
      "metadata": {
        "id": "3GDTV5kl68l7"
      },
      "source": [
        "# Scaling the Independent Features"
      ]
    },
    {
      "cell_type": "code",
      "metadata": {
        "id": "LqlD9k1d68l7"
      },
      "source": [
        "def normalize(X):\n",
        "    \"\"\"Scaling the independent variables.\n",
        "    \n",
        "    Arg:\n",
        "       X: Training and testing independent variables\n",
        "    Returns:\n",
        "       Normalized variables\n",
        "    \"\"\"\n",
        "    X=(X-X.mean())/(X.max()-X.min())\n",
        "    return X"
      ],
      "execution_count": null,
      "outputs": []
    },
    {
      "cell_type": "code",
      "metadata": {
        "id": "SFQNcHVw68l8"
      },
      "source": [
        "X_train=normalize(X_train)\n",
        "X_test=normalize(X_test)"
      ],
      "execution_count": null,
      "outputs": []
    },
    {
      "cell_type": "markdown",
      "metadata": {
        "id": "VUj-mpZF68l9"
      },
      "source": [
        "# Reshaping the Data for the Model"
      ]
    },
    {
      "cell_type": "code",
      "metadata": {
        "id": "X4JzStnD68l9",
        "outputId": "668e3aa8-99d6-43d6-e1b9-fabffbb97a29"
      },
      "source": [
        "X_train.shape, y_train.shape, X_test.shape, y_test.shape"
      ],
      "execution_count": null,
      "outputs": [
        {
          "data": {
            "text/plain": [
              "((736, 5), (736,), (184, 5), (184,))"
            ]
          },
          "execution_count": 17,
          "metadata": {},
          "output_type": "execute_result"
        }
      ]
    },
    {
      "cell_type": "code",
      "metadata": {
        "id": "jGMNa8RR68l9"
      },
      "source": [
        "def reshaping(train_x, train_y, test_x, test_y):\n",
        "    \"\"\"For my Linear Regression model, it requires X_train, X_test=(n_features x n_training_samples) and\n",
        "                                                   y_train, y_test=(1 x m_train where m_train=n_training_samples)\n",
        "    So I have to reshaping the data.\n",
        "    \n",
        "    Args:\n",
        "        Takes the training and testing samples\n",
        "    Returns:\n",
        "        Reshaped data\n",
        "    \"\"\"\n",
        "    train_x=train_x.T\n",
        "    train_y=np.array([train_y])\n",
        "    test_x=test_x.T\n",
        "    test_y=np.array([test_y])\n",
        "    \n",
        "    return train_x, train_y, test_x, test_y"
      ],
      "execution_count": null,
      "outputs": []
    },
    {
      "cell_type": "code",
      "metadata": {
        "id": "QYwmaagq68l9",
        "outputId": "0b4c08c1-0e94-427f-9bbe-83a160f49d60"
      },
      "source": [
        "X_train, y_train, X_test, y_test=reshaping(X_train, y_train, X_test, y_test)\n",
        "X_train.shape, y_train.shape, X_test.shape, y_test.shape"
      ],
      "execution_count": null,
      "outputs": [
        {
          "data": {
            "text/plain": [
              "((5, 736), (1, 736), (5, 184), (1, 184))"
            ]
          },
          "execution_count": 19,
          "metadata": {},
          "output_type": "execute_result"
        }
      ]
    },
    {
      "cell_type": "markdown",
      "metadata": {
        "id": "xRojEPRH68l-"
      },
      "source": [
        "# Calling the Raw Model"
      ]
    },
    {
      "cell_type": "code",
      "metadata": {
        "id": "L3XEbpOW68l-",
        "scrolled": true,
        "outputId": "699e95ad-a76e-4a64-ea97-4eab6b541ddf"
      },
      "source": [
        "linear_regression_model(X_train, y_train, X_test, y_test, lr=0.4, epochs=300)"
      ],
      "execution_count": null,
      "outputs": [
        {
          "name": "stdout",
          "output_type": "stream",
          "text": [
            "Epochs 1 /300: \n",
            "Training Cost 2311.372000956946| Testing Cost 898.9376911780128\n",
            "Training MAE 58.23354951282519| Testing MAE 35.83829041406213\n",
            "Epochs 2 /300: \n",
            "Training Cost 953.4107666396987| Testing Cost 565.2854878564694\n",
            "Training MAE 37.44366319309247| Testing MAE 30.266891125067065\n",
            "Epochs 3 /300: \n",
            "Training Cost 596.7731341273594| Testing Cost 476.01376602157484\n",
            "Training MAE 31.174448737962834| Testing MAE 27.709806881996485\n",
            "Epochs 4 /300: \n",
            "Training Cost 496.346781534044| Testing Cost 446.99333961495074\n",
            "Training MAE 28.294367795471622| Testing MAE 26.273282245755293\n",
            "Epochs 5 /300: \n",
            "Training Cost 461.8059035274857| Testing Cost 432.47707743745497\n",
            "Training MAE 26.674794328153666| Testing MAE 25.444358195876827\n",
            "Epochs 6 /300: \n",
            "Training Cost 444.5191881273394| Testing Cost 421.41288967531125\n",
            "Training MAE 25.732479055389962| Testing MAE 24.92291210045685\n",
            "Epochs 7 /300: \n",
            "Training Cost 432.04538797000475| Testing Cost 411.2855748924572\n",
            "Training MAE 25.153628205027385| Testing MAE 24.525676013886784\n",
            "Epochs 8 /300: \n",
            "Training Cost 421.18726600178746| Testing Cost 401.59816287609806\n",
            "Training MAE 24.71459828914337| Testing MAE 24.19051221728139\n",
            "Epochs 9 /300: \n",
            "Training Cost 411.10948025787457| Testing Cost 392.28829931985945\n",
            "Training MAE 24.347900505340455| Testing MAE 23.89002904806554\n",
            "Epochs 10 /300: \n",
            "Training Cost 401.58083370243895| Testing Cost 383.3645003105026\n",
            "Training MAE 24.021294334241247| Testing MAE 23.61030195799214\n",
            "Epochs 11 /300: \n",
            "Training Cost 392.5252975146876| Testing Cost 374.8336422742187\n",
            "Training MAE 23.718399279940908| Testing MAE 23.344214321332192\n",
            "Epochs 12 /300: \n",
            "Training Cost 383.90729940702863| Testing Cost 366.6926485054853\n",
            "Training MAE 23.430852214577932| Testing MAE 23.088092011182354\n",
            "Epochs 13 /300: \n",
            "Training Cost 375.70238583634193| Testing Cost 358.93146613829373\n",
            "Training MAE 23.154343861053377| Testing MAE 22.840002557677064\n",
            "Epochs 14 /300: \n",
            "Training Cost 367.8896908063654| Testing Cost 351.53636761832826\n",
            "Training MAE 22.88661568780447| Testing MAE 22.598895541743133\n",
            "Epochs 15 /300: \n",
            "Training Cost 360.4499759734259| Testing Cost 344.492052518274\n",
            "Training MAE 22.626447543699353| Testing MAE 22.36416812754415\n",
            "Epochs 16 /300: \n",
            "Training Cost 353.3650954457867| Testing Cost 337.78280047205243\n",
            "Training MAE 22.373145987240957| Testing MAE 22.13544544957152\n",
            "Epochs 17 /300: \n",
            "Training Cost 346.6178261393398| Testing Cost 331.3930602156961\n",
            "Training MAE 22.126285654244974| Testing MAE 21.912469582526896\n",
            "Epochs 18 /300: \n",
            "Training Cost 340.1917931020697| Testing Cost 325.3077339959337\n",
            "Training MAE 21.885578505449654| Testing MAE 21.695043387068054\n",
            "Epochs 19 /300: \n",
            "Training Cost 334.07142062058733| Testing Cost 319.5123042579007\n",
            "Training MAE 21.65080770231003| Testing MAE 21.483002089373244\n",
            "Epochs 20 /300: \n",
            "Training Cost 328.2418913639613| Testing Cost 313.99288058602315\n",
            "Training MAE 21.42179414523844| Testing MAE 21.276198877647808\n",
            "Epochs 21 /300: \n",
            "Training Cost 322.68910896204034| Testing Cost 308.7362070796933\n",
            "Training MAE 21.198379519650143| Testing MAE 21.074497583412303\n",
            "Epochs 22 /300: \n",
            "Training Cost 317.39966277539577| Testing Cost 303.72965056735364\n",
            "Training MAE 20.98185425716691| Testing MAE 20.877768944222165\n",
            "Epochs 23 /300: \n",
            "Training Cost 312.3607944754197| Testing Cost 298.96117993185965\n",
            "Training MAE 20.773328147015047| Testing MAE 20.685888677297264\n",
            "Epochs 24 /300: \n",
            "Training Cost 307.56036627623917| Testing Cost 294.4193416848786\n",
            "Training MAE 20.573729310435557| Testing MAE 20.498736469264333\n",
            "Epochs 25 /300: \n",
            "Training Cost 302.986830720064| Testing Cost 290.0932343391415\n",
            "Training MAE 20.37987036779324| Testing MAE 20.316195429783512\n",
            "Epochs 26 /300: \n",
            "Training Cost 298.62920193571705| Testing Cost 285.9724828261487\n",
            "Training MAE 20.19160387593006| Testing MAE 20.138151780492503\n",
            "Epochs 27 /300: \n",
            "Training Cost 294.4770282974161| Testing Cost 282.04721355446577\n",
            "Training MAE 20.009523532510585| Testing MAE 19.96449466373515\n",
            "Epochs 28 /300: \n",
            "Training Cost 290.5203664152977| Testing Cost 278.3080303774922\n",
            "Training MAE 19.831876459824116| Testing MAE 19.79511601266612\n",
            "Epochs 29 /300: \n",
            "Training Cost 286.7497563927343| Testing Cost 274.7459915771697\n",
            "Training MAE 19.65855357042076| Testing MAE 19.62991045319277\n",
            "Epochs 30 /300: \n",
            "Training Cost 283.15619828871615| Testing Cost 271.35258788991837\n",
            "Training MAE 19.490219902840142| Testing MAE 19.468775222805952\n",
            "Epochs 31 /300: \n",
            "Training Cost 279.73112972659175| Testing Cost 268.11972156213096\n",
            "Training MAE 19.32700185976417| Testing MAE 19.31161009872552\n",
            "Epochs 32 /300: \n",
            "Training Cost 276.46640459332446| Testing Cost 265.0396864042566\n",
            "Training MAE 19.168385595981267| Testing MAE 19.1593135968872\n",
            "Epochs 33 /300: \n",
            "Training Cost 273.3542727761425| Testing Cost 262.1051488044987\n",
            "Training MAE 19.01707628247305| Testing MAE 19.020034900175347\n",
            "Epochs 34 /300: \n",
            "Training Cost 270.38736088605026| Testing Cost 259.30912966027586\n",
            "Training MAE 18.870555034030865| Testing MAE 18.884183876590416\n",
            "Epochs 35 /300: \n",
            "Training Cost 267.55865392012885| Testing Cost 256.6449871852308\n",
            "Training MAE 18.72805916105791| Testing MAE 18.75463856945332\n",
            "Epochs 36 /300: \n",
            "Training Cost 264.86147781689687| Testing Cost 254.10640055041938\n",
            "Training MAE 18.589497296818124| Testing MAE 18.629781626132516\n",
            "Epochs 37 /300: \n",
            "Training Cost 262.2894828612284| Testing Cost 251.68735431972127\n",
            "Training MAE 18.461211656135294| Testing MAE 18.508218160356986\n",
            "Epochs 38 /300: \n",
            "Training Cost 259.83662789744676| Testing Cost 249.3821236411496\n",
            "Training MAE 18.339625923113985| Testing MAE 18.389746714278004\n",
            "Epochs 39 /300: \n",
            "Training Cost 257.49716531122687| Testing Cost 247.18526015745363\n",
            "Training MAE 18.220972003061178| Testing MAE 18.274188315377238\n",
            "Epochs 40 /300: \n",
            "Training Cost 255.2656267428571| Testing Cost 245.09157860110932\n",
            "Training MAE 18.10517793932511| Testing MAE 18.16147131026835\n",
            "Epochs 41 /300: \n",
            "Training Cost 253.1368094962369| Testing Cost 243.0961440404531\n",
            "Training MAE 17.992173547258783| Testing MAE 18.051525810312054\n",
            "Epochs 42 /300: \n",
            "Training Cost 251.10576360971982| Testing Cost 241.19425974531424\n",
            "Training MAE 17.88189037053249| Testing MAE 17.94428364811592\n",
            "Epochs 43 /300: \n",
            "Training Cost 249.16777955656522| Testing Cost 239.38145564202935\n",
            "Training MAE 17.774261638528692| Testing MAE 17.83967833510889\n",
            "Epochs 44 /300: \n",
            "Training Cost 247.3183765443297| Testing Cost 237.65347732918377\n",
            "Training MAE 17.669222224789955| Testing MAE 17.737645020162937\n",
            "Epochs 45 /300: \n",
            "Training Cost 245.55329138402536| Testing Cost 236.00627562681692\n",
            "Training MAE 17.566708606492668| Testing MAE 17.638120449235576\n",
            "Epochs 46 /300: \n",
            "Training Cost 243.8684679012921| Testing Cost 234.43599663315328\n",
            "Training MAE 17.466658824920756| Testing MAE 17.541042926007588\n",
            "Epochs 47 /300: \n",
            "Training Cost 242.26004686318305| Testing Cost 232.93897226418255\n",
            "Training MAE 17.369012446914233| Testing MAE 17.446352273491474\n",
            "Epochs 48 /300: \n",
            "Training Cost 240.72435639544955| Testing Cost 231.51171125261325\n",
            "Training MAE 17.273710527268516| Testing MAE 17.35398979658651\n",
            "Epochs 49 /300: \n",
            "Training Cost 239.25790286643323| Testing Cost 230.1508905838649\n",
            "Training MAE 17.180695572060888| Testing MAE 17.263898245557044\n",
            "Epochs 50 /300: \n",
            "Training Cost 237.85736221483958| Testing Cost 228.85334734785226\n",
            "Training MAE 17.090677894320805| Testing MAE 17.176021780411297\n",
            "Epochs 51 /300: \n",
            "Training Cost 236.51957169977155| Testing Cost 227.61607098634667\n",
            "Training MAE 17.010900329513692| Testing MAE 17.09030593615838\n",
            "Epochs 52 /300: \n",
            "Training Cost 235.24152205245747| Testing Cost 226.43619591668585\n",
            "Training MAE 16.933516938779537| Testing MAE 17.006697588921945\n",
            "Epochs 53 /300: \n",
            "Training Cost 234.0203500101066| Testing Cost 225.3109945135354\n",
            "Training MAE 16.857991179656658| Testing MAE 16.925144922889288\n",
            "Epochs 54 /300: \n",
            "Training Cost 232.85333121328293| Testing Cost 224.23787043129883\n",
            "Training MAE 16.784590665558845| Testing MAE 16.845597398075256\n",
            "Epochs 55 /300: \n",
            "Training Cost 231.73787344908914| Testing Cost 223.2143522506172\n",
            "Training MAE 16.713035197023434| Testing MAE 16.768005718881035\n",
            "Epochs 56 /300: \n",
            "Training Cost 230.67151022332047| Testing Cost 222.2380874332067\n",
            "Training MAE 16.64319311495949| Testing MAE 16.69271712737774\n",
            "Epochs 57 /300: \n",
            "Training Cost 229.6518946455639| Testing Cost 221.3068365700466\n",
            "Training MAE 16.57553383735347| Testing MAE 16.62163693134861\n",
            "Epochs 58 /300: \n",
            "Training Cost 228.67679361200288| Testing Cost 220.41846790866254\n",
            "Training MAE 16.51335627083828| Testing MAE 16.552324516034393\n",
            "Epochs 59 /300: \n",
            "Training Cost 227.74408227142655| Testing Cost 219.57095214593838\n",
            "Training MAE 16.453231699134523| Testing MAE 16.488177002575473\n",
            "Epochs 60 /300: \n",
            "Training Cost 226.8517387606514| Testing Cost 218.76235747355634\n",
            "Training MAE 16.39494285314129| Testing MAE 16.426366077155116\n",
            "Epochs 61 /300: \n",
            "Training Cost 225.99783919623394| Testing Cost 217.9908448637859\n",
            "Training MAE 16.340893539128263| Testing MAE 16.366092664470802\n",
            "Epochs 62 /300: \n",
            "Training Cost 225.1805529099922| Testing Cost 217.25466358394482\n",
            "Training MAE 16.28878078777432| Testing MAE 16.308589365203737\n",
            "Epochs 63 /300: \n",
            "Training Cost 224.398137916462| Testing Cost 216.55214692841938\n",
            "Training MAE 16.237927767594186| Testing MAE 16.252982587742874\n",
            "Epochs 64 /300: \n",
            "Training Cost 223.64893660099312| Testing Cost 215.88170815767452\n",
            "Training MAE 16.189110219163886| Testing MAE 16.19876322637717\n",
            "Epochs 65 /300: \n",
            "Training Cost 222.9313716177387| Testing Cost 215.2418366341964\n",
            "Training MAE 16.141963436981715| Testing MAE 16.145897067737618\n",
            "Epochs 66 /300: \n",
            "Training Cost 222.24394198731707| Testing Cost 214.6310941458005\n",
            "Training MAE 16.096489968597012| Testing MAE 16.09527491944774\n",
            "Epochs 67 /300: \n",
            "Training Cost 221.5852193844217| Testing Cost 214.0481114072028\n",
            "Training MAE 16.05233134310935| Testing MAE 16.05081208167015\n",
            "Epochs 68 /300: \n",
            "Training Cost 220.9538446061284| Testing Cost 213.49158473119465\n",
            "Training MAE 16.00948253772401| Testing MAE 16.007467733491342\n",
            "Epochs 69 /300: \n",
            "Training Cost 220.3485242121006| Testing Cost 212.96027286118272\n",
            "Training MAE 15.967984799323538| Testing MAE 15.965214182752318\n",
            "Epochs 70 /300: \n",
            "Training Cost 219.76802732832098| Testing Cost 212.45299395725652\n",
            "Training MAE 15.927613840845916| Testing MAE 15.92402442104994\n",
            "Epochs 71 /300: \n",
            "Training Cost 219.2111826063869| Testing Cost 211.968622728327\n",
            "Training MAE 15.888350830457728| Testing MAE 15.883872106865535\n",
            "Epochs 72 /300: \n",
            "Training Cost 218.67687533079308| Testing Cost 211.5060877032409\n",
            "Training MAE 15.851738686090037| Testing MAE 15.844731549109587\n",
            "Epochs 73 /300: \n",
            "Training Cost 218.16404466699626| Testing Cost 211.06436863412364\n",
            "Training MAE 15.816038383023653| Testing MAE 15.806577691072441\n",
            "Epochs 74 /300: \n",
            "Training Cost 217.67168104340467| Testing Cost 210.64249402552804\n",
            "Training MAE 15.781181655731455| Testing MAE 15.77056625879068\n",
            "Epochs 75 /300: \n",
            "Training Cost 217.19882366077277| Testing Cost 210.23953878328132\n",
            "Training MAE 15.747147718381555| Testing MAE 15.737672568427673\n",
            "Epochs 76 /300: \n",
            "Training Cost 216.74455812279595| Testing Cost 209.85462197721708\n",
            "Training MAE 15.71530527345778| Testing MAE 15.705611735174212\n",
            "Epochs 77 /300: \n",
            "Training Cost 216.30801418200366| Testing Cost 209.48690471226513\n",
            "Training MAE 15.684503434829129| Testing MAE 15.675644603535883\n",
            "Epochs 78 /300: \n",
            "Training Cost 215.8883635953373| Testing Cost 209.1355881026362\n",
            "Training MAE 15.654423456208054| Testing MAE 15.64725798460538\n",
            "Epochs 79 /300: \n",
            "Training Cost 215.48481808407132| Testing Cost 208.79991134409912\n",
            "Training MAE 15.62594138212583| Testing MAE 15.619591514534925\n",
            "Epochs 80 /300: \n",
            "Training Cost 215.09662739299776| Testing Cost 208.479149879587\n",
            "Training MAE 15.600498551101687| Testing MAE 15.592627294959817\n",
            "Epochs 81 /300: \n",
            "Training Cost 214.72307744403992| Testing Cost 208.17261365360415\n",
            "Training MAE 15.576098443600031| Testing MAE 15.566347870244028\n",
            "Epochs 82 /300: \n",
            "Training Cost 214.363488579698| Testing Cost 207.8796454511224\n",
            "Training MAE 15.552988458490113| Testing MAE 15.540736216546826\n",
            "Epochs 83 /300: \n",
            "Training Cost 214.01721389195347| Testing Cost 207.5996193168677\n",
            "Training MAE 15.530411813537887| Testing MAE 15.51577573115918\n",
            "Epochs 84 /300: \n",
            "Training Cost 213.68363763246973| Testing Cost 207.3319390510951\n",
            "Training MAE 15.508355369282068| Testing MAE 15.493987386627548\n",
            "Epochs 85 /300: \n",
            "Training Cost 213.36217370013233| Testing Cost 207.07603677814063\n",
            "Training MAE 15.486806311468117| Testing MAE 15.472758098238288\n",
            "Epochs 86 /300: \n",
            "Training Cost 213.05226420216272| Testing Cost 206.83137158422014\n",
            "Training MAE 15.46575214301| Testing MAE 15.45206072771095\n",
            "Epochs 87 /300: \n",
            "Training Cost 212.75337808522357| Testing Cost 206.59742822111374\n",
            "Training MAE 15.445180676150464| Testing MAE 15.431882094826594\n",
            "Epochs 88 /300: \n",
            "Training Cost 212.46500983310875| Testing Cost 206.37371587254117\n",
            "Training MAE 15.425080024814836| Testing MAE 15.412209345039637\n",
            "Epochs 89 /300: \n",
            "Training Cost 212.18667822777462| Testing Cost 206.15976698018656\n",
            "Training MAE 15.40543859715362| Testing MAE 15.39302994143891\n",
            "Epochs 90 /300: \n",
            "Training Cost 211.91792517063155| Testing Cost 205.9551361264787\n",
            "Training MAE 15.386245088269257| Testing MAE 15.374331656906975\n",
            "Epochs 91 /300: \n",
            "Training Cost 211.6583145611598| Testing Cost 205.7593989713758\n",
            "Training MAE 15.36748847312248| Testing MAE 15.356102566472979\n",
            "Epochs 92 /300: \n",
            "Training Cost 211.4074312300604| Testing Cost 205.57215124053437\n",
            "Training MAE 15.349157999613784| Testing MAE 15.338331039854154\n",
            "Epochs 93 /300: \n",
            "Training Cost 211.16487992428577| Testing Cost 205.39300776237118\n",
            "Training MAE 15.331243181835772| Testing MAE 15.321005734181346\n",
            "Epochs 94 /300: \n",
            "Training Cost 210.930284341425| Testing Cost 205.22160155164772\n",
            "Training MAE 15.313733793492117| Testing MAE 15.304115586904055\n",
            "Epochs 95 /300: \n",
            "Training Cost 210.7032862110411| Testing Cost 205.0575829373215\n",
            "Training MAE 15.296619861479037| Testing MAE 15.287649808870508\n",
            "Epochs 96 /300: \n",
            "Training Cost 210.48354442067418| Testing Cost 204.90061873251864\n",
            "Training MAE 15.279891659625235| Testing MAE 15.271597877578484\n",
            "Epochs 97 /300: \n",
            "Training Cost 210.27073418433824| Testing Cost 204.75039144458526\n",
            "Training MAE 15.263539702586494| Testing MAE 15.255949530592687\n",
            "Epochs 98 /300: \n",
            "Training Cost 210.06454625144053| Testing Cost 204.60659852327646\n",
            "Training MAE 15.247554739890955| Testing MAE 15.240694759124528\n",
            "Epochs 99 /300: \n",
            "Training Cost 209.86468615415865| Testing Cost 204.46895164523337\n",
            "Training MAE 15.231927750131534| Testing MAE 15.225823801770314\n",
            "Epochs 100 /300: \n",
            "Training Cost 209.67087349140175| Testing Cost 204.3371760329907\n",
            "Training MAE 15.216649935301703| Testing MAE 15.211327138403977\n",
            "Epochs 101 /300: \n",
            "Training Cost 209.4828412475763| Testing Cost 204.21100980684162\n",
            "Training MAE 15.201712715271197| Testing MAE 15.197195484220455\n",
            "Epochs 102 /300: \n",
            "Training Cost 209.30033514446174| Testing Cost 204.0902033679676\n",
            "Training MAE 15.187107722398116| Testing MAE 15.183419783926078\n",
            "Epochs 103 /300: \n",
            "Training Cost 209.12311302458556| Testing Cost 203.97451881131974\n",
            "Training MAE 15.172826796274087| Testing MAE 15.169991206072334\n",
            "Epochs 104 /300: \n",
            "Training Cost 208.9509442645639| Testing Cost 203.86372936680974\n",
            "Training MAE 15.158861978599248| Testing MAE 15.15690113752938\n",
            "Epochs 105 /300: \n",
            "Training Cost 208.78360921694994| Testing Cost 203.75761886743942\n",
            "Training MAE 15.14520550818379| Testing MAE 15.144141178095992\n",
            "Epochs 106 /300: \n",
            "Training Cost 208.62089867920304| Testing Cost 203.65598124306538\n",
            "Training MAE 15.131849816072936| Testing MAE 15.131703135242486\n",
            "Epochs 107 /300: \n",
            "Training Cost 208.46261338845792| Testing Cost 203.55862003855654\n",
            "Training MAE 15.11878752079232| Testing MAE 15.119579018983348\n",
            "Epochs 108 /300: \n",
            "Training Cost 208.3085635408399| Testing Cost 203.46534795516385\n",
            "Training MAE 15.106011423710843| Testing MAE 15.10776103687642\n",
            "Epochs 109 /300: \n",
            "Training Cost 208.15856833413028| Testing Cost 203.37598641397918\n",
            "Training MAE 15.09351450451803| Testing MAE 15.096241589145471\n",
            "Epochs 110 /300: \n",
            "Training Cost 208.01245553264664| Testing Cost 203.2903651404136\n",
            "Training MAE 15.081289916813109| Testing MAE 15.085013263923113\n",
            "Epochs 111 /300: \n",
            "Training Cost 207.87006105325761| Testing Cost 203.20832176867856\n",
            "Training MAE 15.06933098380304| Testing MAE 15.074068832611111\n",
            "Epochs 112 /300: \n",
            "Training Cost 207.7312285715021| Testing Cost 203.12970146530137\n",
            "Training MAE 15.057631194106786| Testing MAE 15.063401245355209\n",
            "Epochs 113 /300: \n",
            "Training Cost 207.5958091468372| Testing Cost 203.05435657075455\n",
            "Training MAE 15.04618419766327| Testing MAE 15.053003626631579\n",
            "Epochs 114 /300: \n",
            "Training Cost 207.46366086608222| Testing Cost 202.9821462583231\n",
            "Training MAE 15.034983801740383| Testing MAE 15.042869270942228\n",
            "Epochs 115 /300: \n",
            "Training Cost 207.3346485041746| Testing Cost 202.9129362093755\n",
            "Training MAE 15.024023967042565| Testing MAE 15.032991638616581\n",
            "Epochs 116 /300: \n",
            "Training Cost 207.2086432013956| Testing Cost 202.8465983042452\n",
            "Training MAE 15.013298803914592| Testing MAE 15.023364351716731\n",
            "Epochs 117 /300: \n",
            "Training Cost 207.08552215626412| Testing Cost 202.78301032796844\n",
            "Training MAE 15.002802568639071| Testing MAE 15.013981190043669\n",
            "Epochs 118 /300: \n",
            "Training Cost 206.965168333337| Testing Cost 202.72205569015964\n",
            "Training MAE 14.992529659825475| Testing MAE 15.004836087242124\n",
            "Epochs 119 /300: \n",
            "Training Cost 206.8474701851902| Testing Cost 202.6636231583409\n",
            "Training MAE 14.982474614888345| Testing MAE 14.995923127001497\n",
            "Epochs 120 /300: \n",
            "Training Cost 206.7323213878921| Testing Cost 202.60760660407604\n",
            "Training MAE 14.972632106612476| Testing MAE 14.987236539350558\n",
            "Epochs 121 /300: \n",
            "Training Cost 206.61962058931178| Testing Cost 202.55390476129026\n",
            "Training MAE 14.962996939803034| Testing MAE 14.978770697043597\n",
            "Epochs 122 /300: \n",
            "Training Cost 206.50927116963808| Testing Cost 202.50242099618606\n",
            "Training MAE 14.953564048018357| Testing MAE 14.970520112035718\n",
            "Epochs 123 /300: \n",
            "Training Cost 206.4011810135169| Testing Cost 202.45306308819667\n",
            "Training MAE 14.94432849038353| Testing MAE 14.962479432045184\n",
            "Epochs 124 /300: \n",
            "Training Cost 206.29526229323994| Testing Cost 202.40574302144222\n",
            "Training MAE 14.935285448482668| Testing MAE 14.954643437200517\n",
            "Epochs 125 /300: \n",
            "Training Cost 206.19143126244904| Testing Cost 202.36037678618337\n",
            "Training MAE 14.926430223327985| Testing MAE 14.947007036770401\n",
            "Epochs 126 /300: \n",
            "Training Cost 206.08960805984387| Testing Cost 202.31688418978803\n",
            "Training MAE 14.917758232403756| Testing MAE 14.939565265974302\n",
            "Epochs 127 /300: \n",
            "Training Cost 205.98971652240706| Testing Cost 202.2751886767536\n",
            "Training MAE 14.909306966629263| Testing MAE 14.932313282871728\n",
            "Epochs 128 /300: \n",
            "Training Cost 205.89168400768403| Testing Cost 202.2352171573464\n",
            "Training MAE 14.901030333558122| Testing MAE 14.925246365328332\n",
            "Epochs 129 /300: \n",
            "Training Cost 205.79544122467718| Testing Cost 202.19689984444338\n",
            "Training MAE 14.892979911459584| Testing MAE 14.918359908056859\n",
            "Epochs 130 /300: \n",
            "Training Cost 205.7009220729356| Testing Cost 202.16017009818034\n",
            "Training MAE 14.885106838472705| Testing MAE 14.911649419731114\n",
            "Epochs 131 /300: \n",
            "Training Cost 205.60806348944234| Testing Cost 202.12496427802964\n",
            "Training MAE 14.87739396535628| Testing MAE 14.905110520171176\n",
            "Epochs 132 /300: \n",
            "Training Cost 205.51680530291964| Testing Cost 202.0912216019498\n",
            "Training MAE 14.869837393842923| Testing MAE 14.898738937598097\n",
            "Epochs 133 /300: \n",
            "Training Cost 205.42709009519254| Testing Cost 202.0588840122661\n",
            "Training MAE 14.862433322285886| Testing MAE 14.892530505956291\n",
            "Epochs 134 /300: \n",
            "Training Cost 205.3388630692666| Testing Cost 202.0278960479569\n",
            "Training MAE 14.855183234554744| Testing MAE 14.886481162302106\n",
            "Epochs 135 /300: \n",
            "Training Cost 205.25207192379426| Testing Cost 201.99820472303844\n",
            "Training MAE 14.848208919131748| Testing MAE 14.880586944256748\n",
            "Epochs 136 /300: \n",
            "Training Cost 205.16666673361934| Testing Cost 201.9697594107528\n",
            "Training MAE 14.841373064722463| Testing MAE 14.874843987522166\n",
            "Epochs 137 /300: \n",
            "Training Cost 205.08259983610435| Testing Cost 201.9425117332809\n",
            "Training MAE 14.834672306059925| Testing MAE 14.869248523458149\n",
            "Epochs 138 /300: \n",
            "Training Cost 204.99982572295897| Testing Cost 201.91641545671345\n",
            "Training MAE 14.828103361383095| Testing MAE 14.863796876719318\n",
            "Epochs 139 /300: \n",
            "Training Cost 204.91830093730397| Testing Cost 201.8914263910274\n",
            "Training MAE 14.821663030367962| Testing MAE 14.858485462950387\n",
            "Epochs 140 /300: \n",
            "Training Cost 204.8379839757142| Testing Cost 201.86750229482703\n",
            "Training MAE 14.815348192109829| Testing MAE 14.853310786538325\n",
            "Epochs 141 /300: \n",
            "Training Cost 204.75883519500084| Testing Cost 201.84460278461958\n",
            "Training MAE 14.809155803155427| Testing MAE 14.848269438419994\n",
            "Epochs 142 /300: \n",
            "Training Cost 204.680816723501| Testing Cost 201.8226892484085\n",
            "Training MAE 14.803082895583731| Testing MAE 14.843358093943898\n",
            "Epochs 143 /300: \n",
            "Training Cost 204.60389237665723| Testing Cost 201.80172476339592\n",
            "Training MAE 14.797126575134168| Testing MAE 14.838573510784753\n",
            "Epochs 144 /300: \n",
            "Training Cost 204.52802757667735| Testing Cost 201.78167401759703\n",
            "Training MAE 14.791284019381187| Testing MAE 14.833912526909444\n",
            "Epochs 145 /300: \n",
            "Training Cost 204.45318927607727| Testing Cost 201.76250323517817\n",
            "Training MAE 14.785552475953864| Testing MAE 14.829372058593293\n"
          ]
        },
        {
          "name": "stdout",
          "output_type": "stream",
          "text": [
            "Epochs 146 /300: \n",
            "Training Cost 204.37934588491842| Testing Cost 201.74418010534038\n",
            "Training MAE 14.779929260799616| Testing MAE 14.824949098485206\n",
            "Epochs 147 /300: \n",
            "Training Cost 204.30646720155934| Testing Cost 201.726673714577\n",
            "Training MAE 14.774411756490789| Testing MAE 14.820640713720634\n",
            "Epochs 148 /300: \n",
            "Training Cost 204.23452434675218| Testing Cost 201.70995448214458\n",
            "Training MAE 14.768997410573167| Testing MAE 14.816444044081095\n",
            "Epochs 149 /300: \n",
            "Training Cost 204.1634897009207| Testing Cost 201.69399409859147\n",
            "Training MAE 14.763683733955265| Testing MAE 14.812356300199124\n",
            "Epochs 150 /300: \n",
            "Training Cost 204.0933368444662| Testing Cost 201.67876546719913\n",
            "Training MAE 14.758482326012555| Testing MAE 14.808374761807539\n",
            "Epochs 151 /300: \n",
            "Training Cost 204.0240405009537| Testing Cost 201.6642426481943\n",
            "Training MAE 14.753471884983728| Testing MAE 14.80449677603193\n",
            "Epochs 152 /300: \n",
            "Training Cost 203.95557648303918| Testing Cost 201.65040080560127\n",
            "Training MAE 14.748554256795234| Testing MAE 14.800719755725279\n",
            "Epochs 153 /300: \n",
            "Training Cost 203.88792164100428| Testing Cost 201.63721615660586\n",
            "Training MAE 14.743727202006212| Testing MAE 14.79704117784373\n",
            "Epochs 154 /300: \n",
            "Training Cost 203.82105381377323| Testing Cost 201.62466592331245\n",
            "Training MAE 14.738988536814027| Testing MAE 14.793458581862382\n",
            "Epochs 155 /300: \n",
            "Training Cost 203.75495178228942| Testing Cost 201.61272828677767\n",
            "Training MAE 14.734336131674155| Testing MAE 14.78996956823029\n",
            "Epochs 156 /300: \n",
            "Training Cost 203.6895952251397| Testing Cost 201.60138234321312\n",
            "Training MAE 14.729767909954287| Testing MAE 14.78657179686353\n",
            "Epochs 157 /300: \n",
            "Training Cost 203.62496467631544| Testing Cost 201.590608062253\n",
            "Training MAE 14.725281846621659| Testing MAE 14.783262985675472\n",
            "Epochs 158 /300: \n",
            "Training Cost 203.56104148500793| Testing Cost 201.5803862471871\n",
            "Training MAE 14.720875966962886| Testing MAE 14.780040909143395\n",
            "Epochs 159 /300: \n",
            "Training Cost 203.49780777733852| Testing Cost 201.57069849706596\n",
            "Training MAE 14.71654834533547| Testing MAE 14.776903396910392\n",
            "Epochs 160 /300: \n",
            "Training Cost 203.435246419931| Testing Cost 201.5615271705882\n",
            "Training MAE 14.712297103950192| Testing MAE 14.773848332421904\n",
            "Epochs 161 /300: \n",
            "Training Cost 203.37334098523513| Testing Cost 201.5528553516856\n",
            "Training MAE 14.708120411683614| Testing MAE 14.770873651595835\n",
            "Epochs 162 /300: \n",
            "Training Cost 203.31207571851894| Testing Cost 201.54466681672372\n",
            "Training MAE 14.704016482920002| Testing MAE 14.767977341525494\n",
            "Epochs 163 /300: \n",
            "Training Cost 203.25143550644597| Testing Cost 201.5369460032413\n",
            "Training MAE 14.69998357642184| Testing MAE 14.765157439214644\n",
            "Epochs 164 /300: \n",
            "Training Cost 203.19140584716337| Testing Cost 201.52967798015615\n",
            "Training MAE 14.696019994228386| Testing MAE 14.76241203034367\n",
            "Epochs 165 /300: \n",
            "Training Cost 203.13197282182583| Testing Cost 201.52284841936535\n",
            "Training MAE 14.692124080581385| Testing MAE 14.759739248066309\n",
            "Epochs 166 /300: \n",
            "Training Cost 203.07312306748676| Testing Cost 201.51644356867547\n",
            "Training MAE 14.68829422087743| Testing MAE 14.757137271836019\n",
            "Epochs 167 /300: \n",
            "Training Cost 203.01484375129027| Testing Cost 201.51045022599777\n",
            "Training MAE 14.684528840646232| Testing MAE 14.754604326261365\n",
            "Epochs 168 /300: \n",
            "Training Cost 202.9571225459009| Testing Cost 201.50485571474908\n",
            "Training MAE 14.68082640455419| Testing MAE 14.75213867998966\n",
            "Epochs 169 /300: \n",
            "Training Cost 202.8999476061109| Testing Cost 201.4996478604008\n",
            "Training MAE 14.677185415432596| Testing MAE 14.74973864461812\n",
            "Epochs 170 /300: \n",
            "Training Cost 202.84330754656904| Testing Cost 201.4948149681208\n",
            "Training MAE 14.674077827582007| Testing MAE 14.74740257363201\n",
            "Epochs 171 /300: \n",
            "Training Cost 202.78719142057537| Testing Cost 201.49034580145718\n",
            "Training MAE 14.671144477122226| Testing MAE 14.74512886136889\n",
            "Epochs 172 /300: \n",
            "Training Cost 202.73158869989152| Testing Cost 201.48622956201297\n",
            "Training MAE 14.668255236134106| Testing MAE 14.742915942008528\n",
            "Epochs 173 /300: \n",
            "Training Cost 202.6764892555165| Testing Cost 201.4824558700668\n",
            "Training MAE 14.66540903905196| Testing MAE 14.740762288587684\n",
            "Epochs 174 /300: \n",
            "Training Cost 202.6218833393822| Testing Cost 201.47901474609193\n",
            "Training MAE 14.662604847302784| Testing MAE 14.738666412039294\n",
            "Epochs 175 /300: \n",
            "Training Cost 202.5677615669233| Testing Cost 201.47589659313368\n",
            "Training MAE 14.65984164862914| Testing MAE 14.736626860255306\n",
            "Epochs 176 /300: \n",
            "Training Cost 202.5141149004797| Testing Cost 201.47309218000237\n",
            "Training MAE 14.657118456428957| Testing MAE 14.734642217172716\n",
            "Epochs 177 /300: \n",
            "Training Cost 202.46093463349138| Testing Cost 201.47059262524434\n",
            "Training MAE 14.654434309111691| Testing MAE 14.73271110188213\n",
            "Epochs 178 /300: \n",
            "Training Cost 202.40821237544708| Testing Cost 201.46838938185385\n",
            "Training MAE 14.651788269470522| Testing MAE 14.730832167758386\n",
            "Epochs 179 /300: \n",
            "Training Cost 202.35594003755068| Testing Cost 201.46647422269075\n",
            "Training MAE 14.649179424070232| Testing MAE 14.72900410161259\n",
            "Epochs 180 /300: \n",
            "Training Cost 202.30410981907033| Testing Cost 201.4648392265706\n",
            "Training MAE 14.646606882650179| Testing MAE 14.727225622865129\n",
            "Epochs 181 /300: \n",
            "Training Cost 202.2527141943375| Testing Cost 201.46347676499502\n",
            "Training MAE 14.644069777542283| Testing MAE 14.725495482739127\n",
            "Epochs 182 /300: \n",
            "Training Cost 202.20174590036478| Testing Cost 201.46237948949297\n",
            "Training MAE 14.641567263103392| Testing MAE 14.72381246347374\n",
            "Epochs 183 /300: \n",
            "Training Cost 202.15119792505217| Testing Cost 201.46154031954282\n",
            "Training MAE 14.639098515161816| Testing MAE 14.72217537755697\n",
            "Epochs 184 /300: \n",
            "Training Cost 202.10106349595378| Testing Cost 201.46095243104892\n",
            "Training MAE 14.63666273047765| Testing MAE 14.72058306697739\n",
            "Epochs 185 /300: \n",
            "Training Cost 202.0513360695776| Testing Cost 201.46060924534615\n",
            "Training MAE 14.634259126216502| Testing MAE 14.719034402494309\n",
            "Epochs 186 /300: \n",
            "Training Cost 202.0020093211934| Testing Cost 201.4605044187067\n",
            "Training MAE 14.63188693943635| Testing MAE 14.717528282926047\n",
            "Epochs 187 /300: \n",
            "Training Cost 201.95307713512287| Testing Cost 201.46063183232746\n",
            "Training MAE 14.62954542658719| Testing MAE 14.716063634455692\n",
            "Epochs 188 /300: \n",
            "Training Cost 201.90453359549034| Testing Cost 201.46098558277274\n",
            "Training MAE 14.627233863023102| Testing MAE 14.714639409954096\n",
            "Epochs 189 /300: \n",
            "Training Cost 201.85637297741062| Testing Cost 201.4615599728536\n",
            "Training MAE 14.624951542526528| Testing MAE 14.713254588319534\n",
            "Epochs 190 /300: \n",
            "Training Cost 201.8085897385939| Testing Cost 201.462349502921\n",
            "Training MAE 14.622697776844362| Testing MAE 14.711908173833688\n",
            "Epochs 191 /300: \n",
            "Training Cost 201.76117851134666| Testing Cost 201.4633488625548\n",
            "Training MAE 14.62047189523561| Testing MAE 14.710599195533518\n",
            "Epochs 192 /300: \n",
            "Training Cost 201.71413409495037| Testing Cost 201.4645529226295\n",
            "Training MAE 14.61827324403032| Testing MAE 14.709326706598715\n",
            "Epochs 193 /300: \n",
            "Training Cost 201.66745144839953| Testing Cost 201.46595672773907\n",
            "Training MAE 14.616101186199534| Testing MAE 14.708089783754199\n",
            "Epochs 194 /300: \n",
            "Training Cost 201.62112568348124| Testing Cost 201.46755548896408\n",
            "Training MAE 14.613955100935922| Testing MAE 14.706887526687431\n",
            "Epochs 195 /300: \n",
            "Training Cost 201.575152058181| Testing Cost 201.46934457696523\n",
            "Training MAE 14.611834383244881| Testing MAE 14.70571905748011\n",
            "Epochs 196 /300: \n",
            "Training Cost 201.52952597039774| Testing Cost 201.47131951538742\n",
            "Training MAE 14.609738443545863| Testing MAE 14.704583520053886\n",
            "Epochs 197 /300: \n",
            "Training Cost 201.48424295195443| Testing Cost 201.47347597456144\n",
            "Training MAE 14.607666707283576| Testing MAE 14.703528021948147\n",
            "Epochs 198 /300: \n",
            "Training Cost 201.43929866288923| Testing Cost 201.4758097654871\n",
            "Training MAE 14.605618614548975| Testing MAE 14.702713414917532\n",
            "Epochs 199 /300: \n",
            "Training Cost 201.394688886014| Testing Cost 201.4783168340866\n",
            "Training MAE 14.603593619709642| Testing MAE 14.701923672599966\n",
            "Epochs 200 /300: \n",
            "Training Cost 201.3504095217276| Testing Cost 201.4809932557145\n",
            "Training MAE 14.60159119104938| Testing MAE 14.701158140359379\n",
            "Epochs 201 /300: \n",
            "Training Cost 201.30645658307137| Testing Cost 201.4838352299131\n",
            "Training MAE 14.599610810416868| Testing MAE 14.700416180139664\n",
            "Epochs 202 /300: \n",
            "Training Cost 201.26282619101497| Testing Cost 201.4868390754007\n",
            "Training MAE 14.59765197288302| Testing MAE 14.699697170050811\n",
            "Epochs 203 /300: \n",
            "Training Cost 201.21951456996263| Testing Cost 201.4900012252832\n",
            "Training MAE 14.595714186406923| Testing MAE 14.699000503965415\n",
            "Epochs 204 /300: \n",
            "Training Cost 201.17651804346804| Testing Cost 201.49331822247834\n",
            "Training MAE 14.593796971510123| Testing MAE 14.698325591125116\n",
            "Epochs 205 /300: \n",
            "Training Cost 201.13383303014842| Testing Cost 201.49678671534133\n",
            "Training MAE 14.591899860959025| Testing MAE 14.697671855756832\n",
            "Epochs 206 /300: \n",
            "Training Cost 201.09145603978808| Testing Cost 201.5004034534849\n",
            "Training MAE 14.590022399455236| Testing MAE 14.697038736698499\n",
            "Epochs 207 /300: \n",
            "Training Cost 201.04938366962293| Testing Cost 201.50416528378335\n",
            "Training MAE 14.58816414333365| Testing MAE 14.696425687034111\n",
            "Epochs 208 /300: \n",
            "Training Cost 201.00761260079636| Testing Cost 201.5080691465517\n",
            "Training MAE 14.586324660268064| Testing MAE 14.695832173737795\n",
            "Epochs 209 /300: \n",
            "Training Cost 200.96613959497913| Testing Cost 201.51211207189328\n",
            "Training MAE 14.584503528984147| Testing MAE 14.695257677326733\n",
            "Epochs 210 /300: \n",
            "Training Cost 200.92496149114524| Testing Cost 201.51629117620675\n",
            "Training MAE 14.58273294675401| Testing MAE 14.694701691522665\n",
            "Epochs 211 /300: \n",
            "Training Cost 200.8840752024958| Testing Cost 201.52060365884577\n",
            "Training MAE 14.581027127840319| Testing MAE 14.694163722921864\n",
            "Epochs 212 /300: \n",
            "Training Cost 200.84347771352455| Testing Cost 201.52504679892448\n",
            "Training MAE 14.579338473247288| Testing MAE 14.693643290673203\n",
            "Epochs 213 /300: \n",
            "Training Cost 200.80316607721807| Testing Cost 201.5296179522615\n",
            "Training MAE 14.577666596551076| Testing MAE 14.69313992616428\n",
            "Epochs 214 /300: \n",
            "Training Cost 200.76313741238394| Testing Cost 201.5343145484566\n",
            "Training MAE 14.57601112123253| Testing MAE 14.692653172715325\n",
            "Epochs 215 /300: \n",
            "Training Cost 200.72338890110115| Testing Cost 201.5391340880937\n",
            "Training MAE 14.574371680426083| Testing MAE 14.692182585280687\n",
            "Epochs 216 /300: \n",
            "Training Cost 200.68391778628674| Testing Cost 201.5440741400648\n",
            "Training MAE 14.57274791667482| Testing MAE 14.691727730157734\n",
            "Epochs 217 /300: \n",
            "Training Cost 200.64472136937334| Testing Cost 201.5491323390087\n",
            "Training MAE 14.571139481691704| Testing MAE 14.691288184702989\n",
            "Epochs 218 /300: \n",
            "Training Cost 200.60579700809194| Testing Cost 201.55430638285978\n",
            "Training MAE 14.569546036126825| Testing MAE 14.690863537055327\n",
            "Epochs 219 /300: \n",
            "Training Cost 200.56714211435548| Testing Cost 201.55959403050176\n",
            "Training MAE 14.56796724934041| Testing MAE 14.690453385866016\n",
            "Epochs 220 /300: \n",
            "Training Cost 200.52875415223784| Testing Cost 201.56499309952136\n",
            "Training MAE 14.566402799181567| Testing MAE 14.690057340035468\n",
            "Epochs 221 /300: \n",
            "Training Cost 200.49063063604416| Testing Cost 201.5705014640578\n",
            "Training MAE 14.5648523717725| Testing MAE 14.689675018456558\n",
            "Epochs 222 /300: \n",
            "Training Cost 200.45276912846828| Testing Cost 201.57611705274323\n",
            "Training MAE 14.563315661298212| Testing MAE 14.68930604976428\n",
            "Epochs 223 /300: \n",
            "Training Cost 200.4151672388321| Testing Cost 201.58183784673074\n",
            "Training MAE 14.561792369801429| Testing MAE 14.688950072091648\n",
            "Epochs 224 /300: \n",
            "Training Cost 200.37782262140516| Testing Cost 201.5876618778051\n",
            "Training MAE 14.560282206982656| Testing MAE 14.688606732831659\n",
            "Epochs 225 /300: \n",
            "Training Cost 200.3407329737978| Testing Cost 201.5935872265731\n",
            "Training MAE 14.558784890005258| Testing MAE 14.68827568840514\n",
            "Epochs 226 /300: \n",
            "Training Cost 200.30389603542713| Testing Cost 201.59961202072978\n",
            "Training MAE 14.557300143305437| Testing MAE 14.687956604034417\n",
            "Epochs 227 /300: \n",
            "Training Cost 200.26730958605035| Testing Cost 201.605734433397\n",
            "Training MAE 14.555827698406935| Testing MAE 14.687649153522557\n",
            "Epochs 228 /300: \n",
            "Training Cost 200.23097144436343| Testing Cost 201.6119526815316\n",
            "Training MAE 14.554367293740441| Testing MAE 14.687353019038124\n",
            "Epochs 229 /300: \n",
            "Training Cost 200.1948794666619| Testing Cost 201.6182650243989\n",
            "Training MAE 14.552922031806796| Testing MAE 14.687067890905302\n",
            "Epochs 230 /300: \n",
            "Training Cost 200.15903154555997| Testing Cost 201.62466976211\n",
            "Training MAE 14.551501626571602| Testing MAE 14.686793467399173\n",
            "Epochs 231 /300: \n",
            "Training Cost 200.12342560876695| Testing Cost 201.63116523421922\n",
            "Training MAE 14.550092565446102| Testing MAE 14.686529454546154\n",
            "Epochs 232 /300: \n",
            "Training Cost 200.08805961791595| Testing Cost 201.63774981837898\n",
            "Training MAE 14.548694609638549| Testing MAE 14.68627556592937\n",
            "Epochs 233 /300: \n",
            "Training Cost 200.05293156744457| Testing Cost 201.64442192905003\n",
            "Training MAE 14.547307526516269| Testing MAE 14.686031522498835\n",
            "Epochs 234 /300: \n",
            "Training Cost 200.0180394835244| Testing Cost 201.65118001626396\n",
            "Training MAE 14.545964458300535| Testing MAE 14.685797052386414\n",
            "Epochs 235 /300: \n",
            "Training Cost 199.98338142303604| Testing Cost 201.65802256443652\n",
            "Training MAE 14.544654303888585| Testing MAE 14.685571890725347\n",
            "Epochs 236 /300: \n",
            "Training Cost 199.94895547258923| Testing Cost 201.66494809122852\n",
            "Training MAE 14.543354225853616| Testing MAE 14.68535577947426\n",
            "Epochs 237 /300: \n",
            "Training Cost 199.91475974758478| Testing Cost 201.67195514645263\n",
            "Training MAE 14.542064014335637| Testing MAE 14.685148467245577\n",
            "Epochs 238 /300: \n",
            "Training Cost 199.88079239131653| Testing Cost 201.679042311025\n",
            "Training MAE 14.54078346490074| Testing MAE 14.684949709138179\n",
            "Epochs 239 /300: \n",
            "Training Cost 199.84705157411233| Testing Cost 201.6862081959575\n",
            "Training MAE 14.53951237840219| Testing MAE 14.684759266574261\n",
            "Epochs 240 /300: \n",
            "Training Cost 199.81353549251054| Testing Cost 201.69345144139132\n",
            "Training MAE 14.538250560844922| Testing MAE 14.684576907140205\n",
            "Epochs 241 /300: \n",
            "Training Cost 199.7802423684724| Testing Cost 201.70077071566834\n",
            "Training MAE 14.536997823253508| Testing MAE 14.684402404431442\n",
            "Epochs 242 /300: \n",
            "Training Cost 199.74717044862692| Testing Cost 201.70816471443928\n",
            "Training MAE 14.535753981543463| Testing MAE 14.684235537901163\n",
            "Epochs 243 /300: \n",
            "Training Cost 199.71431800354802| Testing Cost 201.71563215980717\n",
            "Training MAE 14.534518856395705| Testing MAE 14.684076092712822\n",
            "Epochs 244 /300: \n",
            "Training Cost 199.68168332706136| Testing Cost 201.72317179950434\n",
            "Training MAE 14.533292273134258| Testing MAE 14.683923859596268\n",
            "Epochs 245 /300: \n",
            "Training Cost 199.6492647355805| Testing Cost 201.7307824061017\n",
            "Training MAE 14.532074061606986| Testing MAE 14.683778634707512\n",
            "Epochs 246 /300: \n",
            "Training Cost 199.61706056747005| Testing Cost 201.73846277624807\n",
            "Training MAE 14.530864056069358| Testing MAE 14.683640219491918\n",
            "Epochs 247 /300: \n",
            "Training Cost 199.5850691824358| Testing Cost 201.74621172994014\n",
            "Training MAE 14.529662095071124| Testing MAE 14.683508420550897\n",
            "Epochs 248 /300: \n",
            "Training Cost 199.55328896093906| Testing Cost 201.75402810981944\n",
            "Training MAE 14.52846802134585| Testing MAE 14.683383049511805\n",
            "Epochs 249 /300: \n",
            "Training Cost 199.5217183036354| Testing Cost 201.76191078049715\n",
            "Training MAE 14.527281681703224| Testing MAE 14.683263922901205\n",
            "Epochs 250 /300: \n",
            "Training Cost 199.4903556308361| Testing Cost 201.76985862790391\n",
            "Training MAE 14.526102926924121| Testing MAE 14.683150862021193\n",
            "Epochs 251 /300: \n",
            "Training Cost 199.4591993819912| Testing Cost 201.77787055866511\n",
            "Training MAE 14.524931611658264| Testing MAE 14.683043692828846\n",
            "Epochs 252 /300: \n",
            "Training Cost 199.42824801519362| Testing Cost 201.78594549949926\n",
            "Training MAE 14.523767594324479| Testing MAE 14.682942245818673\n",
            "Epochs 253 /300: \n",
            "Training Cost 199.3975000067026| Testing Cost 201.7940823966391\n",
            "Training MAE 14.522610737013496| Testing MAE 14.682846355908005\n",
            "Epochs 254 /300: \n",
            "Training Cost 199.36695385048637| Testing Cost 201.80228021527498\n",
            "Training MAE 14.521460905393182| Testing MAE 14.68275586232521\n",
            "Epochs 255 /300: \n",
            "Training Cost 199.3366080577832| Testing Cost 201.81053793901782\n",
            "Training MAE 14.520317968616135| Testing MAE 14.682670608500725\n",
            "Epochs 256 /300: \n",
            "Training Cost 199.30646115667892| Testing Cost 201.8188545693832\n",
            "Training MAE 14.519181799229683| Testing MAE 14.682590441960814\n",
            "Epochs 257 /300: \n",
            "Training Cost 199.27651169170127| Testing Cost 201.82722912529397\n",
            "Training MAE 14.518052273088086| Testing MAE 14.682515214223935\n",
            "Epochs 258 /300: \n",
            "Training Cost 199.24675822343025| Testing Cost 201.83566064260077\n",
            "Training MAE 14.516929269267017| Testing MAE 14.682444780699733\n",
            "Epochs 259 /300: \n",
            "Training Cost 199.2171993281231| Testing Cost 201.84414817362068\n",
            "Training MAE 14.515812669980152| Testing MAE 14.682379000590542\n",
            "Epochs 260 /300: \n",
            "Training Cost 199.18783359735366| Testing Cost 201.85269078669253\n",
            "Training MAE 14.514702360497914| Testing MAE 14.682317736795325\n",
            "Epochs 261 /300: \n",
            "Training Cost 199.15865963766555| Testing Cost 201.86128756574766\n",
            "Training MAE 14.51359822906823| Testing MAE 14.68226085581603\n",
            "Epochs 262 /300: \n",
            "Training Cost 199.1296760702383| Testing Cost 201.86993760989705\n",
            "Training MAE 14.51250016683933| Testing MAE 14.68220822766631\n",
            "Epochs 263 /300: \n",
            "Training Cost 199.10088153056606| Testing Cost 201.87864003303255\n",
            "Training MAE 14.511408067784501| Testing MAE 14.682159725782451\n",
            "Epochs 264 /300: \n",
            "Training Cost 199.0722746681482| Testing Cost 201.8873939634425\n",
            "Training MAE 14.51032182862869| Testing MAE 14.682115226936617\n",
            "Epochs 265 /300: \n",
            "Training Cost 199.04385414619142| Testing Cost 201.89619854344068\n",
            "Training MAE 14.509241348777058| Testing MAE 14.682074611152169\n",
            "Epochs 266 /300: \n",
            "Training Cost 199.0156186413226| Testing Cost 201.90505292900917\n",
            "Training MAE 14.508166530245258| Testing MAE 14.68203776162116\n",
            "Epochs 267 /300: \n",
            "Training Cost 198.987566843312| Testing Cost 201.9139562894522\n",
            "Training MAE 14.507097277591539| Testing MAE 14.68200456462388\n",
            "Epochs 268 /300: \n",
            "Training Cost 198.95969745480699| Testing Cost 201.92290780706364\n",
            "Training MAE 14.506033497850531| Testing MAE 14.681974909450396\n",
            "Epochs 269 /300: \n",
            "Training Cost 198.93200919107446| Testing Cost 201.93190667680494\n",
            "Training MAE 14.504975100468744| Testing MAE 14.681948688324086\n",
            "Epochs 270 /300: \n",
            "Training Cost 198.904500779753| Testing Cost 201.94095210599428\n",
            "Training MAE 14.503921997241699| Testing MAE 14.681925796327032\n",
            "Epochs 271 /300: \n",
            "Training Cost 198.87717096061346| Testing Cost 201.9500433140067\n",
            "Training MAE 14.50287410225262| Testing MAE 14.681906131327324\n",
            "Epochs 272 /300: \n",
            "Training Cost 198.8500184853281| Testing Cost 201.95917953198415\n",
            "Training MAE 14.50183133181272| Testing MAE 14.681889593908164\n",
            "Epochs 273 /300: \n",
            "Training Cost 198.82304211724738| Testing Cost 201.96836000255504\n",
            "Training MAE 14.500793604403007| Testing MAE 14.681876087298754\n",
            "Epochs 274 /300: \n",
            "Training Cost 198.79624063118447| Testing Cost 201.97758397956414\n",
            "Training MAE 14.499760840617531| Testing MAE 14.681865517306903\n",
            "Epochs 275 /300: \n",
            "Training Cost 198.76961281320757| Testing Cost 201.98685072781012\n",
            "Training MAE 14.498732963108127| Testing MAE 14.681857792253304\n",
            "Epochs 276 /300: \n",
            "Training Cost 198.74315746043834| Testing Cost 201.996159522793\n",
            "Training MAE 14.497732554190753| Testing MAE 14.681852822907508\n",
            "Epochs 277 /300: \n",
            "Training Cost 198.71687338085752| Testing Cost 202.00550965046915\n",
            "Training MAE 14.496747032541526| Testing MAE 14.681850522425446\n",
            "Epochs 278 /300: \n",
            "Training Cost 198.69075939311722| Testing Cost 202.01490040701466\n",
            "Training MAE 14.495766037432174| Testing MAE 14.681850806288534\n",
            "Epochs 279 /300: \n",
            "Training Cost 198.6648143263586| Testing Cost 202.0243310985962\n",
            "Training MAE 14.494789501896726| Testing MAE 14.681853592244327\n",
            "Epochs 280 /300: \n",
            "Training Cost 198.63903702003597| Testing Cost 202.03380104114947\n",
            "Training MAE 14.493817360693187| Testing MAE 14.681858800248609\n",
            "Epochs 281 /300: \n",
            "Training Cost 198.61342632374664| Testing Cost 202.04330956016457\n",
            "Training MAE 14.492849550258345| Testing MAE 14.681866352409003\n",
            "Epochs 282 /300: \n",
            "Training Cost 198.5879810970653| Testing Cost 202.05285599047815\n",
            "Training MAE 14.491886008663636| Testing MAE 14.68187617292991\n",
            "Epochs 283 /300: \n",
            "Training Cost 198.56270020938481| Testing Cost 202.06243967607247\n",
            "Training MAE 14.490926675572213| Testing MAE 14.681888188058913\n",
            "Epochs 284 /300: \n",
            "Training Cost 198.5375825397608| Testing Cost 202.0720599698804\n",
            "Training MAE 14.489971492197073| Testing MAE 14.681902326034466\n",
            "Epochs 285 /300: \n",
            "Training Cost 198.51262697676157| Testing Cost 202.08171623359675\n",
            "Training MAE 14.489020401260253| Testing MAE 14.681918517034912\n",
            "Epochs 286 /300: \n",
            "Training Cost 198.48783241832263| Testing Cost 202.09140783749538\n",
            "Training MAE 14.488073346953076| Testing MAE 14.68193669312878\n",
            "Epochs 287 /300: \n",
            "Training Cost 198.46319777160525| Testing Cost 202.1011341602518\n",
            "Training MAE 14.487130274897412| Testing MAE 14.681956788226355\n",
            "Epochs 288 /300: \n",
            "Training Cost 198.43872195285945| Testing Cost 202.11089458877126\n",
            "Training MAE 14.486191132107926| Testing MAE 14.681978738032393\n",
            "Epochs 289 /300: \n",
            "Training Cost 198.41440388729072| Testing Cost 202.12068851802238\n",
            "Training MAE 14.485255866955292| Testing MAE 14.682002480000126\n",
            "Epochs 290 /300: \n",
            "Training Cost 198.39024250893098| Testing Cost 202.13051535087524\n",
            "Training MAE 14.484324429130368| Testing MAE 14.682027953286305\n",
            "Epochs 291 /300: \n",
            "Training Cost 198.36623676051295| Testing Cost 202.14037449794483\n",
            "Training MAE 14.483396769609241| Testing MAE 14.682055098707501\n",
            "Epochs 292 /300: \n",
            "Training Cost 198.3423855933481| Testing Cost 202.15026537743861\n",
            "Training MAE 14.482472840619222| Testing MAE 14.682083858697343\n",
            "Epochs 293 /300: \n",
            "Training Cost 198.3186879672079| Testing Cost 202.1601874150093\n",
            "Training MAE 14.481552595605661| Testing MAE 14.68211417726502\n",
            "Epochs 294 /300: \n",
            "Training Cost 198.29514285020895| Testing Cost 202.17014004361099\n",
            "Training MAE 14.480635989199667| Testing MAE 14.682145999954653\n",
            "Epochs 295 /300: \n",
            "Training Cost 198.27174921870008| Testing Cost 202.18012270336067\n",
            "Training MAE 14.479722977186617| Testing MAE 14.682179273805808\n",
            "Epochs 296 /300: \n",
            "Training Cost 198.24850605715375| Testing Cost 202.19013484140254\n",
            "Training MAE 14.478813516475467| Testing MAE 14.682213947314924\n",
            "Epochs 297 /300: \n",
            "Training Cost 198.2254123580594| Testing Cost 202.2001759117769\n",
            "Training MAE 14.477907565068906| Testing MAE 14.682249970397777\n",
            "Epochs 298 /300: \n",
            "Training Cost 198.20246712182004| Testing Cost 202.2102453752929\n",
            "Training MAE 14.477005082034196| Testing MAE 14.682287294352818\n",
            "Epochs 299 /300: \n",
            "Training Cost 198.1796693566515| Testing Cost 202.22034269940417\n",
            "Training MAE 14.476106027474842| Testing MAE 14.68232587182552\n",
            "Epochs 300 /300: \n",
            "Training Cost 198.15701807848382| Testing Cost 202.23046735808873\n",
            "Training MAE 14.475210362502924| Testing MAE 14.68236565677352\n"
          ]
        },
        {
          "data": {
            "image/png": "[encoded data removed]",
            "text/plain": [
              "<Figure size 720x432 with 1 Axes>"
            ]
          },
          "metadata": {},
          "output_type": "display_data"
        },
        {
          "data": {
            "image/png": "[encoded data removed]",
            "text/plain": [
              "<Figure size 720x432 with 1 Axes>"
            ]
          },
          "metadata": {},
          "output_type": "display_data"
        }
      ]
    },
    {
      "cell_type": "markdown",
      "metadata": {
        "id": "yFAfHGQ268l-"
      },
      "source": [
        "# Comparison between the Implemented Raw Model and Sklearn Built-in Model"
      ]
    },
    {
      "cell_type": "code",
      "metadata": {
        "id": "y3sxK8x468l-"
      },
      "source": [
        "def sklearn_linear_regression(x_train, y_train, x_test, y_test):\n",
        "    \"\"\"This function is for creating the model using the bult-in function in sklearn.\n",
        "    \n",
        "    Args:\n",
        "        Training and testing data\n",
        "    Returns:\n",
        "        Mean Squared Error for training and testing\n",
        "    \"\"\"\n",
        "    from sklearn.linear_model import LinearRegression\n",
        "    from sklearn.metrics import mean_absolute_error\n",
        "    model=LinearRegression()\n",
        "    model.fit(x_train.T, y_train.T)\n",
        "    predictions_train=model.predict(x_train.T)\n",
        "    predictions_test=model.predict(x_test.T)\n",
        "    MAE_sklearn_train=mean_absolute_error(predictions_train, y_train.T)\n",
        "    MAE_sklearn_test=mean_absolute_error(predictions_test, y_test.T)\n",
        "    \n",
        "    print('Mean Absolute Error in training using sklearn: '+str(MAE_sklearn_train))\n",
        "    print('Mean Absolute Error in testing using sklearn: '+str(MAE_sklearn_test))"
      ],
      "execution_count": null,
      "outputs": []
    },
    {
      "cell_type": "code",
      "metadata": {
        "id": "27HnUf_368l_",
        "outputId": "628eb668-2051-4d31-e46a-0468b8e3490d"
      },
      "source": [
        "sklearn_linear_regression(X_train, y_train, X_test, y_test)"
      ],
      "execution_count": null,
      "outputs": [
        {
          "name": "stdout",
          "output_type": "stream",
          "text": [
            "Mean Absolute Error in training using sklearn: 14.423425111348765\n",
            "Mean Absolute Error in testing using sklearn: 14.888571207633479\n"
          ]
        }
      ]
    }
  ]
}