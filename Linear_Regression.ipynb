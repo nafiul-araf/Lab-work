{
  "nbformat": 4,
  "nbformat_minor": 0,
  "metadata": {
    "kernelspec": {
      "display_name": "Python 3",
      "language": "python",
      "name": "python3"
    },
    "language_info": {
      "codemirror_mode": {
        "name": "ipython",
        "version": 3
      },
      "file_extension": ".py",
      "mimetype": "text/x-python",
      "name": "python",
      "nbconvert_exporter": "python",
      "pygments_lexer": "ipython3",
      "version": "3.8.3"
    },
    "colab": {
      "name": "Linear_Regression.ipynb",
      "provenance": [],
      "include_colab_link": true
    }
  },
  "cells": [
    {
      "cell_type": "markdown",
      "metadata": {
        "id": "view-in-github",
        "colab_type": "text"
      },
      "source": [
        "<a href=\"https://colab.research.google.com/github/nafiul-araf/Lab-work/blob/main/Linear_Regression.ipynb\" target=\"_parent\"><img src=\"https://colab.research.google.com/assets/colab-badge.svg\" alt=\"Open In Colab\"/></a>"
      ]
    },
    {
      "cell_type": "markdown",
      "metadata": {
        "id": "HJR5erWGloHk"
      },
      "source": [
        "# Necessary Libraries"
      ]
    },
    {
      "cell_type": "code",
      "metadata": {
        "id": "0wQFYfJTloHm"
      },
      "source": [
        "import pandas as pd\n",
        "import numpy as np\n",
        "import matplotlib.pyplot as plt\n",
        "import seaborn as sns\n",
        "from my_custom_utils import data_preparation,important_features_visualization_linear,feature_selection_linear\n",
        "\n",
        "%matplotlib inline\n",
        "sns.set(style='darkgrid', rc={'figure.figsize':(10,6)})\n",
        "\n",
        "import warnings\n",
        "warnings.filterwarnings(\"ignore\")"
      ],
      "execution_count": null,
      "outputs": []
    },
    {
      "cell_type": "markdown",
      "metadata": {
        "id": "J3Fd7xPvloHo"
      },
      "source": [
        "# Loading the Data"
      ]
    },
    {
      "cell_type": "code",
      "metadata": {
        "id": "Pd8gBvpFloHo",
        "outputId": "033fea05-9236-4774-febf-03bc109d32fc"
      },
      "source": [
        "df=pd.read_csv('Copy of Depression and Happiness Factor Analysis.csv')\n",
        "df.shape"
      ],
      "execution_count": null,
      "outputs": [
        {
          "data": {
            "text/plain": [
              "(920, 21)"
            ]
          },
          "execution_count": 2,
          "metadata": {},
          "output_type": "execute_result"
        }
      ]
    },
    {
      "cell_type": "markdown",
      "metadata": {
        "id": "7PJXngx-loHp"
      },
      "source": [
        "# Data Preparation"
      ]
    },
    {
      "cell_type": "markdown",
      "metadata": {
        "id": "K6M83nhbloHq"
      },
      "source": [
        "* Preparing the data using the imported `data_preparation()` function.\n",
        "```Python\n",
        "    def data_preparation(data):\n",
        "  \"\"\"This funtion is for data preparation which returns the clean data. In order to do this, it drops the unnecessay columns and sets the index. \n",
        "  Then it encodes the categorical non-numeric data into numeric data using label encoder.\n",
        "  Input:\n",
        "      data: The dataframe.\n",
        "  \n",
        "  Output:\n",
        "      Concatenation of encoded and numeric data.\n",
        "  \"\"\"\n",
        "  data=data.drop(['Timestamp','Unnamed: 20'],axis=1)\n",
        "  data=data.set_index('Which year are you in?')\n",
        "  data_numeric=data.drop(data.iloc[:, [0,2,4,5,6,8,9,10,11,12,13,14,15,16]],axis=1)\n",
        "  data_non_numeric=data.drop(data.iloc[:, [1,3,7,17]],axis=1)\n",
        "  le=LabelEncoder()\n",
        "  encode=data_non_numeric.apply(le.fit_transform)\n",
        "\n",
        "  return pd.concat([encode,data_numeric],axis=1)\n",
        "```"
      ]
    },
    {
      "cell_type": "code",
      "metadata": {
        "id": "mmapCKI2loHr",
        "outputId": "879f922a-f477-4142-8ee6-2b5d426219b0"
      },
      "source": [
        "data_final=data_preparation(df)\n",
        "data_final.shape"
      ],
      "execution_count": null,
      "outputs": [
        {
          "data": {
            "text/plain": [
              "(920, 18)"
            ]
          },
          "execution_count": 3,
          "metadata": {},
          "output_type": "execute_result"
        }
      ]
    },
    {
      "cell_type": "markdown",
      "metadata": {
        "id": "qxoI4LwZloHr"
      },
      "source": [
        "# Feature Selection"
      ]
    },
    {
      "cell_type": "markdown",
      "metadata": {
        "id": "hI5g28uGloHs"
      },
      "source": [
        "* Visualizing the important features using the imported `important_features_visualization_linear()` function.\n",
        "```Python\n",
        "def important_features_visualization_linear(data):\n",
        "  \"\"\"This function plots the importance features using mutual information regression. It is only for Linear_Regression.ipynb.\n",
        "\n",
        "  Input:\n",
        "      data: The dataframe.\n",
        "  \n",
        "  Output:\n",
        "      Plots a horizontal bar chart of the important features in a descending order.\n",
        "  \"\"\"\n",
        "  X=data.drop('On a scale of 1-100, how would you express this feeling?',axis=1)\n",
        "  y=data['On a scale of 1-100, how would you express this feeling?']\n",
        "  imp=mutual_info_regression(X,y)\n",
        "  feat_imp=pd.Series(imp,data.columns[0:len(data.columns)-1])\n",
        "  feat_imp.sort_values(ascending=False).plot(kind='barh',color='teal',figsize=(20,10))\n",
        "  plt.show()\n",
        "```"
      ]
    },
    {
      "cell_type": "code",
      "metadata": {
        "id": "spXH5AF_loHt",
        "outputId": "ec46e373-bbf6-493f-eacf-228bb8b5663b"
      },
      "source": [
        "imp_feat_vis=important_features_visualization_linear(data_final)\n",
        "imp_feat_vis"
      ],
      "execution_count": null,
      "outputs": [
        {
          "data": {
            "image/png": "[encoded data removed]",
            "text/plain": [
              "<Figure size 1440x720 with 1 Axes>"
            ]
          },
          "metadata": {},
          "output_type": "display_data"
        }
      ]
    },
    {
      "cell_type": "markdown",
      "metadata": {
        "id": "xQfovO0VloHt"
      },
      "source": [
        "* Finding the important features using the imported `feature_selection_linear()` function.\n",
        "```Python\n",
        "def feature_selection_linear(data):\n",
        "  \"\"\"This function finds the important features using mutual information regression under a percentile value. It is only for Linear_Regression.ipynb.\n",
        "\n",
        "  Input:\n",
        "      data: The dataframe.\n",
        "  \n",
        "  Output:\n",
        "      Returns the top important features under 30 percentiles.\n",
        "  \"\"\"\n",
        "  X=data.drop('On a scale of 1-100, how would you express this feeling?',axis=1)\n",
        "  y=data['On a scale of 1-100, how would you express this feeling?']\n",
        "  select=SelectPercentile(mutual_info_regression,percentile=30)\n",
        "  select.fit(X,y)\n",
        "\n",
        "  return X.columns[select.get_support()]\n",
        "```"
      ]
    },
    {
      "cell_type": "code",
      "metadata": {
        "id": "fT1WNVrwloHu",
        "outputId": "ea013e1d-4514-4f9e-d2bb-4b55930eb696"
      },
      "source": [
        "important_features=feature_selection_linear(data_final)\n",
        "important_features"
      ],
      "execution_count": null,
      "outputs": [
        {
          "data": {
            "text/plain": [
              "Index(['How are you feeling right now?', 'Your location ?',\n",
              "       'Are you feeling pressure in your study or work right now?',\n",
              "       'Are you satisfied with your meal today?',\n",
              "       'How long did you sleep last night?(in hours)'],\n",
              "      dtype='object')"
            ]
          },
          "execution_count": 5,
          "metadata": {},
          "output_type": "execute_result"
        }
      ]
    },
    {
      "cell_type": "markdown",
      "metadata": {
        "id": "OEpHrfWYloHv"
      },
      "source": [
        "# Splitting the Data based on the Feature Selection"
      ]
    },
    {
      "cell_type": "code",
      "metadata": {
        "id": "2q78T3dOloHv"
      },
      "source": [
        "X=data_final[['How long did you sleep last night?(in hours)', 'How are you feeling right now?', 'Are you satisfied with your meal today?', 'Your location ?', 'Are you feeling pressure in your study or work right now?']].values\n",
        "y=data_final['On a scale of 1-100, how would you express this feeling?'].values"
      ],
      "execution_count": null,
      "outputs": []
    },
    {
      "cell_type": "code",
      "metadata": {
        "id": "rvvnTFcDloHw"
      },
      "source": [
        "from sklearn.model_selection import train_test_split"
      ],
      "execution_count": null,
      "outputs": []
    },
    {
      "cell_type": "code",
      "metadata": {
        "id": "ais26mJxloHx"
      },
      "source": [
        "X_train,X_test,y_train,y_test=train_test_split(X,y,test_size=0.20,random_state=21)"
      ],
      "execution_count": null,
      "outputs": []
    },
    {
      "cell_type": "markdown",
      "metadata": {
        "id": "MvLXnaFCloHx"
      },
      "source": [
        "# Linear Regression from Scratch"
      ]
    },
    {
      "cell_type": "markdown",
      "metadata": {
        "id": "NMdMZr6ploHy"
      },
      "source": [
        "### <span style='color:green'>***Step-1***</span>***:*** <span style='color:red'>***Initialize the Parameters which are weight and bias***</span>"
      ]
    },
    {
      "cell_type": "code",
      "metadata": {
        "id": "U5AS-mkTloHy"
      },
      "source": [
        "def initialize_parameters(lenw):\n",
        "    \"\"\"The numpy.random.randn() function creates an array of specified shape and fills it with random values as per standard \n",
        "    normal distribution.\n",
        "    \n",
        "    Arg: \n",
        "       lenw: n numbers of training samlple i.e. X_train.shape[0]\n",
        "    Returns:\n",
        "          weight and bias\n",
        "    \"\"\"\n",
        "    w=np.random.randn(1, lenw)\n",
        "    b=0\n",
        "    return w, b"
      ],
      "execution_count": null,
      "outputs": []
    },
    {
      "cell_type": "markdown",
      "metadata": {
        "id": "D9WO_q_2loHz"
      },
      "source": [
        "### <span style='color:green'>***Step-2***</span>***:*** <span style='color:red'>***Forward Propagation***</span>"
      ]
    },
    {
      "cell_type": "code",
      "metadata": {
        "id": "okuBgySLloH0"
      },
      "source": [
        "def forward_prop(X, w, b):\n",
        "    \"\"\"A linear function or prediction function which is the matrix multiplication of the training samples and weights and then \n",
        "    sum up the bias.\n",
        "    \n",
        "    Args:\n",
        "        X: X_train\n",
        "        w, b: weights and bias from the step 1.\n",
        "    Returns:\n",
        "          z: The result of the calculation\n",
        "    \"\"\"\n",
        "    y_pred=np.dot(w, X)+b\n",
        "    return y_pred"
      ],
      "execution_count": null,
      "outputs": []
    },
    {
      "cell_type": "markdown",
      "metadata": {
        "id": "mMBeCgcRloH1"
      },
      "source": [
        "### <span style='color:green'>***Step-3***</span>***:*** <span style='color:red'>***Cost Function***</span>"
      ]
    },
    {
      "cell_type": "code",
      "metadata": {
        "id": "i4ZCr0o5loH2"
      },
      "source": [
        "def cost_function(y_pred, y):\n",
        "    \"\"\"Cost function  is (1/2) of mean squared error.\n",
        "    \n",
        "    Args:\n",
        "        y_pred: Prediction funtion\n",
        "        y: True value\n",
        "    Returns: \n",
        "        J: Cost function\n",
        "    \"\"\"\n",
        "    m=y.shape[1]\n",
        "    J=(1/(2*m))*np.sum(np.square(y_pred-y))\n",
        "    return J"
      ],
      "execution_count": null,
      "outputs": []
    },
    {
      "cell_type": "markdown",
      "metadata": {
        "id": "MdOzba-UloH3"
      },
      "source": [
        "### <span style='color:green'>***Step-4***</span>***:*** <span style='color:red'>***Backward Propagation***</span>"
      ]
    },
    {
      "cell_type": "code",
      "metadata": {
        "id": "uVyPmbkIloH3"
      },
      "source": [
        "def back_prop(X, y, y_pred):\n",
        "    \"\"\"Finds the derivative of weight's and bias's.\n",
        "    \n",
        "    Args:\n",
        "        X: Independent variables\n",
        "        y: Dependent variables\n",
        "        y_pred: Found from prediction function\n",
        "    Returns:\n",
        "        dw, db: Derivative of weight's and bais's\n",
        "    \"\"\"\n",
        "    m=y.shape[1]\n",
        "    dy_pred=(1/m)*(y_pred-y)\n",
        "    dw=np.dot(dy_pred, X.T)\n",
        "    db=np.sum(dy_pred)\n",
        "    return dw, db"
      ],
      "execution_count": null,
      "outputs": []
    },
    {
      "cell_type": "markdown",
      "metadata": {
        "id": "oa0BZ2mHloH4"
      },
      "source": [
        "### <span style='color:green'>***Step-5***</span>***:*** <span style='color:red'>***Gradient Descent***</span>"
      ]
    },
    {
      "cell_type": "code",
      "metadata": {
        "id": "lmVtl2zRloH4"
      },
      "source": [
        "def gradient_descent(w, b, dw, db, lr):\n",
        "    \"\"\"Update of weight and bias.\n",
        "    \n",
        "    Args:\n",
        "        w, b, dw, db, lr: Old weights and bias's with their derivatives and learning rate(lr)\n",
        "    Returns:\n",
        "        w, b: Updated weight and bias\n",
        "    \"\"\"\n",
        "    w=w-lr*dw\n",
        "    b=b-lr*db\n",
        "    return w, b"
      ],
      "execution_count": null,
      "outputs": []
    },
    {
      "cell_type": "markdown",
      "metadata": {
        "id": "qU9KOJZwloH4"
      },
      "source": [
        "### <span style='color:green'>***Step-6***</span>***:*** <span style='color:red'>***Putting it altogether: Final Model***</span>"
      ]
    },
    {
      "cell_type": "code",
      "metadata": {
        "id": "1-_Dt-I2loH5"
      },
      "source": [
        "def linear_regression_model(X_train, y_train, X_test, y_test, lr, epochs):\n",
        "    \"\"\"This function puts all the 5 steps altogether and builds the linear regreesion model from scratch.\n",
        "    \n",
        "    Args:\n",
        "       Training and testing data with a learning rate(lr) and iteration(epochs)\n",
        "    Returns:\n",
        "        Training and testing costs and mean absolute errors and also plots them.\n",
        "    \"\"\"\n",
        "    lenw=X_train.shape[0]\n",
        "    w, b=initialize_parameters(lenw) #step1\n",
        "    costs_train=[]\n",
        "    costs_test=[]\n",
        "    MAEs_train=[]\n",
        "    MAEs_test=[]\n",
        "    m_train=y_train.shape[1]\n",
        "    m_test=y_test.shape[1]\n",
        "    \n",
        "    for i in range(1, epochs+1):\n",
        "        #training set\n",
        "        y_pred_train=forward_prop(X_train, w, b) #step2\n",
        "        cost_train=cost_function(y_pred_train, y_train) #step3\n",
        "        dw, db=back_prop(X_train, y_train, y_pred_train) #step4\n",
        "        w, b=gradient_descent(w, b, dw, db, lr) #step5\n",
        "        \n",
        "        if i%10==0:\n",
        "            costs_train.append(cost_train)\n",
        "        MAE_train=(1/m_train)*np.sum(np.abs(y_pred_train-y_train))\n",
        "        if i%10==0:\n",
        "            MAEs_train.append(MAE_train)\n",
        "        \n",
        "        #testing set\n",
        "        y_pred_test=forward_prop(X_test, w, b)\n",
        "        cost_test=cost_function(y_pred_test, y_test)\n",
        "        if i%10==0:\n",
        "            costs_test.append(cost_test)\n",
        "        MAE_test=(1/m_test)*np.sum(np.abs(y_pred_test-y_test))\n",
        "        if i%10==0:\n",
        "            MAEs_test.append(MAE_test)\n",
        "        \n",
        "        print('Epochs '+str(i)+' /'+str(epochs)+': ')\n",
        "        print('Training Cost '+str(cost_train)+'|'+' Testing Cost '+str(cost_test))\n",
        "        print('Training MAE '+str(MAE_train)+'|'+' Testing MAE '+str(MAE_test))\n",
        "    \n",
        "    plt.plot(costs_train, color='orange', label='Training Cost')\n",
        "    plt.plot(costs_test, color='blue', label='Testing Cost')\n",
        "    plt.xlabel('Iterations (per 10)', fontsize=18)\n",
        "    plt.ylabel('Cost', fontsize=18)\n",
        "    plt.title('Learning Rate '+str(lr), fontsize=18)\n",
        "    plt.legend(prop={'size': 15})\n",
        "    plt.tight_layout()\n",
        "    plt.show();\n",
        "    \n",
        "    plt.plot(MAEs_train, color='orange', label='Training Mean Squared Error')\n",
        "    plt.plot(MAEs_test, color='blue', label='Testing Mean Squared Error')\n",
        "    plt.xlabel('Iterations (per 10)', fontsize=18)\n",
        "    plt.ylabel('Mean Squared Error', fontsize=18)\n",
        "    plt.title('Learning Rate '+str(lr), fontsize=18)\n",
        "    plt.legend(prop={'size': 15})\n",
        "    plt.tight_layout()\n",
        "    plt.show();"
      ],
      "execution_count": null,
      "outputs": []
    },
    {
      "cell_type": "markdown",
      "metadata": {
        "id": "2mN5yIU2loH6"
      },
      "source": [
        "# Scaling the Independent Features"
      ]
    },
    {
      "cell_type": "code",
      "metadata": {
        "id": "a4f3GDPNloH6"
      },
      "source": [
        "def normalize(X):\n",
        "    \"\"\"Scaling the independent variables.\n",
        "    \n",
        "    Arg:\n",
        "       X: Training and testing independent variables\n",
        "    Returns:\n",
        "       Normalized variables\n",
        "    \"\"\"\n",
        "    X=(X-X.mean())/(X.max()-X.min())\n",
        "    return X"
      ],
      "execution_count": null,
      "outputs": []
    },
    {
      "cell_type": "code",
      "metadata": {
        "id": "fvBCFyEWloH6"
      },
      "source": [
        "X_train=normalize(X_train)\n",
        "X_test=normalize(X_test)"
      ],
      "execution_count": null,
      "outputs": []
    },
    {
      "cell_type": "markdown",
      "metadata": {
        "id": "dqusFcBBloH6"
      },
      "source": [
        "# Reshaping the Data for the Model"
      ]
    },
    {
      "cell_type": "code",
      "metadata": {
        "id": "lJll2vEVloH6",
        "outputId": "fde8142f-37ef-42b0-c025-716332ecaa72"
      },
      "source": [
        "X_train.shape, y_train.shape, X_test.shape, y_test.shape"
      ],
      "execution_count": null,
      "outputs": [
        {
          "data": {
            "text/plain": [
              "((736, 5), (736,), (184, 5), (184,))"
            ]
          },
          "execution_count": 17,
          "metadata": {},
          "output_type": "execute_result"
        }
      ]
    },
    {
      "cell_type": "code",
      "metadata": {
        "id": "Ag60jeOVloH7"
      },
      "source": [
        "def reshaping(train_x, train_y, test_x, test_y):\n",
        "    \"\"\"For my Linear Regression model, it requires X_train, X_test=(n_features x n_training_samples) and\n",
        "                                                   y_train, y_test=(1 x m_train where m_train=n_training_samples)\n",
        "    So I have to reshaping the data.\n",
        "    \n",
        "    Args:\n",
        "        Takes the training and testing samples\n",
        "    Returns:\n",
        "        Reshaped data\n",
        "    \"\"\"\n",
        "    train_x=train_x.T\n",
        "    train_y=np.array([train_y])\n",
        "    test_x=test_x.T\n",
        "    test_y=np.array([test_y])\n",
        "    \n",
        "    return train_x, train_y, test_x, test_y"
      ],
      "execution_count": null,
      "outputs": []
    },
    {
      "cell_type": "code",
      "metadata": {
        "id": "5HjwGj9rloH7",
        "outputId": "92cd3aee-97ba-4919-8c23-280e50c79a4e"
      },
      "source": [
        "X_train, y_train, X_test, y_test=reshaping(X_train, y_train, X_test, y_test)\n",
        "X_train.shape, y_train.shape, X_test.shape, y_test.shape"
      ],
      "execution_count": null,
      "outputs": [
        {
          "data": {
            "text/plain": [
              "((5, 736), (1, 736), (5, 184), (1, 184))"
            ]
          },
          "execution_count": 19,
          "metadata": {},
          "output_type": "execute_result"
        }
      ]
    },
    {
      "cell_type": "markdown",
      "metadata": {
        "id": "y5GDBZ6VloH8"
      },
      "source": [
        "# Calling the Raw Model"
      ]
    },
    {
      "cell_type": "code",
      "metadata": {
        "scrolled": true,
        "id": "u-Mdna48loH8",
        "outputId": "278bce8b-40b0-4044-97b0-b07dc7950a46"
      },
      "source": [
        "linear_regression_model(X_train, y_train, X_test, y_test, lr=0.4, epochs=300)"
      ],
      "execution_count": null,
      "outputs": [
        {
          "name": "stdout",
          "output_type": "stream",
          "text": [
            "Epochs 1 /300: \n",
            "Training Cost 2229.2179234120695| Testing Cost 870.9933288432892\n",
            "Training MAE 57.06306945657084| Testing MAE 35.34904058914264\n",
            "Epochs 2 /300: \n",
            "Training Cost 925.5196713510478| Testing Cost 550.9032072633375\n",
            "Training MAE 36.958491461799895| Testing MAE 29.870644605258036\n",
            "Epochs 3 /300: \n",
            "Training Cost 583.1367406958027| Testing Cost 465.32168563772416\n",
            "Training MAE 30.784614901605625| Testing MAE 27.365537248003335\n",
            "Epochs 4 /300: \n",
            "Training Cost 486.72729856283695| Testing Cost 437.52905416117255\n",
            "Training MAE 27.962896304377903| Testing MAE 25.969204067086384\n",
            "Epochs 5 /300: \n",
            "Training Cost 453.5699273295838| Testing Cost 423.6327084648964\n",
            "Training MAE 26.379248058800957| Testing MAE 25.171216485738846\n",
            "Epochs 6 /300: \n",
            "Training Cost 436.9763978355752| Testing Cost 413.0357017465045\n",
            "Training MAE 25.477777576495832| Testing MAE 24.65923014623078\n",
            "Epochs 7 /300: \n",
            "Training Cost 425.002594754857| Testing Cost 403.3302189407344\n",
            "Training MAE 24.912959776903275| Testing MAE 24.272689208828297\n",
            "Epochs 8 /300: \n",
            "Training Cost 414.57907274062444| Testing Cost 394.0426589211072\n",
            "Training MAE 24.482941024247616| Testing MAE 23.946648962477283\n",
            "Epochs 9 /300: \n",
            "Training Cost 404.90391131698385| Testing Cost 385.11495850307716\n",
            "Training MAE 24.123788120730104| Testing MAE 23.651902360851665\n",
            "Epochs 10 /300: \n",
            "Training Cost 395.75519448583003| Testing Cost 376.55622459639085\n",
            "Training MAE 23.8039113565797| Testing MAE 23.376168653787133\n",
            "Epochs 11 /300: \n",
            "Training Cost 387.05997266724864| Testing Cost 368.3735490183079\n",
            "Training MAE 23.50726097370013| Testing MAE 23.11387993041185\n",
            "Epochs 12 /300: \n",
            "Training Cost 378.7841343464059| Testing Cost 360.56424389407056\n",
            "Training MAE 23.225642781203184| Testing MAE 22.86320524166205\n",
            "Epochs 13 /300: \n",
            "Training Cost 370.904240555575| Testing Cost 353.1188094894016\n",
            "Training MAE 22.954834625077194| Testing MAE 22.620395394603303\n",
            "Epochs 14 /300: \n",
            "Training Cost 363.4002946756393| Testing Cost 346.02415942829185\n",
            "Training MAE 22.692623707274496| Testing MAE 22.384421311360867\n",
            "Epochs 15 /300: \n",
            "Training Cost 356.2538609388444| Testing Cost 339.26566675737985\n",
            "Training MAE 22.437814651014996| Testing MAE 22.154692461202725\n",
            "Epochs 16 /300: \n",
            "Training Cost 349.4475506981251| Testing Cost 332.82828514796535\n",
            "Training MAE 22.189728155997575| Testing MAE 21.930841679675865\n",
            "Epochs 17 /300: \n",
            "Training Cost 342.9648596430241| Testing Cost 326.6971216966082\n",
            "Training MAE 21.94794758557122| Testing MAE 21.712616379247066\n",
            "Epochs 18 /300: \n",
            "Training Cost 336.79009618596467| Testing Cost 320.8577136987529\n",
            "Training MAE 21.712190853119406| Testing MAE 21.499823528367635\n",
            "Epochs 19 /300: \n",
            "Training Cost 330.9083345966782| Testing Cost 315.2961521955121\n",
            "Training MAE 21.482245632380067| Testing MAE 21.2923018046646\n",
            "Epochs 20 /300: \n",
            "Training Cost 325.30537584917863| Testing Cost 309.9991280428806\n",
            "Training MAE 21.25793657105617| Testing MAE 21.089907482199514\n",
            "Epochs 21 /300: \n",
            "Training Cost 319.9677117625567| Testing Cost 304.9539395306783\n",
            "Training MAE 21.041019446723116| Testing MAE 20.892507260530394\n",
            "Epochs 22 /300: \n",
            "Training Cost 314.8824912425476| Testing Cost 300.1484813681469\n",
            "Training MAE 20.832271627365675| Testing MAE 20.69997460292732\n",
            "Epochs 23 /300: \n",
            "Training Cost 310.03748825780957| Testing Cost 295.5712250144136\n",
            "Training MAE 20.629848447098702| Testing MAE 20.512187848950404\n",
            "Epochs 24 /300: \n",
            "Training Cost 305.4210713990541| Testing Cost 291.21119534500593\n",
            "Training MAE 20.43376944309331| Testing MAE 20.329029224651105\n",
            "Epochs 25 /300: \n",
            "Training Cost 301.02217492671576| Testing Cost 287.0579461311868\n",
            "Training MAE 20.245579199579083| Testing MAE 20.15038430729428\n",
            "Epochs 26 /300: \n",
            "Training Cost 296.83027123026045| Testing Cost 283.1015355450053\n",
            "Training MAE 20.062265890522507| Testing MAE 19.976141720647263\n",
            "Epochs 27 /300: \n",
            "Training Cost 292.8353446292416| Testing Cost 279.3325022691481\n",
            "Training MAE 19.883906810102644| Testing MAE 19.806192947634354\n",
            "Epochs 28 /300: \n",
            "Training Cost 289.02786645045865| Testing Cost 275.74184247369647\n",
            "Training MAE 19.709887801860745| Testing MAE 19.640432203127197\n",
            "Epochs 29 /300: \n",
            "Training Cost 285.398771318982| Testing Cost 272.3209877640625\n",
            "Training MAE 19.540301994989644| Testing MAE 19.47875633792824\n",
            "Epochs 30 /300: \n",
            "Training Cost 281.93943460389534| Testing Cost 269.0617841264324\n",
            "Training MAE 19.376209570068077| Testing MAE 19.32106475930073\n",
            "Epochs 31 /300: \n",
            "Training Cost 278.6416509625005| Testing Cost 265.95647185915783\n",
            "Training MAE 19.21689707094196| Testing MAE 19.16822335129637\n",
            "Epochs 32 /300: \n",
            "Training Cost 275.4976139294779| Testing Cost 262.99766646070714\n",
            "Training MAE 19.064602839220203| Testing MAE 19.02848138116903\n",
            "Epochs 33 /300: \n",
            "Training Cost 272.49989650009695| Testing Cost 260.17834043698133\n",
            "Training MAE 18.91748478472879| Testing MAE 18.892179275483695\n",
            "Epochs 34 /300: \n",
            "Training Cost 269.64143265905756| Testing Cost 257.4918059879649\n",
            "Training MAE 18.774353022099746| Testing MAE 18.76309375326499\n",
            "Epochs 35 /300: \n",
            "Training Cost 266.91549980889783| Testing Cost 254.93169853329906\n",
            "Training MAE 18.637660584249858| Testing MAE 18.637987756897015\n",
            "Epochs 36 /300: \n",
            "Training Cost 264.3157020541496| Testing Cost 252.49196103715676\n",
            "Training MAE 18.512531099696428| Testing MAE 18.516126385274816\n",
            "Epochs 37 /300: \n",
            "Training Cost 261.8359542995576| Testing Cost 250.16682909413998\n",
            "Training MAE 18.390418277323487| Testing MAE 18.397262126633365\n",
            "Epochs 38 /300: \n",
            "Training Cost 259.47046712270827| Testing Cost 247.95081673948428\n",
            "Training MAE 18.271248076112656| Testing MAE 18.28132125336683\n",
            "Epochs 39 /300: \n",
            "Training Cost 257.2137323833469| Testing Cost 245.8387029484949\n",
            "Training MAE 18.15494827848592| Testing MAE 18.16823185379649\n",
            "Epochs 40 /300: \n",
            "Training Cost 255.0605095334976| Testing Cost 243.82551879176967\n",
            "Training MAE 18.041448445320672| Testing MAE 18.057923787395772\n",
            "Epochs 41 /300: \n",
            "Training Cost 253.00581259425178| Testing Cost 241.90653521435496\n",
            "Training MAE 17.93067987209339| Testing MAE 17.95032864112759\n",
            "Epochs 42 /300: \n",
            "Training Cost 251.0448977667507| Testing Cost 240.0772514085111\n",
            "Training MAE 17.822575546114606| Testing MAE 17.845379686862554\n",
            "Epochs 43 /300: \n",
            "Training Cost 249.17325164647056| Testing Cost 238.33338375122952\n",
            "Training MAE 17.71707010482321| Testing MAE 17.743011839849206\n",
            "Epochs 44 /300: \n",
            "Training Cost 247.3865800114254| Testing Cost 236.67085527904538\n",
            "Training MAE 17.614099795111628| Testing MAE 17.643161618209312\n",
            "Epochs 45 /300: \n",
            "Training Cost 245.68079715633075| Testing Cost 235.08578567402006\n",
            "Training MAE 17.513602433655187| Testing MAE 17.545767103432347\n",
            "Epochs 46 /300: \n",
            "Training Cost 244.05201574613747| Testing Cost 233.5744817360404\n",
            "Training MAE 17.415517368220314| Testing MAE 17.45076790184436\n",
            "Epochs 47 /300: \n",
            "Training Cost 242.49653716363568| Testing Cost 232.13342831778874\n",
            "Training MAE 17.31978543992697| Testing MAE 17.35810510702687\n",
            "Epochs 48 /300: \n",
            "Training Cost 241.01084232706575| Testing Cost 230.75927969988874\n",
            "Training MAE 17.226348946441806| Testing MAE 17.267721263162535\n",
            "Epochs 49 /300: \n",
            "Training Cost 239.59158295484204| Testing Cost 229.44885138482712\n",
            "Training MAE 17.142648783986548| Testing MAE 17.179560329284545\n",
            "Epochs 50 /300: \n",
            "Training Cost 238.2355732556127| Testing Cost 228.19911228928953\n",
            "Training MAE 17.06164290490148| Testing MAE 17.093567644407408\n",
            "Epochs 51 /300: \n",
            "Training Cost 236.93978202293812| Testing Cost 227.00717731554363\n",
            "Training MAE 16.983856038031846| Testing MAE 17.00968989351753\n",
            "Epochs 52 /300: \n",
            "Training Cost 235.70132511488043| Testing Cost 225.8703002834416\n",
            "Training MAE 16.908254912609134| Testing MAE 16.927875074402273\n",
            "Epochs 53 /300: \n",
            "Training Cost 234.5174582997569| Testing Cost 224.7858672055119\n",
            "Training MAE 16.834551376126857| Testing MAE 16.848072465296834\n",
            "Epochs 54 /300: \n",
            "Training Cost 233.3855704502228| Testing Cost 223.75138988846274\n",
            "Training MAE 16.762611347693014| Testing MAE 16.770232593328775\n",
            "Epochs 55 /300: \n",
            "Training Cost 232.30317706871764| Testing Cost 222.76449984523126\n",
            "Training MAE 16.692391418264556| Testing MAE 16.694307203740568\n",
            "Epochs 56 /300: \n",
            "Training Cost 231.2679141281369| Testing Cost 221.8229425024848\n",
            "Training MAE 16.624365538480177| Testing MAE 16.62024922987094\n",
            "Epochs 57 /300: \n",
            "Training Cost 230.27753221237458| Testing Cost 220.9245716892125\n",
            "Training MAE 16.56058650523839| Testing MAE 16.548012763876258\n",
            "Epochs 58 /300: \n",
            "Training Cost 229.3298909421336| Testing Cost 220.06734439274837\n",
            "Training MAE 16.500124385510112| Testing MAE 16.47947840626906\n",
            "Epochs 59 /300: \n",
            "Training Cost 228.42295367210846| Testing Cost 219.2493157692263\n",
            "Training MAE 16.441848349602335| Testing MAE 16.417042132795093\n",
            "Epochs 60 /300: \n",
            "Training Cost 227.5547824463251| Testing Cost 218.46863439610462\n",
            "Training MAE 16.38513907798906| Testing MAE 16.358390784577917\n",
            "Epochs 61 /300: \n",
            "Training Cost 226.72353319906364| Testing Cost 217.7235377549952\n",
            "Training MAE 16.32977541978797| Testing MAE 16.301202997555038\n",
            "Epochs 62 /300: \n",
            "Training Cost 225.9274511894043| Testing Cost 217.01234793360723\n",
            "Training MAE 16.27572427488905| Testing MAE 16.2454426778725\n",
            "Epochs 63 /300: \n",
            "Training Cost 225.1648666580185| Testing Cost 216.33346753615817\n",
            "Training MAE 16.224560384213913| Testing MAE 16.191074621226257\n",
            "Epochs 64 /300: \n",
            "Training Cost 224.434190695381| Testing Cost 215.68537579212332\n",
            "Training MAE 16.176194690229217| Testing MAE 16.138064490931956\n",
            "Epochs 65 /300: \n",
            "Training Cost 223.7339113111071| Testing Cost 215.06662485368756\n",
            "Training MAE 16.13099433138438| Testing MAE 16.09155578774698\n",
            "Epochs 66 /300: \n",
            "Training Cost 223.06258969461976| Testing Cost 214.47583627273173\n",
            "Training MAE 16.086966993418663| Testing MAE 16.04695783078509\n",
            "Epochs 67 /300: \n",
            "Training Cost 222.4188566578295| Testing Cost 213.9116976486317\n",
            "Training MAE 16.044286817694935| Testing MAE 16.003482382558992\n",
            "Epochs 68 /300: \n",
            "Training Cost 221.80140925096197| Testing Cost 213.37295943857276\n",
            "Training MAE 16.00272002567684| Testing MAE 15.961101649888564\n",
            "Epochs 69 /300: \n",
            "Training Cost 221.20900754310242| Testing Cost 212.85843192248439\n",
            "Training MAE 15.962143158116028| Testing MAE 15.919788525843806\n",
            "Epochs 70 /300: \n",
            "Training Cost 220.64047155943456| Testing Cost 212.36698231508672\n",
            "Training MAE 15.924068463014764| Testing MAE 15.879516572811914\n",
            "Epochs 71 /300: \n",
            "Training Cost 220.09467836754388| Testing Cost 211.89753201790185\n",
            "Training MAE 15.887160455836929| Testing MAE 15.84026000598204\n",
            "Epochs 72 /300: \n",
            "Training Cost 219.57055930552602| Testing Cost 211.44905400443358\n",
            "Training MAE 15.85112160318521| Testing MAE 15.802864421679438\n",
            "Epochs 73 /300: \n",
            "Training Cost 219.0670973449951| Testing Cost 211.02057033204775\n",
            "Training MAE 15.81691212941399| Testing MAE 15.768114848028704\n",
            "Epochs 74 /300: \n",
            "Training Cost 218.58332458242253| Testing Cost 210.6111497744019\n",
            "Training MAE 15.784274491025444| Testing MAE 15.735149129863773\n",
            "Epochs 75 /300: \n",
            "Training Cost 218.1183198525579| Testing Cost 210.21990556856775\n",
            "Training MAE 15.752399605339841| Testing MAE 15.704287526433577\n",
            "Epochs 76 /300: \n",
            "Training Cost 217.67120645798613| Testing Cost 209.84599327128177\n",
            "Training MAE 15.72135081843146| Testing MAE 15.674198358671342\n",
            "Epochs 77 /300: \n",
            "Training Cost 217.24115000916672| Testing Cost 209.48860871902122\n",
            "Training MAE 15.693424346452208| Testing MAE 15.644862479525925\n",
            "Epochs 78 /300: \n",
            "Training Cost 216.8273563695757| Testing Cost 209.1469860868689\n",
            "Training MAE 15.667175347116148| Testing MAE 15.616456264757659\n",
            "Epochs 79 /300: \n",
            "Training Cost 216.42906970083087| Testing Cost 208.82039604136833\n",
            "Training MAE 15.641520560546184| Testing MAE 15.589407179622624\n",
            "Epochs 80 /300: \n",
            "Training Cost 216.045570602934| Testing Cost 208.50814398280792\n",
            "Training MAE 15.616445416552706| Testing MAE 15.563045407314204\n",
            "Epochs 81 /300: \n",
            "Training Cost 215.67617434499712| Testing Cost 208.20956837259394\n",
            "Training MAE 15.59193570501166| Testing MAE 15.53895882592817\n",
            "Epochs 82 /300: \n",
            "Training Cost 215.32022918204845| Testing Cost 207.92403914158118\n",
            "Training MAE 15.567977566970274| Testing MAE 15.516546646786047\n",
            "Epochs 83 /300: \n",
            "Training Cost 214.97711475372543| Testing Cost 207.65095617543378\n",
            "Training MAE 15.544557485972344| Testing MAE 15.494695815545825\n",
            "Epochs 84 /300: \n",
            "Training Cost 214.6462405608697| Testing Cost 207.38974787327737\n",
            "Training MAE 15.521662279597637| Testing MAE 15.473392424814149\n",
            "Epochs 85 /300: \n",
            "Training Cost 214.32704451622945| Testing Cost 207.1398697760861\n",
            "Training MAE 15.499279091210143| Testing MAE 15.452622910816359\n",
            "Epochs 86 /300: \n",
            "Training Cost 214.01899156566168| Testing Cost 206.90080326142166\n",
            "Training MAE 15.478467665349184| Testing MAE 15.432374044914821\n",
            "Epochs 87 /300: \n",
            "Training Cost 213.7215723764029| Testing Cost 206.67205430130446\n",
            "Training MAE 15.458195652177693| Testing MAE 15.41263292533647\n",
            "Epochs 88 /300: \n",
            "Training Cost 213.434302089142| Testing Cost 206.45315228015485\n",
            "Training MAE 15.438384935454824| Testing MAE 15.393386969104517\n",
            "Epochs 89 /300: \n",
            "Training Cost 213.15671913078899| Testing Cost 206.24364886989045\n",
            "Training MAE 15.419024166844363| Testing MAE 15.374623904169212\n",
            "Epochs 90 /300: \n",
            "Training Cost 212.8883840849859| Testing Cost 206.0431169594065\n",
            "Training MAE 15.400102278906076| Testing MAE 15.356331761732744\n",
            "Epochs 91 /300: \n",
            "Training Cost 212.62887861754808| Testing Cost 205.85114963580327\n",
            "Training MAE 15.381608478151843| Testing MAE 15.33849886876354\n",
            "Epochs 92 /300: \n",
            "Training Cost 212.3778044541617| Testing Cost 205.66735921484945\n",
            "Training MAE 15.363532238273196| Testing MAE 15.32111384069525\n",
            "Epochs 93 /300: \n",
            "Training Cost 212.13478240779406| Testing Cost 205.49137631829524\n",
            "Training MAE 15.345863293536171| Testing MAE 15.304165574305891\n",
            "Epochs 94 /300: \n",
            "Training Cost 211.89945145339658| Testing Cost 205.32284899576243\n",
            "Training MAE 15.328591632339196| Testing MAE 15.287643240772663\n",
            "Epochs 95 /300: \n",
            "Training Cost 211.6714678475984| Testing Cost 205.1614418890517\n",
            "Training MAE 15.31170749093008| Testing MAE 15.271536278898157\n",
            "Epochs 96 /300: \n",
            "Training Cost 211.4505042912006| Testing Cost 205.0068354368096\n",
            "Training MAE 15.295201347278182| Testing MAE 15.25583438850369\n",
            "Epochs 97 /300: \n",
            "Training Cost 211.23624913238774| Testing Cost 204.85872511759936\n",
            "Training MAE 15.279063915097847| Testing MAE 15.240527523985651\n",
            "Epochs 98 /300: \n",
            "Training Cost 211.02840560867463| Testing Cost 204.7168207295151\n",
            "Training MAE 15.263286138019486| Testing MAE 15.225605888030854\n",
            "Epochs 99 /300: \n",
            "Training Cost 210.82669112570352| Testing Cost 204.5808457045664\n",
            "Training MAE 15.247859183904572| Testing MAE 15.211059925486943\n",
            "Epochs 100 /300: \n",
            "Training Cost 210.63083657109738| Testing Cost 204.45053645615062\n",
            "Training MAE 15.232774439301016| Testing MAE 15.196880317384057\n",
            "Epochs 101 /300: \n",
            "Training Cost 210.440585661664| Testing Cost 204.32564175800854\n",
            "Training MAE 15.21802350403555| Testing MAE 15.183057975104017\n",
            "Epochs 102 /300: \n",
            "Training Cost 210.2556943223267| Testing Cost 204.2059221531381\n",
            "Training MAE 15.20359818593953| Testing MAE 15.169584034693369\n",
            "Epochs 103 /300: \n",
            "Training Cost 210.0759300952389| Testing Cost 204.09114939121557\n",
            "Training MAE 15.189490495705153| Testing MAE 15.15644985131676\n",
            "Epochs 104 /300: \n",
            "Training Cost 209.90107157761207| Testing Cost 203.98110589314282\n",
            "Training MAE 15.175692641868547| Testing MAE 15.143646993847167\n",
            "Epochs 105 /300: \n",
            "Training Cost 209.73090788686127| Testing Cost 203.87558424140772\n",
            "Training MAE 15.162197025916905| Testing MAE 15.131167239589681\n",
            "Epochs 106 /300: \n",
            "Training Cost 209.56523815173804| Testing Cost 203.7743866950067\n",
            "Training MAE 15.148996237516378| Testing MAE 15.11900256913537\n",
            "Epochs 107 /300: \n",
            "Training Cost 209.40387102818582| Testing Cost 203.67732472774134\n",
            "Training MAE 15.136083049857874| Testing MAE 15.10714516134223\n",
            "Epochs 108 /300: \n",
            "Training Cost 209.24662423871624| Testing Cost 203.58421858875622\n",
            "Training MAE 15.123450415117793| Testing MAE 15.09558738843993\n",
            "Epochs 109 /300: \n",
            "Training Cost 209.09332413415984| Testing Cost 203.49489688424276\n",
            "Training MAE 15.111091460030899| Testing MAE 15.08432181125537\n",
            "Epochs 110 /300: \n",
            "Training Cost 208.94380527670467| Testing Cost 203.4091961792835\n",
            "Training MAE 15.0989994815725| Testing MAE 15.073341174556063\n",
            "Epochs 111 /300: \n",
            "Training Cost 208.79791004318506| Testing Cost 203.32696061886259\n",
            "Training MAE 15.08716794274735| Testing MAE 15.0626384025084\n",
            "Epochs 112 /300: \n",
            "Training Cost 208.65548824763704| Testing Cost 203.24804156711548\n",
            "Training MAE 15.075590468482488| Testing MAE 15.052206594248009\n",
            "Epochs 113 /300: \n",
            "Training Cost 208.51639678218152| Testing Cost 203.17229726393492\n",
            "Training MAE 15.064260841621598| Testing MAE 15.04203901955942\n",
            "Epochs 114 /300: \n",
            "Training Cost 208.38049927534516| Testing Cost 203.09959249809373\n",
            "Training MAE 15.053172999018285| Testing MAE 15.032129114662363\n",
            "Epochs 115 /300: \n",
            "Training Cost 208.24766576696896| Testing Cost 203.02979829608591\n",
            "Training MAE 15.042321027725837| Testing MAE 15.022470478101988\n",
            "Epochs 116 /300: \n",
            "Training Cost 208.11777239889938| Testing Cost 202.9627916259255\n",
            "Training MAE 15.031749820298975| Testing MAE 15.013056866740568\n",
            "Epochs 117 /300: \n",
            "Training Cost 207.99070112069273| Testing Cost 202.89845511518044\n",
            "Training MAE 15.021414547191009| Testing MAE 15.003882191848076\n",
            "Epochs 118 /300: \n",
            "Training Cost 207.8663394096039| Testing Cost 202.83667678255307\n",
            "Training MAE 15.011295917916605| Testing MAE 14.99494051528928\n",
            "Epochs 119 /300: \n",
            "Training Cost 207.7445800041634| Testing Cost 202.777349782352\n",
            "Training MAE 15.001388646593197| Testing MAE 14.986226045804864\n",
            "Epochs 120 /300: \n",
            "Training Cost 207.62532065068282| Testing Cost 202.7203721612333\n",
            "Training MAE 14.991687578274126| Testing MAE 14.977733135384378\n",
            "Epochs 121 /300: \n",
            "Training Cost 207.50846386205967| Testing Cost 202.66564662661781\n",
            "Training MAE 14.982187685708778| Testing MAE 14.969456275728716\n",
            "Epochs 122 /300: \n",
            "Training Cost 207.39391668828299| Testing Cost 202.6130803262198\n",
            "Training MAE 14.972884066182777| Testing MAE 14.961390094799805\n",
            "Epochs 123 /300: \n",
            "Training Cost 207.28159049807144| Testing Cost 202.56258463815124\n",
            "Training MAE 14.963771938436178| Testing MAE 14.953529353455535\n",
            "Epochs 124 /300: \n",
            "Training Cost 207.17140077110201| Testing Cost 202.51407497109057\n",
            "Training MAE 14.954846639657884| Testing MAE 14.945868942167689\n",
            "Epochs 125 /300: \n",
            "Training Cost 207.0632669003145| Testing Cost 202.46747057403002\n",
            "Training MAE 14.94610362255426| Testing MAE 14.938403877820889\n",
            "Epochs 126 /300: \n",
            "Training Cost 206.95711200380214| Testing Cost 202.4226943551386\n",
            "Training MAE 14.937538452490207| Testing MAE 14.931129300590506\n",
            "Epochs 127 /300: \n",
            "Training Cost 206.85286274582208| Testing Cost 202.37967270930184\n",
            "Training MAE 14.929146804700855| Testing MAE 14.924040470897674\n",
            "Epochs 128 /300: \n",
            "Training Cost 206.7504491664821| Testing Cost 202.33833535391886\n",
            "Training MAE 14.920924461572188| Testing MAE 14.917132766439426\n",
            "Epochs 129 /300: \n",
            "Training Cost 206.6498045196819| Testing Cost 202.29861517255804\n",
            "Training MAE 14.912867309988787| Testing MAE 14.91040167929211\n",
            "Epochs 130 /300: \n",
            "Training Cost 206.55086511890886| Testing Cost 202.2604480660929\n",
            "Training MAE 14.904971338747204| Testing MAE 14.903842813086333\n",
            "Epochs 131 /300: \n",
            "Training Cost 206.453570190504| Testing Cost 202.22377281095743\n",
            "Training MAE 14.89723263603319| Testing MAE 14.897451880251564\n",
            "Epochs 132 /300: \n",
            "Training Cost 206.3578617340374| Testing Cost 202.18853092417714\n",
            "Training MAE 14.889720134657548| Testing MAE 14.891224699328834\n",
            "Epochs 133 /300: \n",
            "Training Cost 206.2636843894468| Testing Cost 202.15466653484935\n",
            "Training MAE 14.882422987988228| Testing MAE 14.885157192349666\n",
            "Epochs 134 /300: \n",
            "Training Cost 206.17098531060978| Testing Cost 202.12212626176188\n",
            "Training MAE 14.875268678011736| Testing MAE 14.879245382279754\n",
            "Epochs 135 /300: \n",
            "Training Cost 206.07971404503854| Testing Cost 202.09085909685493\n",
            "Training MAE 14.868253741667074| Testing MAE 14.873485390525719\n",
            "Epochs 136 /300: \n",
            "Training Cost 205.98982241939822| Testing Cost 202.06081629424347\n",
            "Training MAE 14.861374801793762| Testing MAE 14.867873434503407\n",
            "Epochs 137 /300: \n",
            "Training Cost 205.9012644305669| Testing Cost 202.03195126453394\n",
            "Training MAE 14.854628565003745| Testing MAE 14.862405825266162\n",
            "Epochs 138 /300: \n",
            "Training Cost 205.81399614196727| Testing Cost 202.00421947417826\n",
            "Training MAE 14.848011819605972| Testing MAE 14.857078965191736\n",
            "Epochs 139 /300: \n",
            "Training Cost 205.72797558491487| Testing Cost 201.97757834962496\n",
            "Training MAE 14.84152143358221| Testing MAE 14.85188934572617\n",
            "Epochs 140 /300: \n",
            "Training Cost 205.64316266473787| Testing Cost 201.95198718603513\n",
            "Training MAE 14.835154352612987| Testing MAE 14.846833545183456\n",
            "Epochs 141 /300: \n",
            "Training Cost 205.55951907143765| Testing Cost 201.9274070603433\n",
            "Training MAE 14.828907598152227| Testing MAE 14.841908226599454\n",
            "Epochs 142 /300: \n",
            "Training Cost 205.47700819466942| Testing Cost 201.90380074845598\n",
            "Training MAE 14.822778265549625| Testing MAE 14.837110135638817\n",
            "Epochs 143 /300: \n",
            "Training Cost 205.39559504283264| Testing Cost 201.88113264638645\n",
            "Training MAE 14.81676352221931| Testing MAE 14.832436098553545\n",
            "Epochs 144 /300: \n",
            "Training Cost 205.31524616607248| Testing Cost 201.85936869513893\n",
            "Training MAE 14.810860605853906| Testing MAE 14.827883020191955\n",
            "Epochs 145 /300: \n",
            "Training Cost 205.2359295830016| Testing Cost 201.83847630916074\n",
            "Training MAE 14.80510253539799| Testing MAE 14.823447882056776\n",
            "Epochs 146 /300: \n",
            "Training Cost 205.15761471096187| Testing Cost 201.81842430819046\n",
            "Training MAE 14.79948839884813| Testing MAE 14.81912774041121\n",
            "Epochs 147 /300: \n",
            "Training Cost 205.08027229965475| Testing Cost 201.79918285234072\n",
            "Training MAE 14.793978086715226| Testing MAE 14.814919724431698\n",
            "Epochs 148 /300: \n",
            "Training Cost 205.0038743679761| Testing Cost 201.78072338025822\n",
            "Training MAE 14.788569099392843| Testing MAE 14.81082103440632\n",
            "Epochs 149 /300: \n",
            "Training Cost 204.92839414389962| Testing Cost 201.76301855021555\n",
            "Training MAE 14.783258999302108| Testing MAE 14.806828939977652\n",
            "Epochs 150 /300: \n",
            "Training Cost 204.85380600726262| Testing Cost 201.7460421839916\n",
            "Training MAE 14.778045409354032| Testing MAE 14.802940778429003\n",
            "Epochs 151 /300: \n",
            "Training Cost 204.78008543531095| Testing Cost 201.72976921340927\n",
            "Training MAE 14.772926011449885| Testing MAE 14.799153953012942\n",
            "Epochs 152 /300: \n",
            "Training Cost 204.70720895087118| Testing Cost 201.71417562940096\n",
            "Training MAE 14.767898545018586| Testing MAE 14.795465931321122\n",
            "Epochs 153 /300: \n",
            "Training Cost 204.63515407302143| Testing Cost 201.6992384334823\n",
            "Training MAE 14.762960805590343| Testing MAE 14.791874243694274\n",
            "Epochs 154 /300: \n",
            "Training Cost 204.56389927013998| Testing Cost 201.68493559151733\n",
            "Training MAE 14.758110643405535| Testing MAE 14.788376481671573\n",
            "Epochs 155 /300: \n",
            "Training Cost 204.49342391521674| Testing Cost 201.67124598966683\n",
            "Training MAE 14.753345962058006| Testing MAE 14.784970296478134\n",
            "Epochs 156 /300: \n",
            "Training Cost 204.423708243317| Testing Cost 201.65814939241358\n",
            "Training MAE 14.748664717171913| Testing MAE 14.781653397549979\n",
            "Epochs 157 /300: \n",
            "Training Cost 204.3547333110935| Testing Cost 201.64562640256688\n",
            "Training MAE 14.7440649151113| Testing MAE 14.778423551095335\n",
            "Epochs 158 /300: \n",
            "Training Cost 204.28648095824815| Testing Cost 201.63365842314994\n",
            "Training MAE 14.739544611721612| Testing MAE 14.775278578691466\n",
            "Epochs 159 /300: \n",
            "Training Cost 204.2189337708474| Testing Cost 201.62222762108144\n",
            "Training MAE 14.735101911102328| Testing MAE 14.772216355916186\n",
            "Epochs 160 /300: \n",
            "Training Cost 204.1520750464031| Testing Cost 201.61131689256493\n",
            "Training MAE 14.73073496440994| Testing MAE 14.769234811013126\n",
            "Epochs 161 /300: \n",
            "Training Cost 204.08588876063195| Testing Cost 201.60090983010417\n",
            "Training MAE 14.726441968690585| Testing MAE 14.766331923589917\n",
            "Epochs 162 /300: \n",
            "Training Cost 204.02035953581296| Testing Cost 201.59099069106716\n",
            "Training MAE 14.72222116574152| Testing MAE 14.763505723348581\n",
            "Epochs 163 /300: \n",
            "Training Cost 203.955472610665| Testing Cost 201.58154436772477\n",
            "Training MAE 14.71807084100079| Testing MAE 14.760754288847233\n",
            "Epochs 164 /300: \n",
            "Training Cost 203.89121381167135| Testing Cost 201.5725563586936\n",
            "Training MAE 14.714037621406844| Testing MAE 14.758075746292361\n",
            "Epochs 165 /300: \n",
            "Training Cost 203.82756952578086| Testing Cost 201.5640127417161\n",
            "Training MAE 14.710521390097325| Testing MAE 14.755468268360914\n",
            "Epochs 166 /300: \n",
            "Training Cost 203.76452667441868| Testing Cost 201.55590014771408\n",
            "Training MAE 14.70731267924776| Testing MAE 14.752930073051486\n",
            "Epochs 167 /300: \n",
            "Training Cost 203.702072688744| Testing Cost 201.54820573605494\n",
            "Training MAE 14.704153109169406| Testing MAE 14.750459422563843\n",
            "Epochs 168 /300: \n",
            "Training Cost 203.64019548609363| Testing Cost 201.54091717097288\n",
            "Training MAE 14.701041493178138| Testing MAE 14.748054622206164\n",
            "Epochs 169 /300: \n",
            "Training Cost 203.5788834475545| Testing Cost 201.53402259909038\n",
            "Training MAE 14.697976674590825| Testing MAE 14.7457140193292\n",
            "Epochs 170 /300: \n",
            "Training Cost 203.51812539661043| Testing Cost 201.52751062798677\n",
            "Training MAE 14.694957525973635| Testing MAE 14.7434360022868\n",
            "Epochs 171 /300: \n",
            "Training Cost 203.45791057881078| Testing Cost 201.52137030576506\n",
            "Training MAE 14.691982948409038| Testing MAE 14.74121899942207\n",
            "Epochs 172 /300: \n",
            "Training Cost 203.39822864241182| Testing Cost 201.51559110156887\n",
            "Training MAE 14.689051870780986| Testing MAE 14.739061478078588\n",
            "Epochs 173 /300: \n",
            "Training Cost 203.3390696199443| Testing Cost 201.51016288700492\n",
            "Training MAE 14.686163249077941| Testing MAE 14.73696194363603\n",
            "Epochs 174 /300: \n",
            "Training Cost 203.28042391066137| Testing Cost 201.50507591842697\n",
            "Training MAE 14.683316065713177| Testing MAE 14.73491893856958\n",
            "Epochs 175 /300: \n",
            "Training Cost 203.22228226382472| Testing Cost 201.50032082004176\n",
            "Training MAE 14.680509328861984| Testing MAE 14.732931041532632\n",
            "Epochs 176 /300: \n",
            "Training Cost 203.16463576278935| Testing Cost 201.49588856779715\n",
            "Training MAE 14.677742071815418| Testing MAE 14.730996866462073\n",
            "Epochs 177 /300: \n",
            "Training Cost 203.10747580984665| Testing Cost 201.49177047401508\n",
            "Training MAE 14.675013352350046| Testing MAE 14.729115061705695\n",
            "Epochs 178 /300: \n",
            "Training Cost 203.05079411179065| Testing Cost 201.48795817273492\n",
            "Training MAE 14.672322252113437| Testing MAE 14.727284309171154\n",
            "Epochs 179 /300: \n",
            "Training Cost 202.99458266617168| Testing Cost 201.48444360573274\n",
            "Training MAE 14.6696678760249| Testing MAE 14.725503323495944\n",
            "Epochs 180 /300: \n",
            "Training Cost 202.9388337482046| Testing Cost 201.48121900918522\n",
            "Training MAE 14.66704935169115| Testing MAE 14.72377085123785\n",
            "Epochs 181 /300: \n",
            "Training Cost 202.88353989829974| Testing Cost 201.47827690094712\n",
            "Training MAE 14.664465828836514| Testing MAE 14.722085670085443\n",
            "Epochs 182 /300: \n",
            "Training Cost 202.82869391018681| Testing Cost 201.4756100684136\n",
            "Training MAE 14.661916478747333| Testing MAE 14.720446588087992\n",
            "Epochs 183 /300: \n",
            "Training Cost 202.77428881960302| Testing Cost 201.47321155693987\n",
            "Training MAE 14.659400493730164| Testing MAE 14.718852442904486\n",
            "Epochs 184 /300: \n",
            "Training Cost 202.72031789351794| Testing Cost 201.4710746587917\n",
            "Training MAE 14.65691708658349| Testing MAE 14.717302101071121\n",
            "Epochs 185 /300: \n",
            "Training Cost 202.66677461986973| Testing Cost 201.46919290260155\n",
            "Training MAE 14.654465490082602| Testing MAE 14.715794457286945\n",
            "Epochs 186 /300: \n",
            "Training Cost 202.61365269778761| Testing Cost 201.4675600433071\n",
            "Training MAE 14.652044956477255| Testing MAE 14.714328433717098\n",
            "Epochs 187 /300: \n",
            "Training Cost 202.56094602827744| Testing Cost 201.4661700525486\n",
            "Training MAE 14.64965475700188| Testing MAE 14.712902979313283\n",
            "Epochs 188 /300: \n",
            "Training Cost 202.5086487053479| Testing Cost 201.46501710950454\n",
            "Training MAE 14.647294181397994| Testing MAE 14.711517069151025\n",
            "Epochs 189 /300: \n",
            "Training Cost 202.45675500755615| Testing Cost 201.46409559214396\n",
            "Training MAE 14.644962537448503| Testing MAE 14.710169703783277\n",
            "Epochs 190 /300: \n",
            "Training Cost 202.40525938995293| Testing Cost 201.46340006887627\n",
            "Training MAE 14.642659150523563| Testing MAE 14.708936182848827\n",
            "Epochs 191 /300: \n",
            "Training Cost 202.3541564764072| Testing Cost 201.46292529058005\n",
            "Training MAE 14.640383363137838| Testing MAE 14.70795211602958\n",
            "Epochs 192 /300: \n",
            "Training Cost 202.30344105229332| Testing Cost 201.46266618299336\n",
            "Training MAE 14.638134534518713| Testing MAE 14.706997351602764\n",
            "Epochs 193 /300: \n",
            "Training Cost 202.2531080575217| Testing Cost 201.46261783944732\n",
            "Training MAE 14.635912040185348| Testing MAE 14.706071122985552\n",
            "Epochs 194 /300: \n",
            "Training Cost 202.20315257989796| Testing Cost 201.46277551392814\n",
            "Training MAE 14.633715271538158| Testing MAE 14.705172682963305\n",
            "Epochs 195 /300: \n",
            "Training Cost 202.15356984879372| Testing Cost 201.46313461445226\n",
            "Training MAE 14.631543635458534| Testing MAE 14.704301303206687\n",
            "Epochs 196 /300: \n",
            "Training Cost 202.10435522911453| Testing Cost 201.46369069673906\n",
            "Training MAE 14.629396553918621| Testing MAE 14.703456273800745\n",
            "Epochs 197 /300: \n",
            "Training Cost 202.05550421555057| Testing Cost 201.46443945816765\n",
            "Training MAE 14.627273463600723| Testing MAE 14.702636902785684\n",
            "Epochs 198 /300: \n",
            "Training Cost 202.00701242709667| Testing Cost 201.46537673200473\n",
            "Training MAE 14.625173815526257| Testing MAE 14.701842515708979\n",
            "Epochs 199 /300: \n",
            "Training Cost 201.95887560182848| Testing Cost 201.4664984818911\n",
            "Training MAE 14.623097074693977| Testing MAE 14.701072455188669\n",
            "Epochs 200 /300: \n",
            "Training Cost 201.91108959192238| Testing Cost 201.46780079657353\n",
            "Training MAE 14.6210427197272| Testing MAE 14.700326080487388\n",
            "Epochs 201 /300: \n",
            "Training Cost 201.8636503589084| Testing Cost 201.4692798848721\n",
            "Training MAE 14.61901024252982| Testing MAE 14.699602767097037\n",
            "Epochs 202 /300: \n",
            "Training Cost 201.81655396914337| Testing Cost 201.47093207087144\n",
            "Training MAE 14.616999147950953| Testing MAE 14.698901906333692\n",
            "Epochs 203 /300: \n",
            "Training Cost 201.76979658949526| Testing Cost 201.47275378932468\n",
            "Training MAE 14.615008953457897| Testing MAE 14.698222904942618\n",
            "Epochs 204 /300: \n",
            "Training Cost 201.72337448322793| Testing Cost 201.4747415812619\n",
            "Training MAE 14.613039188817318| Testing MAE 14.697565184713016\n",
            "Epochs 205 /300: \n",
            "Training Cost 201.6772840060764| Testing Cost 201.47689208979207\n",
            "Training MAE 14.611089395784349| Testing MAE 14.696928182102397\n",
            "Epochs 206 /300: \n",
            "Training Cost 201.6315216025043| Testing Cost 201.47920205609043\n",
            "Training MAE 14.609159127799463| Testing MAE 14.696311347870184\n",
            "Epochs 207 /300: \n",
            "Training Cost 201.58608380213386| Testing Cost 201.48166831556262\n",
            "Training MAE 14.607247949692958| Testing MAE 14.695714146720512\n"
          ]
        },
        {
          "name": "stdout",
          "output_type": "stream",
          "text": [
            "Epochs 208 /300: \n",
            "Training Cost 201.54096721634141| Testing Cost 201.48428779417657\n",
            "Training MAE 14.605355437396746| Testing MAE 14.695136056953796\n",
            "Epochs 209 /300: \n",
            "Training Cost 201.49616853500913| Testing Cost 201.48705750495583\n",
            "Training MAE 14.603481177663426| Testing MAE 14.694576570126962\n",
            "Epochs 210 /300: \n",
            "Training Cost 201.4516845234265| Testing Cost 201.48997454462605\n",
            "Training MAE 14.601624767792329| Testing MAE 14.694035190722188\n",
            "Epochs 211 /300: \n",
            "Training Cost 201.407512019334| Testing Cost 201.49303609040695\n",
            "Training MAE 14.599785815362416| Testing MAE 14.693511435823737\n",
            "Epochs 212 /300: \n",
            "Training Cost 201.3636479301025| Testing Cost 201.49623939694482\n",
            "Training MAE 14.597963937971883| Testing MAE 14.693004834802917\n",
            "Epochs 213 /300: \n",
            "Training Cost 201.3200892300414| Testing Cost 201.49958179337742\n",
            "Training MAE 14.596158762984215| Testing MAE 14.692514929010807\n",
            "Epochs 214 /300: \n",
            "Training Cost 201.27683295782987| Testing Cost 201.50306068052606\n",
            "Training MAE 14.594369927280683| Testing MAE 14.692041271478635\n",
            "Epochs 215 /300: \n",
            "Training Cost 201.233876214065| Testing Cost 201.50667352820903\n",
            "Training MAE 14.592597077018942| Testing MAE 14.691583426625547\n",
            "Epochs 216 /300: \n",
            "Training Cost 201.19121615892192| Testing Cost 201.51041787267042\n",
            "Training MAE 14.590839867397705| Testing MAE 14.691140969973715\n",
            "Epochs 217 /300: \n",
            "Training Cost 201.14885000991927| Testing Cost 201.5142913141195\n",
            "Training MAE 14.58909796242734| Testing MAE 14.69071348787042\n",
            "Epochs 218 /300: \n",
            "Training Cost 201.1067750397867| Testing Cost 201.51829151437536\n",
            "Training MAE 14.587371034706154| Testing MAE 14.690300577217114\n",
            "Epochs 219 /300: \n",
            "Training Cost 201.06498857442799| Testing Cost 201.5224161946121\n",
            "Training MAE 14.585658765202282| Testing MAE 14.689901845205169\n",
            "Epochs 220 /300: \n",
            "Training Cost 201.02348799097672| Testing Cost 201.5266631332\n",
            "Training MAE 14.583960843041105| Testing MAE 14.689516909058216\n",
            "Epochs 221 /300: \n",
            "Training Cost 200.9822707159384| Testing Cost 201.5310301636383\n",
            "Training MAE 14.582276965297877| Testing MAE 14.689145395780832\n",
            "Epochs 222 /300: \n",
            "Training Cost 200.94133422341687| Testing Cost 201.53551517257557\n",
            "Training MAE 14.58060683679567| Testing MAE 14.68878694191354\n",
            "Epochs 223 /300: \n",
            "Training Cost 200.9006760334196| Testing Cost 201.5401160979134\n",
            "Training MAE 14.578950169908286| Testing MAE 14.68844119329383\n",
            "Epochs 224 /300: \n",
            "Training Cost 200.86029371023812| Testing Cost 201.5448309269899\n",
            "Training MAE 14.577306684368146| Testing MAE 14.688107804823183\n",
            "Epochs 225 /300: \n",
            "Training Cost 200.8201848609018| Testing Cost 201.54965769483942\n",
            "Training MAE 14.575736326468297| Testing MAE 14.687786440239808\n",
            "Epochs 226 /300: \n",
            "Training Cost 200.78034713369877| Testing Cost 201.55459448252512\n",
            "Training MAE 14.574201545674828| Testing MAE 14.687476771897101\n",
            "Epochs 227 /300: \n",
            "Training Cost 200.74077821676323| Testing Cost 201.5596394155404\n",
            "Training MAE 14.572679062860674| Testing MAE 14.687178480547535\n",
            "Epochs 228 /300: \n",
            "Training Cost 200.70147583672468| Testing Cost 201.56479066227746\n",
            "Training MAE 14.57116862120642| Testing MAE 14.686891255132005\n",
            "Epochs 229 /300: \n",
            "Training Cost 200.66243775741663| Testing Cost 201.57004643255894\n",
            "Training MAE 14.569669970483336| Testing MAE 14.686614792574328\n",
            "Epochs 230 /300: \n",
            "Training Cost 200.62366177864192| Testing Cost 201.5754049762295\n",
            "Training MAE 14.568182866885303| Testing MAE 14.686348797580916\n",
            "Epochs 231 /300: \n",
            "Training Cost 200.58514573499207| Testing Cost 201.58086458180634\n",
            "Training MAE 14.566707072865029| Testing MAE 14.686092982445377\n",
            "Epochs 232 /300: \n",
            "Training Cost 200.54688749471754| Testing Cost 201.58642357518394\n",
            "Training MAE 14.56524235697424| Testing MAE 14.68584706685801\n",
            "Epochs 233 /300: \n",
            "Training Cost 200.5088849586481| Testing Cost 201.59208031839245\n",
            "Training MAE 14.563788493708058| Testing MAE 14.685610777720045\n",
            "Epochs 234 /300: \n",
            "Training Cost 200.4711360591584| Testing Cost 201.59783320840586\n",
            "Training MAE 14.56234526335311| Testing MAE 14.685383848962452\n",
            "Epochs 235 /300: \n",
            "Training Cost 200.4336387591793| Testing Cost 201.60368067599867\n",
            "Training MAE 14.560912451839597| Testing MAE 14.68516602136931\n",
            "Epochs 236 /300: \n",
            "Training Cost 200.39639105125124| Testing Cost 201.6096211846492\n",
            "Training MAE 14.559489850596972| Testing MAE 14.684957042405546\n",
            "Epochs 237 /300: \n",
            "Training Cost 200.3593909566177| Testing Cost 201.6156532294857\n",
            "Training MAE 14.558077256413318| Testing MAE 14.684756666048962\n",
            "Epochs 238 /300: \n",
            "Training Cost 200.32263652435796| Testing Cost 201.62177533627587\n",
            "Training MAE 14.556674471298216| Testing MAE 14.684564652626433\n",
            "Epochs 239 /300: \n",
            "Training Cost 200.28612583055607| Testing Cost 201.6279860604559\n",
            "Training MAE 14.555281302349085| Testing MAE 14.684380768654206\n",
            "Epochs 240 /300: \n",
            "Training Cost 200.249856977505| Testing Cost 201.6342839861985\n",
            "Training MAE 14.553897561620875| Testing MAE 14.684204786682157\n",
            "Epochs 241 /300: \n",
            "Training Cost 200.21382809294462| Testing Cost 201.64066772551718\n",
            "Training MAE 14.552523065999026| Testing MAE 14.68403648514191\n",
            "Epochs 242 /300: \n",
            "Training Cost 200.17803732933095| Testing Cost 201.64713591740636\n",
            "Training MAE 14.551157637075637| Testing MAE 14.683875648198764\n",
            "Epochs 243 /300: \n",
            "Training Cost 200.14248286313645| Testing Cost 201.65368722701484\n",
            "Training MAE 14.549801101028748| Testing MAE 14.6837220656073\n",
            "Epochs 244 /300: \n",
            "Training Cost 200.10716289417897| Testing Cost 201.66032034485158\n",
            "Training MAE 14.548453288504684| Testing MAE 14.683575532570572\n",
            "Epochs 245 /300: \n",
            "Training Cost 200.0720756449784| Testing Cost 201.66703398602237\n",
            "Training MAE 14.547114034503297| Testing MAE 14.683435849602802\n",
            "Epochs 246 /300: \n",
            "Training Cost 200.03721936014| Testing Cost 201.67382688949573\n",
            "Training MAE 14.545793414234925| Testing MAE 14.683302822395516\n",
            "Epochs 247 /300: \n",
            "Training Cost 200.00259230576242| Testing Cost 201.68069781739763\n",
            "Training MAE 14.544527409287221| Testing MAE 14.683176261687006\n",
            "Epochs 248 /300: \n",
            "Training Cost 199.96819276887024| Testing Cost 201.68764555433256\n",
            "Training MAE 14.543269347534968| Testing MAE 14.68305598313503\n",
            "Epochs 249 /300: \n",
            "Training Cost 199.9340190568695| Testing Cost 201.69466890673093\n",
            "Training MAE 14.542019080176702| Testing MAE 14.682941807192702\n",
            "Epochs 250 /300: \n",
            "Training Cost 199.90006949702428| Testing Cost 201.701766702221\n",
            "Training MAE 14.540776462244215| Testing MAE 14.68283355898746\n",
            "Epochs 251 /300: \n",
            "Training Cost 199.86634243595546| Testing Cost 201.7089377890248\n",
            "Training MAE 14.53954135250382| Testing MAE 14.682731068203067\n",
            "Epochs 252 /300: \n",
            "Training Cost 199.83283623915818| Testing Cost 201.7161810353761\n",
            "Training MAE 14.538323781591988| Testing MAE 14.682634168964539\n",
            "Epochs 253 /300: \n",
            "Training Cost 199.7995492905392| Testing Cost 201.7234953289609\n",
            "Training MAE 14.537121377783409| Testing MAE 14.68254269972595\n",
            "Epochs 254 /300: \n",
            "Training Cost 199.76647999197192| Testing Cost 201.73087957637844\n",
            "Training MAE 14.535926072179702| Testing MAE 14.68245650316102\n",
            "Epochs 255 /300: \n",
            "Training Cost 199.7336267628691| Testing Cost 201.73833270262176\n",
            "Training MAE 14.534737736022983| Testing MAE 14.682375426056467\n",
            "Epochs 256 /300: \n",
            "Training Cost 199.70098803977174| Testing Cost 201.74585365057789\n",
            "Training MAE 14.533556243880179| Testing MAE 14.68229931920798\n",
            "Epochs 257 /300: \n",
            "Training Cost 199.6685622759542| Testing Cost 201.75344138054606\n",
            "Training MAE 14.532381473557122| Testing MAE 14.682228037318794\n",
            "Epochs 258 /300: \n",
            "Training Cost 199.63634794104416| Testing Cost 201.76109486977379\n",
            "Training MAE 14.531213306014802| Testing MAE 14.682161438900824\n",
            "Epochs 259 /300: \n",
            "Training Cost 199.604343520657| Testing Cost 201.76881311200904\n",
            "Training MAE 14.530051625287747| Testing MAE 14.682099386178237\n",
            "Epochs 260 /300: \n",
            "Training Cost 199.572547516044| Testing Cost 201.77659511706926\n",
            "Training MAE 14.528896318404444| Testing MAE 14.682041744993438\n",
            "Epochs 261 /300: \n",
            "Training Cost 199.5409584437538| Testing Cost 201.7844399104256\n",
            "Training MAE 14.52774727530983| Testing MAE 14.681988384715401\n",
            "Epochs 262 /300: \n",
            "Training Cost 199.50957483530632| Testing Cost 201.79234653280162\n",
            "Training MAE 14.526604388789659| Testing MAE 14.681939178150301\n",
            "Epochs 263 /300: \n",
            "Training Cost 199.4783952368787| Testing Cost 201.8003140397869\n",
            "Training MAE 14.525467554396853| Testing MAE 14.681894001454372\n",
            "Epochs 264 /300: \n",
            "Training Cost 199.44741820900265| Testing Cost 201.80834150146308\n",
            "Training MAE 14.524336670379691| Testing MAE 14.681852734048912\n",
            "Epochs 265 /300: \n",
            "Training Cost 199.41664232627318| Testing Cost 201.81642800204446\n",
            "Training MAE 14.523211637611814| Testing MAE 14.681815258537476\n",
            "Epochs 266 /300: \n",
            "Training Cost 199.38606617706705| Testing Cost 201.82457263953015\n",
            "Training MAE 14.522092359524025| Testing MAE 14.681781460625059\n",
            "Epochs 267 /300: \n",
            "Training Cost 199.35568836327207| Testing Cost 201.83277452536797\n",
            "Training MAE 14.520978742037784| Testing MAE 14.68175122903938\n",
            "Epochs 268 /300: \n",
            "Training Cost 199.32550750002548| Testing Cost 201.84103278413104\n",
            "Training MAE 14.51987069350043| Testing MAE 14.681724455454052\n",
            "Epochs 269 /300: \n",
            "Training Cost 199.2955222154616| Testing Cost 201.84934655320427\n",
            "Training MAE 14.518768124622001| Testing MAE 14.681701034413729\n",
            "Epochs 270 /300: \n",
            "Training Cost 199.26573115046835| Testing Cost 201.8577149824822\n",
            "Training MAE 14.517670948413697| Testing MAE 14.68168086326112\n",
            "Epochs 271 /300: \n",
            "Training Cost 199.23613295845217| Testing Cost 201.86613723407658\n",
            "Training MAE 14.516579080127896| Testing MAE 14.681663842065795\n",
            "Epochs 272 /300: \n",
            "Training Cost 199.20672630511058| Testing Cost 201.87461248203425\n",
            "Training MAE 14.515492437199665| Testing MAE 14.68164987355479\n",
            "Epochs 273 /300: \n",
            "Training Cost 199.17750986821318| Testing Cost 201.88313991206374\n",
            "Training MAE 14.514410939189805| Testing MAE 14.68163886304497\n",
            "Epochs 274 /300: \n",
            "Training Cost 199.1484823373891| Testing Cost 201.89171872127162\n",
            "Training MAE 14.513334507729306| Testing MAE 14.681630718377052\n",
            "Epochs 275 /300: \n",
            "Training Cost 199.1196424139222| Testing Cost 201.90034811790693\n",
            "Training MAE 14.512263066465206| Testing MAE 14.681625349851297\n",
            "Epochs 276 /300: \n",
            "Training Cost 199.09098881055272| Testing Cost 201.9090273211144\n",
            "Training MAE 14.511196541007907| Testing MAE 14.681622670164789\n",
            "Epochs 277 /300: \n",
            "Training Cost 199.06252025128512| Testing Cost 201.9177555606953\n",
            "Training MAE 14.510134858879706| Testing MAE 14.681622594350321\n",
            "Epochs 278 /300: \n",
            "Training Cost 199.03423547120272| Testing Cost 201.92653207687627\n",
            "Training MAE 14.509077949464743| Testing MAE 14.68162503971678\n",
            "Epochs 279 /300: \n",
            "Training Cost 199.00613321628754| Testing Cost 201.93535612008532\n",
            "Training MAE 14.50802574396018| Testing MAE 14.681629925791052\n",
            "Epochs 280 /300: \n",
            "Training Cost 198.9782122432464| Testing Cost 201.94422695073524\n",
            "Training MAE 14.506978175328618| Testing MAE 14.681637174261333\n",
            "Epochs 281 /300: \n",
            "Training Cost 198.950471319342| Testing Cost 201.95314383901348\n",
            "Training MAE 14.505935178251747| Testing MAE 14.681646708921937\n",
            "Epochs 282 /300: \n",
            "Training Cost 198.9229092222294| Testing Cost 201.9621060646789\n",
            "Training MAE 14.504896689085166| Testing MAE 14.681658455619408\n",
            "Epochs 283 /300: \n",
            "Training Cost 198.89552473979774| Testing Cost 201.97111291686466\n",
            "Training MAE 14.50386264581435| Testing MAE 14.68167234220004\n",
            "Epochs 284 /300: \n",
            "Training Cost 198.868316670016| Testing Cost 201.98016369388736\n",
            "Training MAE 14.502832988011772| Testing MAE 14.681688298458681\n",
            "Epochs 285 /300: \n",
            "Training Cost 198.84128382078399| Testing Cost 201.98925770306192\n",
            "Training MAE 14.501807656795084| Testing MAE 14.681706256088848\n",
            "Epochs 286 /300: \n",
            "Training Cost 198.81442500978775| Testing Cost 201.99839426052196\n",
            "Training MAE 14.500786594786367| Testing MAE 14.681726148634054\n",
            "Epochs 287 /300: \n",
            "Training Cost 198.78773906435873| Testing Cost 202.00757269104614\n",
            "Training MAE 14.499769746072472| Testing MAE 14.6817479114404\n",
            "Epochs 288 /300: \n",
            "Training Cost 198.76122482133715| Testing Cost 202.01679232788885\n",
            "Training MAE 14.498757056166308| Testing MAE 14.681771481610314\n",
            "Epochs 289 /300: \n",
            "Training Cost 198.7348811269395| Testing Cost 202.02605251261696\n",
            "Training MAE 14.497748471969178| Testing MAE 14.6817967979575\n",
            "Epochs 290 /300: \n",
            "Training Cost 198.70870683662937| Testing Cost 202.0353525949503\n",
            "Training MAE 14.496743941734014| Testing MAE 14.681823800962972\n",
            "Epochs 291 /300: \n",
            "Training Cost 198.68270081499244| Testing Cost 202.0446919326079\n",
            "Training MAE 14.495743415029649| Testing MAE 14.68185243273221\n",
            "Epochs 292 /300: \n",
            "Training Cost 198.65686193561385| Testing Cost 202.0540698911579\n",
            "Training MAE 14.494746842705917| Testing MAE 14.681882636953407\n",
            "Epochs 293 /300: \n",
            "Training Cost 198.63118908096016| Testing Cost 202.06348584387214\n",
            "Training MAE 14.49375417685967| Testing MAE 14.681914358856762\n",
            "Epochs 294 /300: \n",
            "Training Cost 198.6056811422636| Testing Cost 202.07293917158495\n",
            "Training MAE 14.49276537080171| Testing MAE 14.681947545174738\n",
            "Epochs 295 /300: \n",
            "Training Cost 198.58033701940954| Testing Cost 202.08242926255573\n",
            "Training MAE 14.491780379024515| Testing MAE 14.681982144103415\n",
            "Epochs 296 /300: \n",
            "Training Cost 198.55515562082687| Testing Cost 202.09195551233572\n",
            "Training MAE 14.490799157170821| Testing MAE 14.682018105264756\n",
            "Epochs 297 /300: \n",
            "Training Cost 198.5301358633815| Testing Cost 202.10151732363823\n",
            "Training MAE 14.489821662003006| Testing MAE 14.68205537966982\n",
            "Epochs 298 /300: \n",
            "Training Cost 198.5052766722722| Testing Cost 202.11111410621268\n",
            "Training MAE 14.488847851373277| Testing MAE 14.68209391968292\n",
            "Epochs 299 /300: \n",
            "Training Cost 198.48057698092896| Testing Cost 202.12074527672192\n",
            "Training MAE 14.48787768419457| Testing MAE 14.682133678986684\n",
            "Epochs 300 /300: \n",
            "Training Cost 198.45603573091435| Testing Cost 202.1304102586232\n",
            "Training MAE 14.486911120412296| Testing MAE 14.682174612547975\n"
          ]
        },
        {
          "data": {
            "image/png": "[encoded data removed]",
            "text/plain": [
              "<Figure size 720x432 with 1 Axes>"
            ]
          },
          "metadata": {},
          "output_type": "display_data"
        },
        {
          "data": {
            "image/png": "[encoded data removed]",
            "text/plain": [
              "<Figure size 720x432 with 1 Axes>"
            ]
          },
          "metadata": {},
          "output_type": "display_data"
        }
      ]
    },
    {
      "cell_type": "markdown",
      "metadata": {
        "id": "i2aSlVhtloH9"
      },
      "source": [
        "# Comparison between the Implemented Raw Model and Sklearn Built-in Model"
      ]
    },
    {
      "cell_type": "code",
      "metadata": {
        "id": "zk9imZKSloH9"
      },
      "source": [
        "def sklearn_linear_regression(x_train, y_train, x_test, y_test):\n",
        "    \"\"\"This function is for creating the model using the bult-in function in sklearn.\n",
        "    \n",
        "    Args:\n",
        "        Training and testing data\n",
        "    Returns:\n",
        "        Mean Squared Error for training and testing\n",
        "    \"\"\"\n",
        "    from sklearn.linear_model import LinearRegression\n",
        "    model=LinearRegression()\n",
        "    model.fit(x_train.T, y_train.T)\n",
        "    predictions_train=model.predict(x_train.T)\n",
        "    predictions_test=model.predict(x_test.T)\n",
        "    MAE_sklearn_train=(1/y_train.shape[1])*np.sum(np.abs(predictions_train-y_train.T))\n",
        "    MAE_sklearn_test=(1/y_test.shape[1])*np.sum(np.abs(predictions_test-y_test.T))\n",
        "    \n",
        "    print('Mean Squared Error in training using sklearn: '+str(MAE_sklearn_train))\n",
        "    print('Mean Squared Error in testing using sklearn: '+str(MAE_sklearn_test))"
      ],
      "execution_count": null,
      "outputs": []
    },
    {
      "cell_type": "code",
      "metadata": {
        "id": "f_fza5GnloH-",
        "outputId": "54301eb6-af27-4cc7-d96c-3165edbda82b"
      },
      "source": [
        "sklearn_linear_regression(X_train, y_train, X_test, y_test)"
      ],
      "execution_count": null,
      "outputs": [
        {
          "name": "stdout",
          "output_type": "stream",
          "text": [
            "Mean Squared Error in training using sklearn: 14.423425111348765\n",
            "Mean Squared Error in testing using sklearn: 14.888571207633479\n"
          ]
        }
      ]
    }
  ]
}
