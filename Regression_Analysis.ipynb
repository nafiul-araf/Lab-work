{
  "nbformat": 4,
  "nbformat_minor": 0,
  "metadata": {
    "colab": {
      "name": "Regression_Analysis.ipynb",
      "provenance": [],
      "collapsed_sections": [],
      "include_colab_link": true
    },
    "kernelspec": {
      "display_name": "Python 3",
      "language": "python",
      "name": "python3"
    },
    "language_info": {
      "codemirror_mode": {
        "name": "ipython",
        "version": 3
      },
      "file_extension": ".py",
      "mimetype": "text/x-python",
      "name": "python",
      "nbconvert_exporter": "python",
      "pygments_lexer": "ipython3",
      "version": "3.8.8"
    }
  },
  "cells": [
    {
      "cell_type": "markdown",
      "metadata": {
        "id": "view-in-github",
        "colab_type": "text"
      },
      "source": [
        "<a href=\"https://colab.research.google.com/github/nafiul-araf/Lab-work/blob/main/Regression_Analysis.ipynb\" target=\"_parent\"><img src=\"https://colab.research.google.com/assets/colab-badge.svg\" alt=\"Open In Colab\"/></a>"
      ]
    },
    {
      "cell_type": "markdown",
      "metadata": {
        "id": "mRSwP7kdh7no"
      },
      "source": [
        "### ***Loading The Data***"
      ]
    },
    {
      "cell_type": "code",
      "metadata": {
        "id": "86qcznauh5Qg"
      },
      "source": [
        "import pandas as pd\n",
        "import numpy as np\n",
        "from my_custom_utils import data_preparation,important_features_visualization_regression,feature_selection_regression"
      ],
      "execution_count": null,
      "outputs": []
    },
    {
      "cell_type": "code",
      "metadata": {
        "id": "Xc8K0Q1t-TWR"
      },
      "source": [
        "df=pd.read_csv('Copy of Depression and Happiness Factor Analysis.csv')"
      ],
      "execution_count": null,
      "outputs": []
    },
    {
      "cell_type": "code",
      "metadata": {
        "id": "CrMb2FcBIGAI"
      },
      "source": [
        "#df.head()"
      ],
      "execution_count": null,
      "outputs": []
    },
    {
      "cell_type": "code",
      "metadata": {
        "colab": {
          "base_uri": "https://localhost:8080/"
        },
        "id": "pD9HLmyK-nUr",
        "outputId": "a116ebf6-10a8-49d2-c1d1-9ccda7fa308d"
      },
      "source": [
        "df.shape"
      ],
      "execution_count": null,
      "outputs": [
        {
          "output_type": "execute_result",
          "data": {
            "text/plain": [
              "(920, 21)"
            ]
          },
          "metadata": {
            "tags": []
          },
          "execution_count": 4
        }
      ]
    },
    {
      "cell_type": "markdown",
      "metadata": {
        "id": "FQWqjUaEiRW5"
      },
      "source": [
        "### ***Data Preparation***"
      ]
    },
    {
      "cell_type": "code",
      "metadata": {
        "id": "PTntdYBE-o0k"
      },
      "source": [
        "df_final=data_preparation(df)"
      ],
      "execution_count": null,
      "outputs": []
    },
    {
      "cell_type": "code",
      "metadata": {
        "id": "r1gELdoc-81z",
        "outputId": "aaf538c4-808d-4a1f-f704-3c8b7d076da8"
      },
      "source": [
        "df_final.shape"
      ],
      "execution_count": null,
      "outputs": [
        {
          "output_type": "execute_result",
          "data": {
            "text/plain": [
              "(920, 18)"
            ]
          },
          "metadata": {
            "tags": []
          },
          "execution_count": 6
        }
      ]
    },
    {
      "cell_type": "code",
      "metadata": {
        "colab": {
          "base_uri": "https://localhost:8080/"
        },
        "id": "UO8Ig1rt_Gmm",
        "outputId": "0efaadf6-9c04-414a-d741-0c7d82cdc8fe"
      },
      "source": [
        "df_final.isnull().sum()"
      ],
      "execution_count": null,
      "outputs": [
        {
          "output_type": "execute_result",
          "data": {
            "text/plain": [
              "How are you feeling right now?                                                                  0\n",
              "Gender                                                                                          0\n",
              "Your location ?                                                                                 0\n",
              "Relationship status                                                                             0\n",
              "Are you happy with your financial state?                                                        0\n",
              "Understanding with your family members?                                                         0\n",
              "Are you feeling pressure in your study or work right now?                                       0\n",
              "Are you satisfied with your academic result?                                                    0\n",
              "Are you happy with your living place?                                                           0\n",
              "Who supports you when you are not succeeding in your academic life?                             0\n",
              "Have you used any social media within the last 6 hours?                                         0\n",
              "Are you satisfied with your meal today?                                                         0\n",
              "Are you feeling sick/health issues today?                                                       0\n",
              "Have you done any recreational activity (sports, gaming, hobby etc.) today?                     0\n",
              "On a scale of 1-100, how would you express this feeling?                                        0\n",
              "Age                                                                                             0\n",
              "How much have you succeeded to cope up with the environment of your educational institution?    0\n",
              "How long did you sleep last night?(in hours)                                                    0\n",
              "dtype: int64"
            ]
          },
          "metadata": {
            "tags": []
          },
          "execution_count": 7
        }
      ]
    },
    {
      "cell_type": "markdown",
      "metadata": {
        "id": "CZMBqAaIjFCN"
      },
      "source": [
        "### ***Feature Selection***"
      ]
    },
    {
      "cell_type": "code",
      "metadata": {
        "id": "w-djLq0FCGqr",
        "outputId": "4d4ed2e2-a9da-40e3-ef92-bb29629ab2ba"
      },
      "source": [
        "imp_feat_vis=important_features_visualization_regression(df_final)\n",
        "imp_feat_vis"
      ],
      "execution_count": null,
      "outputs": [
        {
          "output_type": "display_data",
          "data": {
            "image/png": "[encoded data removed]",
            "text/plain": [
              "<Figure size 1440x720 with 1 Axes>"
            ]
          },
          "metadata": {
            "tags": [],
            "needs_background": "light"
          }
        }
      ]
    },
    {
      "cell_type": "code",
      "metadata": {
        "id": "g6qVj2u2CdIX",
        "outputId": "1f440282-604c-4fdc-cc50-992b1b747f07"
      },
      "source": [
        "important_features=feature_selection_regression(df_final)\n",
        "important_features"
      ],
      "execution_count": null,
      "outputs": [
        {
          "output_type": "execute_result",
          "data": {
            "text/plain": [
              "Index(['Your location ?',\n",
              "       'Are you feeling pressure in your study or work right now?',\n",
              "       'Are you satisfied with your meal today?',\n",
              "       'On a scale of 1-100, how would you express this feeling?',\n",
              "       'How long did you sleep last night?(in hours)'],\n",
              "      dtype='object')"
            ]
          },
          "metadata": {
            "tags": []
          },
          "execution_count": 9
        }
      ]
    },
    {
      "cell_type": "markdown",
      "metadata": {
        "id": "N3LRbn2yjNTg"
      },
      "source": [
        "### ***Regresson Models***"
      ]
    },
    {
      "cell_type": "markdown",
      "metadata": {
        "id": "1gpWK7A2jZcC"
      },
      "source": [
        "Here I have used: \n",
        "\n",
        "*   Linear Regression (Multiple)\n",
        "*   Decision Tree Regressor\n",
        "*   Lasso\n",
        "*   Ridge\n",
        "*   Polynominal Regression\n",
        "*   Random Forest Regressor\n",
        "*   Logistic Regression\n",
        "\n"
      ]
    },
    {
      "cell_type": "code",
      "metadata": {
        "id": "oTLT_bGqDxGV"
      },
      "source": [
        "X_new=df_final[['Your location ?','Are you feeling pressure in your study or work right now?','Are you satisfied with your meal today?','On a scale of 1-100, how would you express this feeling?','How long did you sleep last night?(in hours)']]\n",
        "y_new=df_final[['How are you feeling right now?']]"
      ],
      "execution_count": null,
      "outputs": []
    },
    {
      "cell_type": "code",
      "metadata": {
        "id": "9kcrKIK2FP0h"
      },
      "source": [
        "from sklearn.model_selection import train_test_split,cross_val_score,KFold"
      ],
      "execution_count": null,
      "outputs": []
    },
    {
      "cell_type": "markdown",
      "metadata": {
        "id": "HAFNNsjjkgJB"
      },
      "source": [
        "***Multiple Linear Regression***"
      ]
    },
    {
      "cell_type": "code",
      "metadata": {
        "id": "ZoxoO-MZF3Ly"
      },
      "source": [
        "from sklearn.linear_model import LinearRegression"
      ],
      "execution_count": null,
      "outputs": []
    },
    {
      "cell_type": "code",
      "metadata": {
        "id": "gd_lhfy3GC6H"
      },
      "source": [
        "X_train,X_test,y_train,y_test=train_test_split(X_new,y_new,test_size=0.2,random_state=10)"
      ],
      "execution_count": null,
      "outputs": []
    },
    {
      "cell_type": "code",
      "metadata": {
        "id": "X4MxPlNZGTsj"
      },
      "source": [
        "cv=KFold(n_splits=10,shuffle=True,random_state=10)"
      ],
      "execution_count": null,
      "outputs": []
    },
    {
      "cell_type": "code",
      "metadata": {
        "id": "WF8MNNa8G23s"
      },
      "source": [
        "lin=LinearRegression()"
      ],
      "execution_count": null,
      "outputs": []
    },
    {
      "cell_type": "code",
      "metadata": {
        "id": "swL3i7xMG6lJ"
      },
      "source": [
        "mse_cv=-cross_val_score(lin,X_train,y_train,cv=cv,scoring='neg_mean_squared_error',n_jobs=-1)"
      ],
      "execution_count": null,
      "outputs": []
    },
    {
      "cell_type": "code",
      "metadata": {
        "colab": {
          "base_uri": "https://localhost:8080/"
        },
        "id": "eOfaOR0mHd5E",
        "outputId": "3edb9d46-3027-41e4-837a-bb22cd3a7fdf"
      },
      "source": [
        "lin.fit(X_train,y_train)"
      ],
      "execution_count": null,
      "outputs": [
        {
          "output_type": "execute_result",
          "data": {
            "text/plain": [
              "LinearRegression()"
            ]
          },
          "metadata": {
            "tags": []
          },
          "execution_count": 17
        }
      ]
    },
    {
      "cell_type": "code",
      "metadata": {
        "id": "cYiJnbUAHnM-"
      },
      "source": [
        "y_pred_train=lin.predict(X_train)"
      ],
      "execution_count": null,
      "outputs": []
    },
    {
      "cell_type": "code",
      "metadata": {
        "id": "ki4yJE0OH7q7"
      },
      "source": [
        "from sklearn.metrics import mean_squared_error,accuracy_score,confusion_matrix,classification_report"
      ],
      "execution_count": null,
      "outputs": []
    },
    {
      "cell_type": "code",
      "metadata": {
        "colab": {
          "base_uri": "https://localhost:8080/"
        },
        "id": "wiltHQMXHwus",
        "outputId": "4a3f32af-faf0-4864-a1d6-951052a7f867"
      },
      "source": [
        "mse_train=mean_squared_error(y_train,y_pred_train)\n",
        "mse_train"
      ],
      "execution_count": null,
      "outputs": [
        {
          "output_type": "execute_result",
          "data": {
            "text/plain": [
              "1.4310469531377132"
            ]
          },
          "metadata": {
            "tags": []
          },
          "execution_count": 20
        }
      ]
    },
    {
      "cell_type": "code",
      "metadata": {
        "id": "NZ-u2CqPIIaB"
      },
      "source": [
        "y_pred_test=lin.predict(X_test)"
      ],
      "execution_count": null,
      "outputs": []
    },
    {
      "cell_type": "code",
      "metadata": {
        "colab": {
          "base_uri": "https://localhost:8080/"
        },
        "id": "hLjnNUmKISmF",
        "outputId": "465bfbac-812a-4c41-c3ca-9e9932b09527"
      },
      "source": [
        "mse_test=mean_squared_error(y_test,y_pred_test)\n",
        "mse_test"
      ],
      "execution_count": null,
      "outputs": [
        {
          "output_type": "execute_result",
          "data": {
            "text/plain": [
              "1.5311010333011401"
            ]
          },
          "metadata": {
            "tags": []
          },
          "execution_count": 22
        }
      ]
    },
    {
      "cell_type": "code",
      "metadata": {
        "colab": {
          "base_uri": "https://localhost:8080/"
        },
        "id": "waw6ADAGIYn3",
        "outputId": "3276d93f-94a1-494a-d5e7-8d86d159083a"
      },
      "source": [
        "mse_cv.mean()"
      ],
      "execution_count": null,
      "outputs": [
        {
          "output_type": "execute_result",
          "data": {
            "text/plain": [
              "1.4578108932013234"
            ]
          },
          "metadata": {
            "tags": []
          },
          "execution_count": 23
        }
      ]
    },
    {
      "cell_type": "code",
      "metadata": {
        "colab": {
          "base_uri": "https://localhost:8080/"
        },
        "id": "S_ObxrSBIeQL",
        "outputId": "e984b75c-302d-4b6b-9863-b4498d50b990"
      },
      "source": [
        "lin.score(X_test,y_test)"
      ],
      "execution_count": null,
      "outputs": [
        {
          "output_type": "execute_result",
          "data": {
            "text/plain": [
              "0.21084907845626366"
            ]
          },
          "metadata": {
            "tags": []
          },
          "execution_count": 24
        }
      ]
    },
    {
      "cell_type": "code",
      "metadata": {
        "colab": {
          "base_uri": "https://localhost:8080/"
        },
        "id": "qNxTlxRtR9iG",
        "outputId": "680ba680-d8b3-44a0-cd3e-f130cf33cf50"
      },
      "source": [
        "accuracy_score(y_test,y_pred_test.round())"
      ],
      "execution_count": null,
      "outputs": [
        {
          "output_type": "execute_result",
          "data": {
            "text/plain": [
              "0.13043478260869565"
            ]
          },
          "metadata": {
            "tags": []
          },
          "execution_count": 25
        }
      ]
    },
    {
      "cell_type": "code",
      "metadata": {
        "colab": {
          "base_uri": "https://localhost:8080/"
        },
        "id": "BqX_YoKYR9me",
        "outputId": "81d4ca70-f172-417a-a806-807329f29e0a"
      },
      "source": [
        "print(confusion_matrix(y_test,y_pred_test.round()))"
      ],
      "execution_count": null,
      "outputs": [
        {
          "output_type": "stream",
          "text": [
            "[[ 0 14 17  2  0]\n",
            " [ 0  7 20 13  1]\n",
            " [ 0 22 16  2  0]\n",
            " [ 0 10 20  1  1]\n",
            " [ 0  0  3 35  0]]\n"
          ],
          "name": "stdout"
        }
      ]
    },
    {
      "cell_type": "code",
      "metadata": {
        "colab": {
          "base_uri": "https://localhost:8080/"
        },
        "id": "jBGoN3zhR9sP",
        "outputId": "3be1e3da-8811-432c-a80b-b5c9d67d6ed3"
      },
      "source": [
        "print(classification_report(y_test,y_pred_test.round()))"
      ],
      "execution_count": null,
      "outputs": [
        {
          "output_type": "stream",
          "text": [
            "              precision    recall  f1-score   support\n",
            "\n",
            "           0       0.00      0.00      0.00        33\n",
            "           1       0.13      0.17      0.15        41\n",
            "           2       0.21      0.40      0.28        40\n",
            "           3       0.02      0.03      0.02        32\n",
            "           4       0.00      0.00      0.00        38\n",
            "\n",
            "    accuracy                           0.13       184\n",
            "   macro avg       0.07      0.12      0.09       184\n",
            "weighted avg       0.08      0.13      0.10       184\n",
            "\n"
          ],
          "name": "stdout"
        },
        {
          "output_type": "stream",
          "text": [
            "D:\\Anaconda\\lib\\site-packages\\sklearn\\metrics\\_classification.py:1245: UndefinedMetricWarning: Precision and F-score are ill-defined and being set to 0.0 in labels with no predicted samples. Use `zero_division` parameter to control this behavior.\n",
            "  _warn_prf(average, modifier, msg_start, len(result))\n",
            "D:\\Anaconda\\lib\\site-packages\\sklearn\\metrics\\_classification.py:1245: UndefinedMetricWarning: Precision and F-score are ill-defined and being set to 0.0 in labels with no predicted samples. Use `zero_division` parameter to control this behavior.\n",
            "  _warn_prf(average, modifier, msg_start, len(result))\n",
            "D:\\Anaconda\\lib\\site-packages\\sklearn\\metrics\\_classification.py:1245: UndefinedMetricWarning: Precision and F-score are ill-defined and being set to 0.0 in labels with no predicted samples. Use `zero_division` parameter to control this behavior.\n",
            "  _warn_prf(average, modifier, msg_start, len(result))\n"
          ],
          "name": "stderr"
        }
      ]
    },
    {
      "cell_type": "code",
      "metadata": {
        "colab": {
          "base_uri": "https://localhost:8080/"
        },
        "id": "6byrmiVOR9xz",
        "outputId": "9b0727bc-d81b-4bab-a4d5-d15ab4a214cb"
      },
      "source": [
        "accuracy_score(y_train,y_pred_train.round())"
      ],
      "execution_count": null,
      "outputs": [
        {
          "output_type": "execute_result",
          "data": {
            "text/plain": [
              "0.14402173913043478"
            ]
          },
          "metadata": {
            "tags": []
          },
          "execution_count": 28
        }
      ]
    },
    {
      "cell_type": "code",
      "metadata": {
        "colab": {
          "base_uri": "https://localhost:8080/"
        },
        "id": "usNN2SrlR92z",
        "outputId": "dd1791b5-b186-42d2-b8cf-6a4e64cf8917"
      },
      "source": [
        "print(confusion_matrix(y_train,y_pred_train.round()))"
      ],
      "execution_count": null,
      "outputs": [
        {
          "output_type": "stream",
          "text": [
            "[[  0  62  67   4   0]\n",
            " [  0  29  76  50   1]\n",
            " [  0  61  63  13   1]\n",
            " [  1  38  81  10   0]\n",
            " [  0   0  13 162   4]]\n"
          ],
          "name": "stdout"
        }
      ]
    },
    {
      "cell_type": "code",
      "metadata": {
        "colab": {
          "base_uri": "https://localhost:8080/"
        },
        "id": "nNbIE80UR96L",
        "outputId": "50402cee-db85-44ba-c7be-82661735b67d"
      },
      "source": [
        "print(classification_report(y_train,y_pred_train.round()))"
      ],
      "execution_count": null,
      "outputs": [
        {
          "output_type": "stream",
          "text": [
            "              precision    recall  f1-score   support\n",
            "\n",
            "           0       0.00      0.00      0.00       133\n",
            "           1       0.15      0.19      0.17       156\n",
            "           2       0.21      0.46      0.29       138\n",
            "           3       0.04      0.08      0.05       130\n",
            "           4       0.67      0.02      0.04       179\n",
            "\n",
            "    accuracy                           0.14       736\n",
            "   macro avg       0.21      0.15      0.11       736\n",
            "weighted avg       0.24      0.14      0.11       736\n",
            "\n"
          ],
          "name": "stdout"
        }
      ]
    },
    {
      "cell_type": "markdown",
      "metadata": {
        "id": "FNU0dGXmkpxo"
      },
      "source": [
        "***Decision Tree Regressor***"
      ]
    },
    {
      "cell_type": "code",
      "metadata": {
        "id": "499pizL4I0gr"
      },
      "source": [
        "from sklearn.tree import DecisionTreeRegressor"
      ],
      "execution_count": null,
      "outputs": []
    },
    {
      "cell_type": "code",
      "metadata": {
        "id": "iikX3wVNKeoV"
      },
      "source": [
        "dt_reg=DecisionTreeRegressor(max_depth=4,min_samples_leaf=0.17)"
      ],
      "execution_count": null,
      "outputs": []
    },
    {
      "cell_type": "code",
      "metadata": {
        "id": "UI-JYFg9Koz1"
      },
      "source": [
        "cv_r=KFold(n_splits=10,shuffle=True)"
      ],
      "execution_count": null,
      "outputs": []
    },
    {
      "cell_type": "code",
      "metadata": {
        "id": "7ZJI2BYuKrED"
      },
      "source": [
        "cv_mse=-cross_val_score(dt_reg,X_train,y_train,cv=cv_r,scoring='neg_mean_squared_error',n_jobs=-1)"
      ],
      "execution_count": null,
      "outputs": []
    },
    {
      "cell_type": "code",
      "metadata": {
        "colab": {
          "base_uri": "https://localhost:8080/"
        },
        "id": "Lpvt10ZuLBkl",
        "outputId": "a5b049fe-70bb-4b04-edac-e9aea13981b1"
      },
      "source": [
        "dt_reg.fit(X_train,y_train)"
      ],
      "execution_count": null,
      "outputs": [
        {
          "output_type": "execute_result",
          "data": {
            "text/plain": [
              "DecisionTreeRegressor(max_depth=4, min_samples_leaf=0.17)"
            ]
          },
          "metadata": {
            "tags": []
          },
          "execution_count": 35
        }
      ]
    },
    {
      "cell_type": "code",
      "metadata": {
        "id": "suGudx8lLGnY"
      },
      "source": [
        "y_pred_dt_reg_train=dt_reg.predict(X_train)"
      ],
      "execution_count": null,
      "outputs": []
    },
    {
      "cell_type": "code",
      "metadata": {
        "colab": {
          "base_uri": "https://localhost:8080/"
        },
        "id": "elpUTNexLQ0_",
        "outputId": "ca568079-4d3a-4597-fbeb-afd8350710d3"
      },
      "source": [
        "train_mse=mean_squared_error(y_train,y_pred_dt_reg_train)\n",
        "train_mse"
      ],
      "execution_count": null,
      "outputs": [
        {
          "output_type": "execute_result",
          "data": {
            "text/plain": [
              "0.1368040304006844"
            ]
          },
          "metadata": {
            "tags": []
          },
          "execution_count": 37
        }
      ]
    },
    {
      "cell_type": "code",
      "metadata": {
        "id": "TYUhVcVFLZM7"
      },
      "source": [
        "y_pred_dt_reg_test=dt_reg.predict(X_test)"
      ],
      "execution_count": null,
      "outputs": []
    },
    {
      "cell_type": "code",
      "metadata": {
        "colab": {
          "base_uri": "https://localhost:8080/"
        },
        "id": "sVrpe1hCLgWD",
        "outputId": "c02393e5-8481-4061-c6e1-d67112785eeb"
      },
      "source": [
        "test_mse=mean_squared_error(y_test,y_pred_dt_reg_test)\n",
        "test_mse"
      ],
      "execution_count": null,
      "outputs": [
        {
          "output_type": "execute_result",
          "data": {
            "text/plain": [
              "0.15248375507914633"
            ]
          },
          "metadata": {
            "tags": []
          },
          "execution_count": 39
        }
      ]
    },
    {
      "cell_type": "code",
      "metadata": {
        "colab": {
          "base_uri": "https://localhost:8080/"
        },
        "id": "E8ibaFngLnUC",
        "outputId": "94c4ef95-edab-4ced-f446-26a8daa4e21f"
      },
      "source": [
        "cv_mse.mean()"
      ],
      "execution_count": null,
      "outputs": [
        {
          "output_type": "execute_result",
          "data": {
            "text/plain": [
              "0.14124711974804333"
            ]
          },
          "metadata": {
            "tags": []
          },
          "execution_count": 40
        }
      ]
    },
    {
      "cell_type": "code",
      "metadata": {
        "colab": {
          "base_uri": "https://localhost:8080/"
        },
        "id": "CB6atYZ1LtbP",
        "outputId": "51b650d3-915d-46c2-eef6-227cb58ad6a3"
      },
      "source": [
        "dt_reg.score(X_test,y_test)"
      ],
      "execution_count": null,
      "outputs": [
        {
          "output_type": "execute_result",
          "data": {
            "text/plain": [
              "0.9214077365086002"
            ]
          },
          "metadata": {
            "tags": []
          },
          "execution_count": 41
        }
      ]
    },
    {
      "cell_type": "code",
      "metadata": {
        "colab": {
          "base_uri": "https://localhost:8080/"
        },
        "id": "ecREE8_5P8V3",
        "outputId": "de159e20-3eae-48b1-ea1f-3e97063dd2a7"
      },
      "source": [
        "accuracy_score(y_test,y_pred_dt_reg_test.round())"
      ],
      "execution_count": null,
      "outputs": [
        {
          "output_type": "execute_result",
          "data": {
            "text/plain": [
              "0.8260869565217391"
            ]
          },
          "metadata": {
            "tags": []
          },
          "execution_count": 42
        }
      ]
    },
    {
      "cell_type": "code",
      "metadata": {
        "colab": {
          "base_uri": "https://localhost:8080/"
        },
        "id": "irc9MXrxP8gS",
        "outputId": "f4bfa1fe-fca0-4f08-be90-b31909bd276a"
      },
      "source": [
        "print(confusion_matrix(y_test,y_pred_dt_reg_test.round()))"
      ],
      "execution_count": null,
      "outputs": [
        {
          "output_type": "stream",
          "text": [
            "[[32  0  0  1  0]\n",
            " [ 0 22 19  0  0]\n",
            " [ 0 12 28  0  0]\n",
            " [ 0  0  0 32  0]\n",
            " [ 0  0  0  0 38]]\n"
          ],
          "name": "stdout"
        }
      ]
    },
    {
      "cell_type": "code",
      "metadata": {
        "colab": {
          "base_uri": "https://localhost:8080/"
        },
        "id": "ZeSXqzFWP8ps",
        "outputId": "e48b66e9-5d08-4ca4-e7a9-cbaf43724240"
      },
      "source": [
        "print(classification_report(y_test,y_pred_dt_reg_test.round()))"
      ],
      "execution_count": null,
      "outputs": [
        {
          "output_type": "stream",
          "text": [
            "              precision    recall  f1-score   support\n",
            "\n",
            "           0       1.00      0.97      0.98        33\n",
            "           1       0.65      0.54      0.59        41\n",
            "           2       0.60      0.70      0.64        40\n",
            "           3       0.97      1.00      0.98        32\n",
            "           4       1.00      1.00      1.00        38\n",
            "\n",
            "    accuracy                           0.83       184\n",
            "   macro avg       0.84      0.84      0.84       184\n",
            "weighted avg       0.83      0.83      0.83       184\n",
            "\n"
          ],
          "name": "stdout"
        }
      ]
    },
    {
      "cell_type": "code",
      "metadata": {
        "colab": {
          "base_uri": "https://localhost:8080/"
        },
        "id": "N8j5nIltRAMv",
        "outputId": "0e933f11-46b0-4fab-8bcc-4603b8ad41a3"
      },
      "source": [
        "accuracy_score(y_train,y_pred_dt_reg_train.round())"
      ],
      "execution_count": null,
      "outputs": [
        {
          "output_type": "execute_result",
          "data": {
            "text/plain": [
              "0.8478260869565217"
            ]
          },
          "metadata": {
            "tags": []
          },
          "execution_count": 45
        }
      ]
    },
    {
      "cell_type": "code",
      "metadata": {
        "colab": {
          "base_uri": "https://localhost:8080/"
        },
        "id": "VuKP418DRAQp",
        "outputId": "a296c898-acc2-449b-fb29-d8743bfbeb82"
      },
      "source": [
        "print(confusion_matrix(y_train,y_pred_dt_reg_train.round()))"
      ],
      "execution_count": null,
      "outputs": [
        {
          "output_type": "stream",
          "text": [
            "[[132   0   0   1   0]\n",
            " [  0  89  66   0   1]\n",
            " [  2  40  96   0   0]\n",
            " [  0   0   0 130   0]\n",
            " [  0   1   0   1 177]]\n"
          ],
          "name": "stdout"
        }
      ]
    },
    {
      "cell_type": "code",
      "metadata": {
        "colab": {
          "base_uri": "https://localhost:8080/"
        },
        "id": "kUIai1acRAUC",
        "outputId": "53844652-c9c5-4d29-d090-ed1dd46e6654"
      },
      "source": [
        "print(classification_report(y_train,y_pred_dt_reg_train.round()))"
      ],
      "execution_count": null,
      "outputs": [
        {
          "output_type": "stream",
          "text": [
            "              precision    recall  f1-score   support\n",
            "\n",
            "           0       0.99      0.99      0.99       133\n",
            "           1       0.68      0.57      0.62       156\n",
            "           2       0.59      0.70      0.64       138\n",
            "           3       0.98      1.00      0.99       130\n",
            "           4       0.99      0.99      0.99       179\n",
            "\n",
            "    accuracy                           0.85       736\n",
            "   macro avg       0.85      0.85      0.85       736\n",
            "weighted avg       0.85      0.85      0.85       736\n",
            "\n"
          ],
          "name": "stdout"
        }
      ]
    },
    {
      "cell_type": "markdown",
      "metadata": {
        "id": "qFG8zodZkysZ"
      },
      "source": [
        "***Lasso***"
      ]
    },
    {
      "cell_type": "code",
      "metadata": {
        "id": "e8RBBd7KL5H2"
      },
      "source": [
        "from sklearn.linear_model import Lasso"
      ],
      "execution_count": null,
      "outputs": []
    },
    {
      "cell_type": "code",
      "metadata": {
        "id": "yENmT1tQMiPP"
      },
      "source": [
        "las=Lasso(alpha=0.4,normalize=True)"
      ],
      "execution_count": null,
      "outputs": []
    },
    {
      "cell_type": "code",
      "metadata": {
        "id": "lqDDPhRrNN2P"
      },
      "source": [
        "cv_lasso=KFold(n_splits=10,shuffle=True)"
      ],
      "execution_count": null,
      "outputs": []
    },
    {
      "cell_type": "code",
      "metadata": {
        "id": "gAnuvbUYNN60"
      },
      "source": [
        "cv_lasso_mse=-cross_val_score(las,X_train,y_train,scoring='neg_mean_squared_error',cv=cv_lasso,n_jobs=-1)"
      ],
      "execution_count": null,
      "outputs": []
    },
    {
      "cell_type": "code",
      "metadata": {
        "colab": {
          "base_uri": "https://localhost:8080/"
        },
        "id": "Pw7jwcYqMrJ0",
        "outputId": "670081b1-d571-4c9e-94b1-909a0b92dd8d"
      },
      "source": [
        "las.fit(X_train,y_train)"
      ],
      "execution_count": null,
      "outputs": [
        {
          "output_type": "execute_result",
          "data": {
            "text/plain": [
              "Lasso(alpha=0.4, normalize=True)"
            ]
          },
          "metadata": {
            "tags": []
          },
          "execution_count": 52
        }
      ]
    },
    {
      "cell_type": "code",
      "metadata": {
        "id": "-DK4ZWk6MxvK"
      },
      "source": [
        "y_pred_lasso_train=las.predict(X_train)"
      ],
      "execution_count": null,
      "outputs": []
    },
    {
      "cell_type": "code",
      "metadata": {
        "colab": {
          "base_uri": "https://localhost:8080/"
        },
        "id": "ss5AgbEQM46s",
        "outputId": "49e116ac-e891-467d-cf59-c38858fa449e"
      },
      "source": [
        "mse_lass_train=mean_squared_error(y_train,y_pred_lasso_train)\n",
        "mse_lass_train"
      ],
      "execution_count": null,
      "outputs": [
        {
          "output_type": "execute_result",
          "data": {
            "text/plain": [
              "2.0761977197542536"
            ]
          },
          "metadata": {
            "tags": []
          },
          "execution_count": 54
        }
      ]
    },
    {
      "cell_type": "code",
      "metadata": {
        "id": "rH_tA_bYM_dR"
      },
      "source": [
        "y_pred_lasso_test=las.predict(X_test)"
      ],
      "execution_count": null,
      "outputs": []
    },
    {
      "cell_type": "code",
      "metadata": {
        "colab": {
          "base_uri": "https://localhost:8080/"
        },
        "id": "Id39k6T5N-R6",
        "outputId": "c6acee57-908b-44a8-e353-527ab0be8fe6"
      },
      "source": [
        "mse_lass_test=mean_squared_error(y_test,y_pred_lasso_test)\n",
        "mse_lass_test"
      ],
      "execution_count": null,
      "outputs": [
        {
          "output_type": "execute_result",
          "data": {
            "text/plain": [
              "1.947284085538752"
            ]
          },
          "metadata": {
            "tags": []
          },
          "execution_count": 56
        }
      ]
    },
    {
      "cell_type": "code",
      "metadata": {
        "colab": {
          "base_uri": "https://localhost:8080/"
        },
        "id": "Yzg9ouS8OGMP",
        "outputId": "fadccfa3-5fe1-4faa-9ad9-2fe7fb7a83bd"
      },
      "source": [
        "cv_lasso_mse.mean()"
      ],
      "execution_count": null,
      "outputs": [
        {
          "output_type": "execute_result",
          "data": {
            "text/plain": [
              "2.083987056867893"
            ]
          },
          "metadata": {
            "tags": []
          },
          "execution_count": 57
        }
      ]
    },
    {
      "cell_type": "code",
      "metadata": {
        "colab": {
          "base_uri": "https://localhost:8080/"
        },
        "id": "11spr4ZZONWv",
        "outputId": "7ec3b309-f6e8-4e99-bb91-1df10470b1ba"
      },
      "source": [
        "las.score(X_test,y_test)"
      ],
      "execution_count": null,
      "outputs": [
        {
          "output_type": "execute_result",
          "data": {
            "text/plain": [
              "-0.0036574969171982996"
            ]
          },
          "metadata": {
            "tags": []
          },
          "execution_count": 58
        }
      ]
    },
    {
      "cell_type": "code",
      "metadata": {
        "colab": {
          "base_uri": "https://localhost:8080/"
        },
        "id": "YPvJsl8fSmUG",
        "outputId": "89994aff-421b-47a6-ea1c-b45d0de280d9"
      },
      "source": [
        "accuracy_score(y_test,y_pred_lasso_test.round())"
      ],
      "execution_count": null,
      "outputs": [
        {
          "output_type": "execute_result",
          "data": {
            "text/plain": [
              "0.21739130434782608"
            ]
          },
          "metadata": {
            "tags": []
          },
          "execution_count": 59
        }
      ]
    },
    {
      "cell_type": "code",
      "metadata": {
        "colab": {
          "base_uri": "https://localhost:8080/"
        },
        "id": "TYSIKta6SmXl",
        "outputId": "130d820e-e170-4c55-c7a2-6206f93e79bf"
      },
      "source": [
        "print(confusion_matrix(y_test,y_pred_lasso_test.round()))"
      ],
      "execution_count": null,
      "outputs": [
        {
          "output_type": "stream",
          "text": [
            "[[ 0  0 33  0  0]\n",
            " [ 0  0 41  0  0]\n",
            " [ 0  0 40  0  0]\n",
            " [ 0  0 32  0  0]\n",
            " [ 0  0 38  0  0]]\n"
          ],
          "name": "stdout"
        }
      ]
    },
    {
      "cell_type": "code",
      "metadata": {
        "colab": {
          "base_uri": "https://localhost:8080/"
        },
        "id": "aerPFmnxSmbV",
        "outputId": "f2f5f2b5-ee70-4279-c084-f2918d7b8c77"
      },
      "source": [
        "print(classification_report(y_test,y_pred_lasso_test.round()))"
      ],
      "execution_count": null,
      "outputs": [
        {
          "output_type": "stream",
          "text": [
            "              precision    recall  f1-score   support\n",
            "\n",
            "           0       0.00      0.00      0.00        33\n",
            "           1       0.00      0.00      0.00        41\n",
            "           2       0.22      1.00      0.36        40\n",
            "           3       0.00      0.00      0.00        32\n",
            "           4       0.00      0.00      0.00        38\n",
            "\n",
            "    accuracy                           0.22       184\n",
            "   macro avg       0.04      0.20      0.07       184\n",
            "weighted avg       0.05      0.22      0.08       184\n",
            "\n"
          ],
          "name": "stdout"
        },
        {
          "output_type": "stream",
          "text": [
            "D:\\Anaconda\\lib\\site-packages\\sklearn\\metrics\\_classification.py:1245: UndefinedMetricWarning: Precision and F-score are ill-defined and being set to 0.0 in labels with no predicted samples. Use `zero_division` parameter to control this behavior.\n",
            "  _warn_prf(average, modifier, msg_start, len(result))\n",
            "D:\\Anaconda\\lib\\site-packages\\sklearn\\metrics\\_classification.py:1245: UndefinedMetricWarning: Precision and F-score are ill-defined and being set to 0.0 in labels with no predicted samples. Use `zero_division` parameter to control this behavior.\n",
            "  _warn_prf(average, modifier, msg_start, len(result))\n",
            "D:\\Anaconda\\lib\\site-packages\\sklearn\\metrics\\_classification.py:1245: UndefinedMetricWarning: Precision and F-score are ill-defined and being set to 0.0 in labels with no predicted samples. Use `zero_division` parameter to control this behavior.\n",
            "  _warn_prf(average, modifier, msg_start, len(result))\n"
          ],
          "name": "stderr"
        }
      ]
    },
    {
      "cell_type": "code",
      "metadata": {
        "colab": {
          "base_uri": "https://localhost:8080/"
        },
        "id": "GgHpC-qSSmus",
        "outputId": "c22dd0cd-3a52-441c-d221-6620fb18d3cb"
      },
      "source": [
        "accuracy_score(y_train,y_pred_lasso_train.round())"
      ],
      "execution_count": null,
      "outputs": [
        {
          "output_type": "execute_result",
          "data": {
            "text/plain": [
              "0.1875"
            ]
          },
          "metadata": {
            "tags": []
          },
          "execution_count": 62
        }
      ]
    },
    {
      "cell_type": "code",
      "metadata": {
        "colab": {
          "base_uri": "https://localhost:8080/"
        },
        "id": "jtdEWBCaSmwj",
        "outputId": "8d6c312b-772a-465a-a146-a0491b782982"
      },
      "source": [
        "print(confusion_matrix(y_train,y_pred_lasso_train.round()))"
      ],
      "execution_count": null,
      "outputs": [
        {
          "output_type": "stream",
          "text": [
            "[[  0   0 133   0   0]\n",
            " [  0   0 156   0   0]\n",
            " [  0   0 138   0   0]\n",
            " [  0   0 130   0   0]\n",
            " [  0   0 179   0   0]]\n"
          ],
          "name": "stdout"
        }
      ]
    },
    {
      "cell_type": "code",
      "metadata": {
        "colab": {
          "base_uri": "https://localhost:8080/"
        },
        "id": "2rTOate2Sm0c",
        "outputId": "d6fed68b-afb2-402d-f0fc-ebc655c946c2"
      },
      "source": [
        "print(classification_report(y_train,y_pred_lasso_train.round()))"
      ],
      "execution_count": null,
      "outputs": [
        {
          "output_type": "stream",
          "text": [
            "              precision    recall  f1-score   support\n",
            "\n",
            "           0       0.00      0.00      0.00       133\n",
            "           1       0.00      0.00      0.00       156\n",
            "           2       0.19      1.00      0.32       138\n",
            "           3       0.00      0.00      0.00       130\n",
            "           4       0.00      0.00      0.00       179\n",
            "\n",
            "    accuracy                           0.19       736\n",
            "   macro avg       0.04      0.20      0.06       736\n",
            "weighted avg       0.04      0.19      0.06       736\n",
            "\n"
          ],
          "name": "stdout"
        },
        {
          "output_type": "stream",
          "text": [
            "D:\\Anaconda\\lib\\site-packages\\sklearn\\metrics\\_classification.py:1245: UndefinedMetricWarning: Precision and F-score are ill-defined and being set to 0.0 in labels with no predicted samples. Use `zero_division` parameter to control this behavior.\n",
            "  _warn_prf(average, modifier, msg_start, len(result))\n",
            "D:\\Anaconda\\lib\\site-packages\\sklearn\\metrics\\_classification.py:1245: UndefinedMetricWarning: Precision and F-score are ill-defined and being set to 0.0 in labels with no predicted samples. Use `zero_division` parameter to control this behavior.\n",
            "  _warn_prf(average, modifier, msg_start, len(result))\n",
            "D:\\Anaconda\\lib\\site-packages\\sklearn\\metrics\\_classification.py:1245: UndefinedMetricWarning: Precision and F-score are ill-defined and being set to 0.0 in labels with no predicted samples. Use `zero_division` parameter to control this behavior.\n",
            "  _warn_prf(average, modifier, msg_start, len(result))\n"
          ],
          "name": "stderr"
        }
      ]
    },
    {
      "cell_type": "markdown",
      "metadata": {
        "id": "Wodue7yVk7oX"
      },
      "source": [
        "***Ridge***"
      ]
    },
    {
      "cell_type": "code",
      "metadata": {
        "id": "WeAlJftSk_fs"
      },
      "source": [
        "from sklearn.linear_model import Ridge"
      ],
      "execution_count": null,
      "outputs": []
    },
    {
      "cell_type": "code",
      "metadata": {
        "id": "3R-rjLVFORlB"
      },
      "source": [
        "rid=Ridge(normalize=True)"
      ],
      "execution_count": null,
      "outputs": []
    },
    {
      "cell_type": "code",
      "metadata": {
        "id": "IL4ETS8hOaiH"
      },
      "source": [
        "cv_ridge=KFold(n_splits=10,shuffle=True)"
      ],
      "execution_count": null,
      "outputs": []
    },
    {
      "cell_type": "code",
      "metadata": {
        "id": "BQOliSoSOj6Y"
      },
      "source": [
        "cv_ridge_mse=-cross_val_score(rid,X_train,y_train,cv=cv_ridge,scoring='neg_mean_squared_error',n_jobs=-1)"
      ],
      "execution_count": null,
      "outputs": []
    },
    {
      "cell_type": "code",
      "metadata": {
        "colab": {
          "base_uri": "https://localhost:8080/"
        },
        "id": "cozK7NmmO1kw",
        "outputId": "089ffecf-a9e2-4a53-95ff-7d4eb93119f7"
      },
      "source": [
        "rid.fit(X_train,y_train)"
      ],
      "execution_count": null,
      "outputs": [
        {
          "output_type": "execute_result",
          "data": {
            "text/plain": [
              "Ridge(normalize=True)"
            ]
          },
          "metadata": {
            "tags": []
          },
          "execution_count": 69
        }
      ]
    },
    {
      "cell_type": "code",
      "metadata": {
        "id": "ZKcsXlWEO5e_"
      },
      "source": [
        "y_pred_ridge_train=rid.predict(X_train)"
      ],
      "execution_count": null,
      "outputs": []
    },
    {
      "cell_type": "code",
      "metadata": {
        "colab": {
          "base_uri": "https://localhost:8080/"
        },
        "id": "UQmkdRJ6PDTk",
        "outputId": "cc7311c7-f7b1-41b0-8f61-412b21f9019d"
      },
      "source": [
        "mse_ridge_train=mean_squared_error(y_train,y_pred_ridge_train)\n",
        "mse_ridge_train"
      ],
      "execution_count": null,
      "outputs": [
        {
          "output_type": "execute_result",
          "data": {
            "text/plain": [
              "1.5756388216723176"
            ]
          },
          "metadata": {
            "tags": []
          },
          "execution_count": 71
        }
      ]
    },
    {
      "cell_type": "code",
      "metadata": {
        "id": "gebROkjiPNP1"
      },
      "source": [
        "y_pred_ridge_test=rid.predict(X_test)"
      ],
      "execution_count": null,
      "outputs": []
    },
    {
      "cell_type": "code",
      "metadata": {
        "colab": {
          "base_uri": "https://localhost:8080/"
        },
        "id": "BUa0-keyPVB1",
        "outputId": "d0a7c0fa-ffb3-4eaf-d075-c7ac85d1a13d"
      },
      "source": [
        "mse_ridge_test=mean_squared_error(y_test,y_pred_ridge_test)\n",
        "mse_ridge_test"
      ],
      "execution_count": null,
      "outputs": [
        {
          "output_type": "execute_result",
          "data": {
            "text/plain": [
              "1.5391747278333023"
            ]
          },
          "metadata": {
            "tags": []
          },
          "execution_count": 73
        }
      ]
    },
    {
      "cell_type": "code",
      "metadata": {
        "colab": {
          "base_uri": "https://localhost:8080/"
        },
        "id": "rmwuXJ0yPbsn",
        "outputId": "be399c9d-b719-4368-9a4d-cfb82011fe32"
      },
      "source": [
        "cv_ridge_mse.mean()"
      ],
      "execution_count": null,
      "outputs": [
        {
          "output_type": "execute_result",
          "data": {
            "text/plain": [
              "1.5862978556943534"
            ]
          },
          "metadata": {
            "tags": []
          },
          "execution_count": 74
        }
      ]
    },
    {
      "cell_type": "code",
      "metadata": {
        "colab": {
          "base_uri": "https://localhost:8080/"
        },
        "id": "e5QSahz1PfLu",
        "outputId": "dd4f7c99-69ca-461c-bb57-73ccdf33f65c"
      },
      "source": [
        "rid.score(X_test,y_test)"
      ],
      "execution_count": null,
      "outputs": [
        {
          "output_type": "execute_result",
          "data": {
            "text/plain": [
              "0.20668778319112935"
            ]
          },
          "metadata": {
            "tags": []
          },
          "execution_count": 75
        }
      ]
    },
    {
      "cell_type": "code",
      "metadata": {
        "colab": {
          "base_uri": "https://localhost:8080/"
        },
        "id": "jzd-1cR0Pl2q",
        "outputId": "e873b2e8-db5f-4f9f-d654-fd12d024724c"
      },
      "source": [
        "accuracy_score(y_test,y_pred_ridge_test.round())"
      ],
      "execution_count": null,
      "outputs": [
        {
          "output_type": "execute_result",
          "data": {
            "text/plain": [
              "0.21739130434782608"
            ]
          },
          "metadata": {
            "tags": []
          },
          "execution_count": 76
        }
      ]
    },
    {
      "cell_type": "code",
      "metadata": {
        "colab": {
          "base_uri": "https://localhost:8080/"
        },
        "id": "eAYE1NRATPt2",
        "outputId": "a5aeb37e-f7eb-4091-eba9-47704cca26d4"
      },
      "source": [
        "print(confusion_matrix(y_test,y_pred_ridge_test.round()))"
      ],
      "execution_count": null,
      "outputs": [
        {
          "output_type": "stream",
          "text": [
            "[[ 0  4 29  0  0]\n",
            " [ 0  1 26 14  0]\n",
            " [ 0  0 39  1  0]\n",
            " [ 0  4 28  0  0]\n",
            " [ 0  0  3 35  0]]\n"
          ],
          "name": "stdout"
        }
      ]
    },
    {
      "cell_type": "code",
      "metadata": {
        "colab": {
          "base_uri": "https://localhost:8080/"
        },
        "id": "8Eq8f5KGTP3H",
        "outputId": "373c9af9-32b9-4443-cbf1-9e0c524d6189"
      },
      "source": [
        "print(classification_report(y_test,y_pred_ridge_test.round()))"
      ],
      "execution_count": null,
      "outputs": [
        {
          "output_type": "stream",
          "text": [
            "              precision    recall  f1-score   support\n",
            "\n",
            "           0       0.00      0.00      0.00        33\n",
            "           1       0.11      0.02      0.04        41\n",
            "           2       0.31      0.97      0.47        40\n",
            "           3       0.00      0.00      0.00        32\n",
            "           4       0.00      0.00      0.00        38\n",
            "\n",
            "    accuracy                           0.22       184\n",
            "   macro avg       0.08      0.20      0.10       184\n",
            "weighted avg       0.09      0.22      0.11       184\n",
            "\n"
          ],
          "name": "stdout"
        },
        {
          "output_type": "stream",
          "text": [
            "D:\\Anaconda\\lib\\site-packages\\sklearn\\metrics\\_classification.py:1245: UndefinedMetricWarning: Precision and F-score are ill-defined and being set to 0.0 in labels with no predicted samples. Use `zero_division` parameter to control this behavior.\n",
            "  _warn_prf(average, modifier, msg_start, len(result))\n",
            "D:\\Anaconda\\lib\\site-packages\\sklearn\\metrics\\_classification.py:1245: UndefinedMetricWarning: Precision and F-score are ill-defined and being set to 0.0 in labels with no predicted samples. Use `zero_division` parameter to control this behavior.\n",
            "  _warn_prf(average, modifier, msg_start, len(result))\n",
            "D:\\Anaconda\\lib\\site-packages\\sklearn\\metrics\\_classification.py:1245: UndefinedMetricWarning: Precision and F-score are ill-defined and being set to 0.0 in labels with no predicted samples. Use `zero_division` parameter to control this behavior.\n",
            "  _warn_prf(average, modifier, msg_start, len(result))\n"
          ],
          "name": "stderr"
        }
      ]
    },
    {
      "cell_type": "code",
      "metadata": {
        "colab": {
          "base_uri": "https://localhost:8080/"
        },
        "id": "WIFCw9LVTQA9",
        "outputId": "e54eac0e-8973-4c15-9126-0fdc9158913d"
      },
      "source": [
        "accuracy_score(y_train,y_pred_ridge_train.round())"
      ],
      "execution_count": null,
      "outputs": [
        {
          "output_type": "execute_result",
          "data": {
            "text/plain": [
              "0.18070652173913043"
            ]
          },
          "metadata": {
            "tags": []
          },
          "execution_count": 79
        }
      ]
    },
    {
      "cell_type": "code",
      "metadata": {
        "colab": {
          "base_uri": "https://localhost:8080/"
        },
        "id": "t2Voe0rtTQOe",
        "outputId": "51b67cfa-5d17-4fa2-93eb-b74b9c40fcdf"
      },
      "source": [
        "print(confusion_matrix(y_train,y_pred_ridge_train.round()))"
      ],
      "execution_count": null,
      "outputs": [
        {
          "output_type": "stream",
          "text": [
            "[[  0   7 126   0   0]\n",
            " [  0   0 112  44   0]\n",
            " [  0   2 133   3   0]\n",
            " [  0  21 109   0   0]\n",
            " [  0   0  14 165   0]]\n"
          ],
          "name": "stdout"
        }
      ]
    },
    {
      "cell_type": "code",
      "metadata": {
        "colab": {
          "base_uri": "https://localhost:8080/"
        },
        "id": "IJlc3sUqTQXV",
        "outputId": "5de87772-6888-4cd2-bd5e-f5eea03f410f"
      },
      "source": [
        "print(classification_report(y_train,y_pred_ridge_train.round()))"
      ],
      "execution_count": null,
      "outputs": [
        {
          "output_type": "stream",
          "text": [
            "              precision    recall  f1-score   support\n",
            "\n",
            "           0       0.00      0.00      0.00       133\n",
            "           1       0.00      0.00      0.00       156\n",
            "           2       0.27      0.96      0.42       138\n",
            "           3       0.00      0.00      0.00       130\n",
            "           4       0.00      0.00      0.00       179\n",
            "\n",
            "    accuracy                           0.18       736\n",
            "   macro avg       0.05      0.19      0.08       736\n",
            "weighted avg       0.05      0.18      0.08       736\n",
            "\n"
          ],
          "name": "stdout"
        },
        {
          "output_type": "stream",
          "text": [
            "D:\\Anaconda\\lib\\site-packages\\sklearn\\metrics\\_classification.py:1245: UndefinedMetricWarning: Precision and F-score are ill-defined and being set to 0.0 in labels with no predicted samples. Use `zero_division` parameter to control this behavior.\n",
            "  _warn_prf(average, modifier, msg_start, len(result))\n",
            "D:\\Anaconda\\lib\\site-packages\\sklearn\\metrics\\_classification.py:1245: UndefinedMetricWarning: Precision and F-score are ill-defined and being set to 0.0 in labels with no predicted samples. Use `zero_division` parameter to control this behavior.\n",
            "  _warn_prf(average, modifier, msg_start, len(result))\n",
            "D:\\Anaconda\\lib\\site-packages\\sklearn\\metrics\\_classification.py:1245: UndefinedMetricWarning: Precision and F-score are ill-defined and being set to 0.0 in labels with no predicted samples. Use `zero_division` parameter to control this behavior.\n",
            "  _warn_prf(average, modifier, msg_start, len(result))\n"
          ],
          "name": "stderr"
        }
      ]
    },
    {
      "cell_type": "markdown",
      "metadata": {
        "id": "SHa024oulHpx"
      },
      "source": [
        "***Polynominal Regression***"
      ]
    },
    {
      "cell_type": "code",
      "metadata": {
        "id": "2qRgBN9jTrPG"
      },
      "source": [
        "from sklearn.preprocessing import PolynomialFeatures"
      ],
      "execution_count": null,
      "outputs": []
    },
    {
      "cell_type": "code",
      "metadata": {
        "id": "PixHJP4abgju"
      },
      "source": [
        "pol=PolynomialFeatures(degree=3)"
      ],
      "execution_count": null,
      "outputs": []
    },
    {
      "cell_type": "code",
      "metadata": {
        "id": "WtJ__XKNbtHj"
      },
      "source": [
        "X_train_poly=pol.fit_transform(X_train)\n",
        "X_test_poly=pol.fit_transform(X_test)"
      ],
      "execution_count": null,
      "outputs": []
    },
    {
      "cell_type": "code",
      "metadata": {
        "id": "p_gdk2wXb6rp"
      },
      "source": [
        "pol_reg=LinearRegression()"
      ],
      "execution_count": null,
      "outputs": []
    },
    {
      "cell_type": "code",
      "metadata": {
        "id": "794y0glXczx0"
      },
      "source": [
        "cv_pol=KFold(n_splits=10,shuffle=True)"
      ],
      "execution_count": null,
      "outputs": []
    },
    {
      "cell_type": "code",
      "metadata": {
        "id": "eUkg9IsGc0E_"
      },
      "source": [
        "mse_cv_pol=-cross_val_score(pol_reg,X_train_poly,y_train,cv=cv_pol,scoring='neg_mean_squared_error',n_jobs=-1)"
      ],
      "execution_count": null,
      "outputs": []
    },
    {
      "cell_type": "code",
      "metadata": {
        "colab": {
          "base_uri": "https://localhost:8080/"
        },
        "id": "MjYck2H5b_nJ",
        "outputId": "3c771cb3-8688-45f8-d0fb-b65fc3da2576"
      },
      "source": [
        "pol_reg.fit(X_train_poly,y_train)"
      ],
      "execution_count": null,
      "outputs": [
        {
          "output_type": "execute_result",
          "data": {
            "text/plain": [
              "LinearRegression()"
            ]
          },
          "metadata": {
            "tags": []
          },
          "execution_count": 88
        }
      ]
    },
    {
      "cell_type": "code",
      "metadata": {
        "id": "EwV9lQ73cHp6"
      },
      "source": [
        "y_pred_pol_reg_train=pol_reg.predict(X_train_poly)"
      ],
      "execution_count": null,
      "outputs": []
    },
    {
      "cell_type": "code",
      "metadata": {
        "colab": {
          "base_uri": "https://localhost:8080/"
        },
        "id": "98sZoDULcQGX",
        "outputId": "f9d89ca9-0259-4df9-cbf5-62a9640f4764"
      },
      "source": [
        "mse_pol_reg_train=mean_squared_error(y_train,y_pred_pol_reg_train)\n",
        "mse_pol_reg_train"
      ],
      "execution_count": null,
      "outputs": [
        {
          "output_type": "execute_result",
          "data": {
            "text/plain": [
              "0.28879726625433194"
            ]
          },
          "metadata": {
            "tags": []
          },
          "execution_count": 90
        }
      ]
    },
    {
      "cell_type": "code",
      "metadata": {
        "id": "X8l14BkTcgqh"
      },
      "source": [
        "y_pred_pol_reg_test=pol_reg.predict(X_test_poly)"
      ],
      "execution_count": null,
      "outputs": []
    },
    {
      "cell_type": "code",
      "metadata": {
        "colab": {
          "base_uri": "https://localhost:8080/"
        },
        "id": "DUz8E6G0cnB0",
        "outputId": "55070beb-5f70-491a-dfcb-1d2c1755119a"
      },
      "source": [
        "mse_pol_reg_test=mean_squared_error(y_test,y_pred_pol_reg_test)\n",
        "mse_pol_reg_test"
      ],
      "execution_count": null,
      "outputs": [
        {
          "output_type": "execute_result",
          "data": {
            "text/plain": [
              "0.3779199326453936"
            ]
          },
          "metadata": {
            "tags": []
          },
          "execution_count": 92
        }
      ]
    },
    {
      "cell_type": "code",
      "metadata": {
        "colab": {
          "base_uri": "https://localhost:8080/"
        },
        "id": "n0BxwHxncupF",
        "outputId": "ace19b1b-eea7-490a-86ff-204965687cb1"
      },
      "source": [
        "mse_cv_pol.mean()"
      ],
      "execution_count": null,
      "outputs": [
        {
          "output_type": "execute_result",
          "data": {
            "text/plain": [
              "0.42608642639734756"
            ]
          },
          "metadata": {
            "tags": []
          },
          "execution_count": 93
        }
      ]
    },
    {
      "cell_type": "code",
      "metadata": {
        "colab": {
          "base_uri": "https://localhost:8080/"
        },
        "id": "e6wJur9odtHc",
        "outputId": "7763aa66-3d26-472e-acaa-204ebc0991a6"
      },
      "source": [
        "pol_reg.score(X_test_poly,y_test)"
      ],
      "execution_count": null,
      "outputs": [
        {
          "output_type": "execute_result",
          "data": {
            "text/plain": [
              "0.8052147724870606"
            ]
          },
          "metadata": {
            "tags": []
          },
          "execution_count": 94
        }
      ]
    },
    {
      "cell_type": "code",
      "metadata": {
        "colab": {
          "base_uri": "https://localhost:8080/"
        },
        "id": "gctjBHghdzYH",
        "outputId": "8d31c2b5-8d28-44b9-d1da-6ce0b93758b0"
      },
      "source": [
        "accuracy_score(y_test,y_pred_pol_reg_test.round())"
      ],
      "execution_count": null,
      "outputs": [
        {
          "output_type": "execute_result",
          "data": {
            "text/plain": [
              "0.6739130434782609"
            ]
          },
          "metadata": {
            "tags": []
          },
          "execution_count": 95
        }
      ]
    },
    {
      "cell_type": "code",
      "metadata": {
        "colab": {
          "base_uri": "https://localhost:8080/"
        },
        "id": "hqkrDmi6d9gU",
        "outputId": "9ae70cbf-5de7-4b52-a51d-b31e0157d693"
      },
      "source": [
        "print(confusion_matrix(y_test,y_pred_pol_reg_test.round()))"
      ],
      "execution_count": null,
      "outputs": [
        {
          "output_type": "stream",
          "text": [
            "[[30  3  0  0  0]\n",
            " [ 0 20 18  3  0]\n",
            " [ 2 29  8  1  0]\n",
            " [ 0  0  2 30  0]\n",
            " [ 0  0  1  1 36]]\n"
          ],
          "name": "stdout"
        }
      ]
    },
    {
      "cell_type": "code",
      "metadata": {
        "colab": {
          "base_uri": "https://localhost:8080/"
        },
        "id": "No1A4aa-eDtD",
        "outputId": "4a9a4f13-28b1-4fcf-ad8b-2d6c93b127e8"
      },
      "source": [
        "print(classification_report(y_test,y_pred_pol_reg_test.round()))"
      ],
      "execution_count": null,
      "outputs": [
        {
          "output_type": "stream",
          "text": [
            "              precision    recall  f1-score   support\n",
            "\n",
            "           0       0.94      0.91      0.92        33\n",
            "           1       0.38      0.49      0.43        41\n",
            "           2       0.28      0.20      0.23        40\n",
            "           3       0.86      0.94      0.90        32\n",
            "           4       1.00      0.95      0.97        38\n",
            "\n",
            "    accuracy                           0.67       184\n",
            "   macro avg       0.69      0.70      0.69       184\n",
            "weighted avg       0.67      0.67      0.67       184\n",
            "\n"
          ],
          "name": "stdout"
        }
      ]
    },
    {
      "cell_type": "code",
      "metadata": {
        "colab": {
          "base_uri": "https://localhost:8080/"
        },
        "id": "cJupRqZseKA9",
        "outputId": "d2927e0e-9f42-4ab5-9e36-0c70740230a6"
      },
      "source": [
        "accuracy_score(y_train,y_pred_pol_reg_train.round())"
      ],
      "execution_count": null,
      "outputs": [
        {
          "output_type": "execute_result",
          "data": {
            "text/plain": [
              "0.7364130434782609"
            ]
          },
          "metadata": {
            "tags": []
          },
          "execution_count": 98
        }
      ]
    },
    {
      "cell_type": "code",
      "metadata": {
        "colab": {
          "base_uri": "https://localhost:8080/"
        },
        "id": "S9Z535XUeSnb",
        "outputId": "d19d75c8-9f10-40b9-d682-f7160f0483b9"
      },
      "source": [
        "print(confusion_matrix(y_train,y_pred_pol_reg_train.round()))"
      ],
      "execution_count": null,
      "outputs": [
        {
          "output_type": "stream",
          "text": [
            "[[121  11   1   0   0]\n",
            " [  0  81  70   5   0]\n",
            " [  7  75  49   7   0]\n",
            " [  0   0   2 124   4]\n",
            " [  0   1   4   7 167]]\n"
          ],
          "name": "stdout"
        }
      ]
    },
    {
      "cell_type": "code",
      "metadata": {
        "colab": {
          "base_uri": "https://localhost:8080/"
        },
        "id": "zgairBQUeYDD",
        "outputId": "6dc07fa9-4ba3-4f12-81d8-2f95092db78c"
      },
      "source": [
        "print(classification_report(y_train,y_pred_pol_reg_train.round()))"
      ],
      "execution_count": null,
      "outputs": [
        {
          "output_type": "stream",
          "text": [
            "              precision    recall  f1-score   support\n",
            "\n",
            "           0       0.95      0.91      0.93       133\n",
            "           1       0.48      0.52      0.50       156\n",
            "           2       0.39      0.36      0.37       138\n",
            "           3       0.87      0.95      0.91       130\n",
            "           4       0.98      0.93      0.95       179\n",
            "\n",
            "    accuracy                           0.74       736\n",
            "   macro avg       0.73      0.73      0.73       736\n",
            "weighted avg       0.74      0.74      0.74       736\n",
            "\n"
          ],
          "name": "stdout"
        }
      ]
    },
    {
      "cell_type": "markdown",
      "metadata": {
        "id": "uz6Wn7roly_Y"
      },
      "source": [
        "***Random Forest Regressor***"
      ]
    },
    {
      "cell_type": "code",
      "metadata": {
        "id": "GJ2te5L5efEh"
      },
      "source": [
        "from sklearn.ensemble import RandomForestRegressor"
      ],
      "execution_count": null,
      "outputs": []
    },
    {
      "cell_type": "code",
      "metadata": {
        "id": "8WgTwqpll7hZ"
      },
      "source": [
        "rf_reg=RandomForestRegressor(max_depth=3,oob_score=True,n_jobs=-1,min_samples_leaf=0.1)"
      ],
      "execution_count": null,
      "outputs": []
    },
    {
      "cell_type": "code",
      "metadata": {
        "id": "bBbEZTjbm6gF"
      },
      "source": [
        "cv_rf_reg=KFold(n_splits=10,shuffle=True)"
      ],
      "execution_count": null,
      "outputs": []
    },
    {
      "cell_type": "code",
      "metadata": {
        "id": "BsOYDGB1nCPY"
      },
      "source": [
        "mse_cv_rf_reg=-cross_val_score(rf_reg,X_train,y_train,cv=cv_rf_reg,scoring='neg_mean_squared_error',n_jobs=-1)"
      ],
      "execution_count": null,
      "outputs": []
    },
    {
      "cell_type": "code",
      "metadata": {
        "colab": {
          "base_uri": "https://localhost:8080/"
        },
        "id": "tm3oVL1rnVI3",
        "outputId": "bced023e-fa69-4a5f-84f4-992bc0702a46"
      },
      "source": [
        "rf_reg.fit(X_train,y_train)"
      ],
      "execution_count": null,
      "outputs": [
        {
          "output_type": "stream",
          "text": [
            "<ipython-input-105-b12e0237c534>:1: DataConversionWarning: A column-vector y was passed when a 1d array was expected. Please change the shape of y to (n_samples,), for example using ravel().\n",
            "  rf_reg.fit(X_train,y_train)\n"
          ],
          "name": "stderr"
        },
        {
          "output_type": "execute_result",
          "data": {
            "text/plain": [
              "RandomForestRegressor(max_depth=3, min_samples_leaf=0.1, n_jobs=-1,\n",
              "                      oob_score=True)"
            ]
          },
          "metadata": {
            "tags": []
          },
          "execution_count": 105
        }
      ]
    },
    {
      "cell_type": "code",
      "metadata": {
        "id": "lZAy0xSvnbpl"
      },
      "source": [
        "y_pred_rf_reg_train=rf_reg.predict(X_train)"
      ],
      "execution_count": null,
      "outputs": []
    },
    {
      "cell_type": "code",
      "metadata": {
        "colab": {
          "base_uri": "https://localhost:8080/"
        },
        "id": "W851nB4bnuiZ",
        "outputId": "2a2f8195-76f8-48fd-cb3b-bafb83bf334e"
      },
      "source": [
        "mse_rf_reg_train=mean_squared_error(y_train,y_pred_rf_reg_train)\n",
        "mse_rf_reg_train"
      ],
      "execution_count": null,
      "outputs": [
        {
          "output_type": "execute_result",
          "data": {
            "text/plain": [
              "0.14296334091586493"
            ]
          },
          "metadata": {
            "tags": []
          },
          "execution_count": 107
        }
      ]
    },
    {
      "cell_type": "code",
      "metadata": {
        "id": "HH7CxAh-n-5X"
      },
      "source": [
        "y_pred_rf_reg_test=rf_reg.predict(X_test)"
      ],
      "execution_count": null,
      "outputs": []
    },
    {
      "cell_type": "code",
      "metadata": {
        "colab": {
          "base_uri": "https://localhost:8080/"
        },
        "id": "M60zNFcsoGBN",
        "outputId": "33ec6783-3c33-46f6-c445-0c16b8aad908"
      },
      "source": [
        "mse_rf_reg_test=mean_squared_error(y_test,y_pred_rf_reg_test)\n",
        "mse_rf_reg_test"
      ],
      "execution_count": null,
      "outputs": [
        {
          "output_type": "execute_result",
          "data": {
            "text/plain": [
              "0.129479410159548"
            ]
          },
          "metadata": {
            "tags": []
          },
          "execution_count": 109
        }
      ]
    },
    {
      "cell_type": "code",
      "metadata": {
        "colab": {
          "base_uri": "https://localhost:8080/"
        },
        "id": "bZG1QFXpoO2H",
        "outputId": "e3edf629-e340-4a77-b0db-232bc73d5675"
      },
      "source": [
        "mse_cv_rf_reg.mean()"
      ],
      "execution_count": null,
      "outputs": [
        {
          "output_type": "execute_result",
          "data": {
            "text/plain": [
              "0.14551766670994293"
            ]
          },
          "metadata": {
            "tags": []
          },
          "execution_count": 110
        }
      ]
    },
    {
      "cell_type": "code",
      "metadata": {
        "colab": {
          "base_uri": "https://localhost:8080/"
        },
        "id": "1FhxqhzooTii",
        "outputId": "7aa8f689-a926-4458-f801-8f9c7a8b02a9"
      },
      "source": [
        "rf_reg.score(X_test,y_test)"
      ],
      "execution_count": null,
      "outputs": [
        {
          "output_type": "execute_result",
          "data": {
            "text/plain": [
              "0.9332644981448132"
            ]
          },
          "metadata": {
            "tags": []
          },
          "execution_count": 111
        }
      ]
    },
    {
      "cell_type": "code",
      "metadata": {
        "colab": {
          "base_uri": "https://localhost:8080/"
        },
        "id": "1GFbEDshoXlw",
        "outputId": "eb685e76-393c-4090-b2a4-00b01dc7389b"
      },
      "source": [
        "accuracy_score(y_test,y_pred_rf_reg_test.round())"
      ],
      "execution_count": null,
      "outputs": [
        {
          "output_type": "execute_result",
          "data": {
            "text/plain": [
              "0.7771739130434783"
            ]
          },
          "metadata": {
            "tags": []
          },
          "execution_count": 112
        }
      ]
    },
    {
      "cell_type": "code",
      "metadata": {
        "colab": {
          "base_uri": "https://localhost:8080/"
        },
        "id": "efHhgYRpohdG",
        "outputId": "310ad5bd-803a-4149-90b3-95aaeedca2a5"
      },
      "source": [
        "print(confusion_matrix(y_test,y_pred_rf_reg_test.round()))"
      ],
      "execution_count": null,
      "outputs": [
        {
          "output_type": "stream",
          "text": [
            "[[32  0  1  0  0]\n",
            " [ 0 41  0  0  0]\n",
            " [ 0 40  0  0  0]\n",
            " [ 0  0  0 32  0]\n",
            " [ 0  0  0  0 38]]\n"
          ],
          "name": "stdout"
        }
      ]
    },
    {
      "cell_type": "code",
      "metadata": {
        "colab": {
          "base_uri": "https://localhost:8080/"
        },
        "id": "EuZgxPmNolG-",
        "outputId": "cb3cf26c-0a7b-4be2-960b-34d0fb4a4760"
      },
      "source": [
        "print(classification_report(y_test,y_pred_rf_reg_test.round()))"
      ],
      "execution_count": null,
      "outputs": [
        {
          "output_type": "stream",
          "text": [
            "              precision    recall  f1-score   support\n",
            "\n",
            "           0       1.00      0.97      0.98        33\n",
            "           1       0.51      1.00      0.67        41\n",
            "           2       0.00      0.00      0.00        40\n",
            "           3       1.00      1.00      1.00        32\n",
            "           4       1.00      1.00      1.00        38\n",
            "\n",
            "    accuracy                           0.78       184\n",
            "   macro avg       0.70      0.79      0.73       184\n",
            "weighted avg       0.67      0.78      0.71       184\n",
            "\n"
          ],
          "name": "stdout"
        }
      ]
    },
    {
      "cell_type": "code",
      "metadata": {
        "colab": {
          "base_uri": "https://localhost:8080/"
        },
        "id": "0F6s-ja4ooxk",
        "outputId": "ab1ab729-953f-4f43-de43-d2322c1a4bb1"
      },
      "source": [
        "accuracy_score(y_train,y_pred_rf_reg_train.round())"
      ],
      "execution_count": null,
      "outputs": [
        {
          "output_type": "execute_result",
          "data": {
            "text/plain": [
              "0.8070652173913043"
            ]
          },
          "metadata": {
            "tags": []
          },
          "execution_count": 115
        }
      ]
    },
    {
      "cell_type": "code",
      "metadata": {
        "colab": {
          "base_uri": "https://localhost:8080/"
        },
        "id": "v67sFKppowsY",
        "outputId": "0fa61993-2d2c-4ff3-c41a-c3cadc2c6b80"
      },
      "source": [
        "print(confusion_matrix(y_train,y_pred_rf_reg_train.round()))"
      ],
      "execution_count": null,
      "outputs": [
        {
          "output_type": "stream",
          "text": [
            "[[132   0   0   1   0]\n",
            " [  0 155   0   0   1]\n",
            " [  2 136   0   0   0]\n",
            " [  0   0   0 130   0]\n",
            " [  0   1   0   1 177]]\n"
          ],
          "name": "stdout"
        }
      ]
    },
    {
      "cell_type": "code",
      "metadata": {
        "colab": {
          "base_uri": "https://localhost:8080/"
        },
        "id": "IwDnp98co01A",
        "outputId": "fc30ea21-3909-4814-b161-fdf54428a1a5"
      },
      "source": [
        "print(classification_report(y_train,y_pred_rf_reg_train.round()))"
      ],
      "execution_count": null,
      "outputs": [
        {
          "output_type": "stream",
          "text": [
            "              precision    recall  f1-score   support\n",
            "\n",
            "           0       0.99      0.99      0.99       133\n",
            "           1       0.53      0.99      0.69       156\n",
            "           2       0.00      0.00      0.00       138\n",
            "           3       0.98      1.00      0.99       130\n",
            "           4       0.99      0.99      0.99       179\n",
            "\n",
            "    accuracy                           0.81       736\n",
            "   macro avg       0.70      0.79      0.73       736\n",
            "weighted avg       0.71      0.81      0.74       736\n",
            "\n"
          ],
          "name": "stdout"
        },
        {
          "output_type": "stream",
          "text": [
            "D:\\Anaconda\\lib\\site-packages\\sklearn\\metrics\\_classification.py:1245: UndefinedMetricWarning: Precision and F-score are ill-defined and being set to 0.0 in labels with no predicted samples. Use `zero_division` parameter to control this behavior.\n",
            "  _warn_prf(average, modifier, msg_start, len(result))\n",
            "D:\\Anaconda\\lib\\site-packages\\sklearn\\metrics\\_classification.py:1245: UndefinedMetricWarning: Precision and F-score are ill-defined and being set to 0.0 in labels with no predicted samples. Use `zero_division` parameter to control this behavior.\n",
            "  _warn_prf(average, modifier, msg_start, len(result))\n",
            "D:\\Anaconda\\lib\\site-packages\\sklearn\\metrics\\_classification.py:1245: UndefinedMetricWarning: Precision and F-score are ill-defined and being set to 0.0 in labels with no predicted samples. Use `zero_division` parameter to control this behavior.\n",
            "  _warn_prf(average, modifier, msg_start, len(result))\n"
          ],
          "name": "stderr"
        }
      ]
    },
    {
      "cell_type": "markdown",
      "metadata": {
        "id": "okpflrHFRLve"
      },
      "source": [
        "***Logistic Regression***"
      ]
    },
    {
      "cell_type": "code",
      "metadata": {
        "id": "RRsmVNoLRPlm"
      },
      "source": [
        "from sklearn.linear_model import LogisticRegression"
      ],
      "execution_count": null,
      "outputs": []
    },
    {
      "cell_type": "code",
      "metadata": {
        "id": "r8olJzbbRPxa"
      },
      "source": [
        "log=LogisticRegression()"
      ],
      "execution_count": null,
      "outputs": []
    },
    {
      "cell_type": "code",
      "metadata": {
        "id": "MBH3GCt0RP63"
      },
      "source": [
        "cv_log=KFold(n_splits=10,shuffle=True)"
      ],
      "execution_count": null,
      "outputs": []
    },
    {
      "cell_type": "code",
      "metadata": {
        "id": "IZy4aBCLRQEy"
      },
      "source": [
        "mse_cv_log=-cross_val_score(log,X_train,y_train,cv=cv_log,scoring='neg_mean_squared_error',n_jobs=-1)"
      ],
      "execution_count": null,
      "outputs": []
    },
    {
      "cell_type": "code",
      "metadata": {
        "colab": {
          "base_uri": "https://localhost:8080/"
        },
        "id": "LzknWVcQRQOY",
        "outputId": "b7e0857d-7b6e-4136-df63-5472a92ad580"
      },
      "source": [
        "log.fit(X_train,y_train)"
      ],
      "execution_count": null,
      "outputs": [
        {
          "output_type": "stream",
          "text": [
            "D:\\Anaconda\\lib\\site-packages\\sklearn\\utils\\validation.py:63: DataConversionWarning: A column-vector y was passed when a 1d array was expected. Please change the shape of y to (n_samples, ), for example using ravel().\n",
            "  return f(*args, **kwargs)\n",
            "D:\\Anaconda\\lib\\site-packages\\sklearn\\linear_model\\_logistic.py:763: ConvergenceWarning: lbfgs failed to converge (status=1):\n",
            "STOP: TOTAL NO. of ITERATIONS REACHED LIMIT.\n",
            "\n",
            "Increase the number of iterations (max_iter) or scale the data as shown in:\n",
            "    https://scikit-learn.org/stable/modules/preprocessing.html\n",
            "Please also refer to the documentation for alternative solver options:\n",
            "    https://scikit-learn.org/stable/modules/linear_model.html#logistic-regression\n",
            "  n_iter_i = _check_optimize_result(\n"
          ],
          "name": "stderr"
        },
        {
          "output_type": "execute_result",
          "data": {
            "text/plain": [
              "LogisticRegression()"
            ]
          },
          "metadata": {
            "tags": []
          },
          "execution_count": 122
        }
      ]
    },
    {
      "cell_type": "code",
      "metadata": {
        "id": "J95tXA0qRQXY"
      },
      "source": [
        "y_pred_log_train=log.predict(X_train)"
      ],
      "execution_count": null,
      "outputs": []
    },
    {
      "cell_type": "code",
      "metadata": {
        "colab": {
          "base_uri": "https://localhost:8080/"
        },
        "id": "hCiMv4lXRQgr",
        "outputId": "6ec3a53a-bc00-4424-cea8-167a04610ee2"
      },
      "source": [
        "mse_log_train=mean_squared_error(y_train,y_pred_log_train)\n",
        "mse_log_train"
      ],
      "execution_count": null,
      "outputs": [
        {
          "output_type": "execute_result",
          "data": {
            "text/plain": [
              "0.5964673913043478"
            ]
          },
          "metadata": {
            "tags": []
          },
          "execution_count": 124
        }
      ]
    },
    {
      "cell_type": "code",
      "metadata": {
        "id": "7wBsWXXxRQo9"
      },
      "source": [
        "y_pred_log_test=log.predict(X_test)"
      ],
      "execution_count": null,
      "outputs": []
    },
    {
      "cell_type": "code",
      "metadata": {
        "colab": {
          "base_uri": "https://localhost:8080/"
        },
        "id": "nDc1CmEdRQw9",
        "outputId": "3cbccf37-ec39-4231-b824-7af6bf2e4f48"
      },
      "source": [
        "mse_log_test=mean_squared_error(y_test,y_pred_log_test)\n",
        "mse_log_test"
      ],
      "execution_count": null,
      "outputs": [
        {
          "output_type": "execute_result",
          "data": {
            "text/plain": [
              "0.7717391304347826"
            ]
          },
          "metadata": {
            "tags": []
          },
          "execution_count": 126
        }
      ]
    },
    {
      "cell_type": "code",
      "metadata": {
        "colab": {
          "base_uri": "https://localhost:8080/"
        },
        "id": "xzRdrZIrRQ4_",
        "outputId": "654377d3-0a63-4f48-8ca8-97c4dc06f727"
      },
      "source": [
        "mse_cv_log.mean()"
      ],
      "execution_count": null,
      "outputs": [
        {
          "output_type": "execute_result",
          "data": {
            "text/plain": [
              "0.7040910773787485"
            ]
          },
          "metadata": {
            "tags": []
          },
          "execution_count": 127
        }
      ]
    },
    {
      "cell_type": "code",
      "metadata": {
        "colab": {
          "base_uri": "https://localhost:8080/"
        },
        "id": "uOz6EIdJRRCc",
        "outputId": "a99861ce-35ed-43b8-8344-ba21e4833a0b"
      },
      "source": [
        "accuracy_score(y_test,y_pred_log_test.round())"
      ],
      "execution_count": null,
      "outputs": [
        {
          "output_type": "execute_result",
          "data": {
            "text/plain": [
              "0.8097826086956522"
            ]
          },
          "metadata": {
            "tags": []
          },
          "execution_count": 128
        }
      ]
    },
    {
      "cell_type": "code",
      "metadata": {
        "colab": {
          "base_uri": "https://localhost:8080/"
        },
        "id": "82HV90ucRRJy",
        "outputId": "25c9ab70-7230-4853-e5ec-741a65cc56da"
      },
      "source": [
        "print(confusion_matrix(y_test,y_pred_log_test.round()))"
      ],
      "execution_count": null,
      "outputs": [
        {
          "output_type": "stream",
          "text": [
            "[[31  2  0  0  0]\n",
            " [ 0 25  5  0 11]\n",
            " [ 1 14 25  0  0]\n",
            " [ 0  0  0 32  0]\n",
            " [ 0  2  0  0 36]]\n"
          ],
          "name": "stdout"
        }
      ]
    },
    {
      "cell_type": "code",
      "metadata": {
        "colab": {
          "base_uri": "https://localhost:8080/"
        },
        "id": "aylzjbUpRRSy",
        "outputId": "16a2c199-a8b9-4981-a7be-f592cd2a583d"
      },
      "source": [
        "print(classification_report(y_test,y_pred_log_test.round()))"
      ],
      "execution_count": null,
      "outputs": [
        {
          "output_type": "stream",
          "text": [
            "              precision    recall  f1-score   support\n",
            "\n",
            "           0       0.97      0.94      0.95        33\n",
            "           1       0.58      0.61      0.60        41\n",
            "           2       0.83      0.62      0.71        40\n",
            "           3       1.00      1.00      1.00        32\n",
            "           4       0.77      0.95      0.85        38\n",
            "\n",
            "    accuracy                           0.81       184\n",
            "   macro avg       0.83      0.82      0.82       184\n",
            "weighted avg       0.82      0.81      0.81       184\n",
            "\n"
          ],
          "name": "stdout"
        }
      ]
    },
    {
      "cell_type": "code",
      "metadata": {
        "colab": {
          "base_uri": "https://localhost:8080/"
        },
        "id": "GDHmDNB1RRii",
        "outputId": "9c100e73-53a5-4f55-c560-4bc270df81b5"
      },
      "source": [
        "accuracy_score(y_train,y_pred_log_train.round())"
      ],
      "execution_count": null,
      "outputs": [
        {
          "output_type": "execute_result",
          "data": {
            "text/plain": [
              "0.8586956521739131"
            ]
          },
          "metadata": {
            "tags": []
          },
          "execution_count": 131
        }
      ]
    },
    {
      "cell_type": "code",
      "metadata": {
        "colab": {
          "base_uri": "https://localhost:8080/"
        },
        "id": "0N1_zcUzTYSJ",
        "outputId": "95b5defe-9a80-4ed9-b272-464e650b2d72"
      },
      "source": [
        "print(confusion_matrix(y_train,y_pred_log_train.round()))"
      ],
      "execution_count": null,
      "outputs": [
        {
          "output_type": "stream",
          "text": [
            "[[127   4   1   1   0]\n",
            " [  0 118   8   0  30]\n",
            " [  3  41  85   0   9]\n",
            " [  0   0   0 130   0]\n",
            " [  0   6   0   1 172]]\n"
          ],
          "name": "stdout"
        }
      ]
    },
    {
      "cell_type": "code",
      "metadata": {
        "colab": {
          "base_uri": "https://localhost:8080/"
        },
        "id": "FQ7HTt8PRRqu",
        "outputId": "91a85ce8-e5d4-4994-a634-7ed80b482296"
      },
      "source": [
        "print(classification_report(y_train,y_pred_log_train.round()))"
      ],
      "execution_count": null,
      "outputs": [
        {
          "output_type": "stream",
          "text": [
            "              precision    recall  f1-score   support\n",
            "\n",
            "           0       0.98      0.95      0.97       133\n",
            "           1       0.70      0.76      0.73       156\n",
            "           2       0.90      0.62      0.73       138\n",
            "           3       0.98      1.00      0.99       130\n",
            "           4       0.82      0.96      0.88       179\n",
            "\n",
            "    accuracy                           0.86       736\n",
            "   macro avg       0.88      0.86      0.86       736\n",
            "weighted avg       0.87      0.86      0.86       736\n",
            "\n"
          ],
          "name": "stdout"
        }
      ]
    },
    {
      "cell_type": "markdown",
      "metadata": {
        "id": "_OQg4anGFjpg"
      },
      "source": [
        "### ***Summary***"
      ]
    },
    {
      "cell_type": "code",
      "metadata": {
        "colab": {
          "base_uri": "https://localhost:8080/"
        },
        "id": "831_NREHo62Y",
        "outputId": "7027bcae-f38a-4750-963c-3c448b8eef99"
      },
      "source": [
        "summary={\n",
        "    'Algorithm Name':['Multiple Linear Regresson','Decision Tree Regressor','Lasso','Ridge','Polynominal Regression','Random Forest Regressor','Logistic Regression'],\n",
        "    'Train Accuracy':[0.14,0.85,0.19,0.18,0.74,0.81,0.86],\n",
        "    'Test Accuracy':[0.13,0.83,0.22,0.22,0.67,0.78,0.81]\n",
        "}\n",
        "\n",
        "df_summary=pd.DataFrame(summary,index=['Model:1','Model:2','Model:3','Model:4','Model:5','Model:6','Model:7'])\n",
        "print(\"So the summary of my regression analysis is:\\n\")\n",
        "print(df_summary)"
      ],
      "execution_count": null,
      "outputs": [
        {
          "output_type": "stream",
          "text": [
            "So the summary of my regression analysis is:\n",
            "\n",
            "                    Algorithm Name  Train Accuracy  Test Accuracy\n",
            "Model:1  Multiple Linear Regresson            0.14           0.13\n",
            "Model:2    Decision Tree Regressor            0.85           0.83\n",
            "Model:3                      Lasso            0.19           0.22\n",
            "Model:4                      Ridge            0.18           0.22\n",
            "Model:5     Polynominal Regression            0.74           0.67\n",
            "Model:6    Random Forest Regressor            0.81           0.78\n",
            "Model:7        Logistic Regression            0.86           0.81\n"
          ],
          "name": "stdout"
        }
      ]
    },
    {
      "cell_type": "markdown",
      "metadata": {
        "id": "nA0svRwbvnKH"
      },
      "source": [
        "So best 3 algorithms are: **Model:2** *>* **Model:7** *>* **Model:6**"
      ]
    }
  ]
}