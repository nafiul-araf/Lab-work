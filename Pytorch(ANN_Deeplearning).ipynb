{
  "nbformat": 4,
  "nbformat_minor": 5,
  "metadata": {
    "kernelspec": {
      "display_name": "Python 3",
      "language": "python",
      "name": "python3"
    },
    "language_info": {
      "codemirror_mode": {
        "name": "ipython",
        "version": 3
      },
      "file_extension": ".py",
      "mimetype": "text/x-python",
      "name": "python",
      "nbconvert_exporter": "python",
      "pygments_lexer": "ipython3",
      "version": "3.8.3"
    },
    "colab": {
      "name": "Pytorch(ANN_Deeplearning).ipynb",
      "provenance": [],
      "include_colab_link": true
    }
  },
  "cells": [
    {
      "cell_type": "markdown",
      "metadata": {
        "id": "view-in-github",
        "colab_type": "text"
      },
      "source": [
        "<a href=\"https://colab.research.google.com/github/nafiul-araf/Lab-work/blob/main/Pytorch(ANN_Deeplearning).ipynb\" target=\"_parent\"><img src=\"https://colab.research.google.com/assets/colab-badge.svg\" alt=\"Open In Colab\"/></a>"
      ]
    },
    {
      "cell_type": "markdown",
      "metadata": {
        "id": "sWoJkSYGLzm6"
      },
      "source": [
        "# Necessary Libraries"
      ],
      "id": "sWoJkSYGLzm6"
    },
    {
      "cell_type": "code",
      "metadata": {
        "id": "bBMiZ0sJLznB"
      },
      "source": [
        "import pandas as pd\n",
        "import numpy as np\n",
        "import matplotlib.pyplot as plt\n",
        "import seaborn as sns\n",
        "from my_custom_utils import data_preparation,important_features_visualization_classifier,feature_selection_classifier\n",
        "\n",
        "import warnings\n",
        "warnings.filterwarnings('ignore')\n",
        "\n",
        "\n",
        "%matplotlib inline\n",
        "sns.set(rc={\n",
        "    'figure.figsize':(20, 15)\n",
        "})"
      ],
      "id": "bBMiZ0sJLznB",
      "execution_count": null,
      "outputs": []
    },
    {
      "cell_type": "markdown",
      "metadata": {
        "id": "XUgmXcqkLznE"
      },
      "source": [
        "# Loading the Data"
      ],
      "id": "XUgmXcqkLznE"
    },
    {
      "cell_type": "code",
      "metadata": {
        "id": "NBTdaeUJLznF",
        "outputId": "3b9e0e51-9f99-4364-9788-9b9510a448bf"
      },
      "source": [
        "\n",
        "df=pd.read_csv('Copy of Depression and Happiness Factor Analysis.csv')\n",
        "df.shape"
      ],
      "id": "NBTdaeUJLznF",
      "execution_count": null,
      "outputs": [
        {
          "data": {
            "text/plain": [
              "(920, 21)"
            ]
          },
          "execution_count": 2,
          "metadata": {},
          "output_type": "execute_result"
        }
      ]
    },
    {
      "cell_type": "markdown",
      "metadata": {
        "id": "ImyVdfdULznH"
      },
      "source": [
        "# Data Preparation"
      ],
      "id": "ImyVdfdULznH"
    },
    {
      "cell_type": "markdown",
      "metadata": {
        "id": "4DYXYSfWLznH"
      },
      "source": [
        "* Preparing the data using the imported `data_preparation()` function.\n",
        "```Python\n",
        "    def data_preparation(data):\n",
        "  \"\"\"This funtion is for data preparation which returns the clean data. In order to do this, it drops the unnecessay columns and sets the index. \n",
        "  Then it encodes the categorical non-numeric data into numeric data using label encoder.\n",
        "  Input:\n",
        "      data: The dataframe.\n",
        "  \n",
        "  Output:\n",
        "      Concatenation of encoded and numeric data.\n",
        "  \"\"\"\n",
        "  data=data.drop(['Timestamp','Unnamed: 20'],axis=1)\n",
        "  data=data.set_index('Which year are you in?')\n",
        "  data_numeric=data.drop(data.iloc[:, [0,2,4,5,6,8,9,10,11,12,13,14,15,16]],axis=1)\n",
        "  data_non_numeric=data.drop(data.iloc[:, [1,3,7,17]],axis=1)\n",
        "  le=LabelEncoder()\n",
        "  encode=data_non_numeric.apply(le.fit_transform)\n",
        "\n",
        "  return pd.concat([encode,data_numeric],axis=1)\n",
        "```"
      ],
      "id": "4DYXYSfWLznH"
    },
    {
      "cell_type": "code",
      "metadata": {
        "id": "fIarpoA8LznI",
        "outputId": "8e1f9839-769a-4bc3-d745-4147e6968754"
      },
      "source": [
        "data_final=data_preparation(df)\n",
        "data_final.shape"
      ],
      "id": "fIarpoA8LznI",
      "execution_count": null,
      "outputs": [
        {
          "data": {
            "text/plain": [
              "(920, 18)"
            ]
          },
          "execution_count": 3,
          "metadata": {},
          "output_type": "execute_result"
        }
      ]
    },
    {
      "cell_type": "markdown",
      "metadata": {
        "id": "sHsOi4VcLznJ"
      },
      "source": [
        "# Feature Selection"
      ],
      "id": "sHsOi4VcLznJ"
    },
    {
      "cell_type": "markdown",
      "metadata": {
        "id": "SAzN0SP5LznJ"
      },
      "source": [
        "* Visualizing the important features using the imported `important_features_visualization_classifier()` function.\n",
        "```Python\n",
        "def important_features_visualization_classifier(data):\n",
        "  \"\"\"This function plots the importance features using mutual information classifier.\n",
        "  Input:\n",
        "      data: The dataframe.\n",
        "  \n",
        "  Output:\n",
        "      Plots a horizontal bar chart of the important features in a descending order.\n",
        "  \"\"\"\n",
        "  X=data.drop('How are you feeling right now?',axis=1)\n",
        "  y=data['How are you feeling right now?']\n",
        "  imp=mutual_info_classif(X,y)\n",
        "  feat_imp=pd.Series(imp,data.columns[0:len(data.columns)-1])\n",
        "  feat_imp.sort_values(ascending=False).plot(kind='barh',color='teal',figsize=(20,10))\n",
        "  plt.show()\n",
        "```"
      ],
      "id": "SAzN0SP5LznJ"
    },
    {
      "cell_type": "code",
      "metadata": {
        "id": "J7lHRsV1LznK",
        "outputId": "e4d9c2ee-8e45-4509-ecd3-349116559a68"
      },
      "source": [
        "imp_feat_vis=important_features_visualization_classifier(data_final)\n",
        "imp_feat_vis"
      ],
      "id": "J7lHRsV1LznK",
      "execution_count": null,
      "outputs": [
        {
          "data": {
            "image/png": "[encoded data removed]",
            "text/plain": [
              "<Figure size 1440x720 with 1 Axes>"
            ]
          },
          "metadata": {},
          "output_type": "display_data"
        }
      ]
    },
    {
      "cell_type": "markdown",
      "metadata": {
        "id": "ykoHyAGyLznM"
      },
      "source": [
        "* Finding the important features using the imported `feature_selection_classifier()` function.\n",
        "```Python\n",
        "def feature_selection_classifier(data):\n",
        "  \"\"\"This function finds the important features using mutual information classifier under a percentile value.\n",
        "  Input:\n",
        "      data: The dataframe.\n",
        "  \n",
        "  Output:\n",
        "      Returns the top important features under 30 percentiles.\n",
        "  \"\"\"\n",
        "  X=data.drop('How are you feeling right now?',axis=1)\n",
        "  y=data['How are you feeling right now?']\n",
        "  select=SelectPercentile(mutual_info_classif,percentile=30)\n",
        "  select.fit(X,y)\n",
        "\n",
        "  return X.columns[select.get_support()]\n",
        "```"
      ],
      "id": "ykoHyAGyLznM"
    },
    {
      "cell_type": "code",
      "metadata": {
        "id": "_IWpubS0LznN",
        "outputId": "a2e1c87c-3cc0-4664-965e-c860939c0057"
      },
      "source": [
        "important_features=feature_selection_classifier(data_final)\n",
        "important_features"
      ],
      "id": "_IWpubS0LznN",
      "execution_count": null,
      "outputs": [
        {
          "data": {
            "text/plain": [
              "Index(['Your location ?',\n",
              "       'Are you feeling pressure in your study or work right now?',\n",
              "       'Are you satisfied with your meal today?',\n",
              "       'On a scale of 1-100, how would you express this feeling?',\n",
              "       'How long did you sleep last night?(in hours)'],\n",
              "      dtype='object')"
            ]
          },
          "execution_count": 5,
          "metadata": {},
          "output_type": "execute_result"
        }
      ]
    },
    {
      "cell_type": "markdown",
      "metadata": {
        "id": "-ZamuN2kLznO"
      },
      "source": [
        "# Splitting the Data"
      ],
      "id": "-ZamuN2kLznO"
    },
    {
      "cell_type": "code",
      "metadata": {
        "id": "awUxMA1GLznO"
      },
      "source": [
        "X_new=data_final[['Your location ?','Are you feeling pressure in your study or work right now?','Are you satisfied with your meal today?','On a scale of 1-100, how would you express this feeling?','How long did you sleep last night?(in hours)']].values\n",
        "y_new=data_final['How are you feeling right now?'].values"
      ],
      "id": "awUxMA1GLznO",
      "execution_count": null,
      "outputs": []
    },
    {
      "cell_type": "code",
      "metadata": {
        "id": "E4t0vYirLznP"
      },
      "source": [
        "from sklearn.model_selection import train_test_split\n",
        "\n",
        "X_train,X_test,y_train,y_test=train_test_split(X_new,y_new,test_size=0.20,stratify=y_new,random_state=21)"
      ],
      "id": "E4t0vYirLznP",
      "execution_count": null,
      "outputs": []
    },
    {
      "cell_type": "markdown",
      "metadata": {
        "id": "0oxyRyRMLznQ"
      },
      "source": [
        "# Building the Artificial Neural Network Model"
      ],
      "id": "0oxyRyRMLznQ"
    },
    {
      "cell_type": "markdown",
      "metadata": {
        "id": "-0RWPf4iLznQ"
      },
      "source": [
        "### <span style='color:red'>***Using Pytorch without GPU's***</span>"
      ],
      "id": "-0RWPf4iLznQ"
    },
    {
      "cell_type": "code",
      "metadata": {
        "id": "707z61q_LznQ"
      },
      "source": [
        "import torch\n",
        "import torch.nn as nn\n",
        "import torch.nn.functional as F"
      ],
      "id": "707z61q_LznQ",
      "execution_count": null,
      "outputs": []
    },
    {
      "cell_type": "code",
      "metadata": {
        "id": "jIiX6rUfLznR"
      },
      "source": [
        "X_train=torch.FloatTensor(X_train)\n",
        "X_test=torch.FloatTensor(X_test)\n",
        "y_train=torch.LongTensor(y_train)\n",
        "y_test=torch.LongTensor(y_test)"
      ],
      "id": "jIiX6rUfLznR",
      "execution_count": null,
      "outputs": []
    },
    {
      "cell_type": "markdown",
      "metadata": {
        "id": "yLxTLD7RLznR"
      },
      "source": [
        "### <span style='color:red'>***Creating ANN Class with Layers and Forward Propagation***</span>"
      ],
      "id": "yLxTLD7RLznR"
    },
    {
      "cell_type": "code",
      "metadata": {
        "id": "f4D7dThDLznR"
      },
      "source": [
        "class ANN(nn.Module):\n",
        "    def __init__(self,input_features=5,hidden1=20,hidden2=20,out_features=5):\n",
        "        super().__init__()\n",
        "        self.f_connected1=nn.Linear(input_features,hidden1)\n",
        "        self.f_connected2=nn.Linear(hidden1,hidden2)\n",
        "        self.out=nn.Linear(hidden2,out_features)\n",
        "    def forward(self, x):\n",
        "        x=F.relu(self.f_connected1(x))\n",
        "        x=F.relu(self.f_connected2(x))\n",
        "        x=self.out(x)\n",
        "        return x"
      ],
      "id": "f4D7dThDLznR",
      "execution_count": null,
      "outputs": []
    },
    {
      "cell_type": "code",
      "metadata": {
        "id": "1-d20l_KLznS"
      },
      "source": [
        "torch.manual_seed(20)\n",
        "model=ANN()"
      ],
      "id": "1-d20l_KLznS",
      "execution_count": null,
      "outputs": []
    },
    {
      "cell_type": "code",
      "metadata": {
        "scrolled": true,
        "id": "-qp5z65WLznS",
        "outputId": "68282a99-9298-44a4-a1f3-f919511e36df"
      },
      "source": [
        "dir(model)"
      ],
      "id": "-qp5z65WLznS",
      "execution_count": null,
      "outputs": [
        {
          "data": {
            "text/plain": [
              "['T_destination',\n",
              " '__annotations__',\n",
              " '__call__',\n",
              " '__class__',\n",
              " '__delattr__',\n",
              " '__dict__',\n",
              " '__dir__',\n",
              " '__doc__',\n",
              " '__eq__',\n",
              " '__format__',\n",
              " '__ge__',\n",
              " '__getattr__',\n",
              " '__getattribute__',\n",
              " '__gt__',\n",
              " '__hash__',\n",
              " '__init__',\n",
              " '__init_subclass__',\n",
              " '__le__',\n",
              " '__lt__',\n",
              " '__module__',\n",
              " '__ne__',\n",
              " '__new__',\n",
              " '__reduce__',\n",
              " '__reduce_ex__',\n",
              " '__repr__',\n",
              " '__setattr__',\n",
              " '__setstate__',\n",
              " '__sizeof__',\n",
              " '__str__',\n",
              " '__subclasshook__',\n",
              " '__weakref__',\n",
              " '_apply',\n",
              " '_backward_hooks',\n",
              " '_buffers',\n",
              " '_call_impl',\n",
              " '_forward_hooks',\n",
              " '_forward_pre_hooks',\n",
              " '_get_backward_hooks',\n",
              " '_get_name',\n",
              " '_is_full_backward_hook',\n",
              " '_load_from_state_dict',\n",
              " '_load_state_dict_pre_hooks',\n",
              " '_maybe_warn_non_full_backward_hook',\n",
              " '_modules',\n",
              " '_named_members',\n",
              " '_non_persistent_buffers_set',\n",
              " '_parameters',\n",
              " '_register_load_state_dict_pre_hook',\n",
              " '_register_state_dict_hook',\n",
              " '_replicate_for_data_parallel',\n",
              " '_save_to_state_dict',\n",
              " '_slow_forward',\n",
              " '_state_dict_hooks',\n",
              " '_version',\n",
              " 'add_module',\n",
              " 'apply',\n",
              " 'bfloat16',\n",
              " 'buffers',\n",
              " 'children',\n",
              " 'cpu',\n",
              " 'cuda',\n",
              " 'double',\n",
              " 'dump_patches',\n",
              " 'eval',\n",
              " 'extra_repr',\n",
              " 'f_connected1',\n",
              " 'f_connected2',\n",
              " 'float',\n",
              " 'forward',\n",
              " 'get_buffer',\n",
              " 'get_parameter',\n",
              " 'get_submodule',\n",
              " 'half',\n",
              " 'load_state_dict',\n",
              " 'modules',\n",
              " 'named_buffers',\n",
              " 'named_children',\n",
              " 'named_modules',\n",
              " 'named_parameters',\n",
              " 'out',\n",
              " 'parameters',\n",
              " 'register_backward_hook',\n",
              " 'register_buffer',\n",
              " 'register_forward_hook',\n",
              " 'register_forward_pre_hook',\n",
              " 'register_full_backward_hook',\n",
              " 'register_parameter',\n",
              " 'requires_grad_',\n",
              " 'share_memory',\n",
              " 'state_dict',\n",
              " 'to',\n",
              " 'to_empty',\n",
              " 'train',\n",
              " 'training',\n",
              " 'type',\n",
              " 'xpu',\n",
              " 'zero_grad']"
            ]
          },
          "execution_count": 12,
          "metadata": {},
          "output_type": "execute_result"
        }
      ]
    },
    {
      "cell_type": "code",
      "metadata": {
        "id": "p26hXwnILznT",
        "outputId": "44800c9b-d07c-47cb-dc9c-4b9c95dfed06"
      },
      "source": [
        "model.parameters"
      ],
      "id": "p26hXwnILznT",
      "execution_count": null,
      "outputs": [
        {
          "data": {
            "text/plain": [
              "<bound method Module.parameters of ANN(\n",
              "  (f_connected1): Linear(in_features=5, out_features=20, bias=True)\n",
              "  (f_connected2): Linear(in_features=20, out_features=20, bias=True)\n",
              "  (out): Linear(in_features=20, out_features=5, bias=True)\n",
              ")>"
            ]
          },
          "execution_count": 13,
          "metadata": {},
          "output_type": "execute_result"
        }
      ]
    },
    {
      "cell_type": "code",
      "metadata": {
        "id": "yfLlIZcwLznT"
      },
      "source": [
        "loss_function=nn.CrossEntropyLoss()\n",
        "optimizer=torch.optim.Adam(model.parameters(), lr=0.01)"
      ],
      "id": "yfLlIZcwLznT",
      "execution_count": null,
      "outputs": []
    },
    {
      "cell_type": "markdown",
      "metadata": {
        "id": "s7rZ49i-LznT"
      },
      "source": [
        "### <span style='color:red'>***Training and Testing***</span>"
      ],
      "id": "s7rZ49i-LznT"
    },
    {
      "cell_type": "code",
      "metadata": {
        "id": "oCAasIrTLznT",
        "outputId": "e0665879-b763-467d-a98f-78c8b121685e"
      },
      "source": [
        "epochs=500\n",
        "train_losses=[]\n",
        "test_losses=[]\n",
        "for i in range(epochs):\n",
        "    i=i+1\n",
        "    #train\n",
        "    y_pred_train=model.forward(X_train)\n",
        "    loss_train=loss_function(y_pred_train,y_train)\n",
        "    train_losses.append(loss_train)\n",
        "    \n",
        "    #test\n",
        "    y_pred_test=model.forward(X_test)\n",
        "    loss_test=loss_function(y_pred_test,y_test)\n",
        "    test_losses.append(loss_test)\n",
        "    if i%10==0:\n",
        "        print(\"Epoch number: {}\".format(i))\n",
        "        print(\"The training loss : {}\".format(loss_train.item()))\n",
        "        print(\"The testing loss : {}\".format(loss_test.item()))\n",
        "        print(\"\\n\")\n",
        "    optimizer.zero_grad()\n",
        "    loss_train.backward()\n",
        "    optimizer.step()"
      ],
      "id": "oCAasIrTLznT",
      "execution_count": null,
      "outputs": [
        {
          "name": "stdout",
          "output_type": "stream",
          "text": [
            "Epoch number: 10\n",
            "The training loss : 1.3954905271530151\n",
            "The testing loss : 1.4012243747711182\n",
            "\n",
            "\n",
            "Epoch number: 20\n",
            "The training loss : 1.1661385297775269\n",
            "The testing loss : 1.1568797826766968\n",
            "\n",
            "\n",
            "Epoch number: 30\n",
            "The training loss : 1.0395511388778687\n",
            "The testing loss : 1.0158568620681763\n",
            "\n",
            "\n",
            "Epoch number: 40\n",
            "The training loss : 0.9467398524284363\n",
            "The testing loss : 0.9247807860374451\n",
            "\n",
            "\n",
            "Epoch number: 50\n",
            "The training loss : 0.7984837293624878\n",
            "The testing loss : 0.784808337688446\n",
            "\n",
            "\n",
            "Epoch number: 60\n",
            "The training loss : 0.6126570701599121\n",
            "The testing loss : 0.6038478016853333\n",
            "\n",
            "\n",
            "Epoch number: 70\n",
            "The training loss : 0.4738084077835083\n",
            "The testing loss : 0.46156880259513855\n",
            "\n",
            "\n",
            "Epoch number: 80\n",
            "The training loss : 0.40354079008102417\n",
            "The testing loss : 0.3962932229042053\n",
            "\n",
            "\n",
            "Epoch number: 90\n",
            "The training loss : 0.3709051012992859\n",
            "The testing loss : 0.37321737408638\n",
            "\n",
            "\n",
            "Epoch number: 100\n",
            "The training loss : 0.34922897815704346\n",
            "The testing loss : 0.3661634922027588\n",
            "\n",
            "\n",
            "Epoch number: 110\n",
            "The training loss : 0.3239966332912445\n",
            "The testing loss : 0.3447788655757904\n",
            "\n",
            "\n",
            "Epoch number: 120\n",
            "The training loss : 0.2983112335205078\n",
            "The testing loss : 0.32704198360443115\n",
            "\n",
            "\n",
            "Epoch number: 130\n",
            "The training loss : 0.2737509310245514\n",
            "The testing loss : 0.3000255823135376\n",
            "\n",
            "\n",
            "Epoch number: 140\n",
            "The training loss : 0.28690922260284424\n",
            "The testing loss : 0.33055442571640015\n",
            "\n",
            "\n",
            "Epoch number: 150\n",
            "The training loss : 0.2735011577606201\n",
            "The testing loss : 0.29892224073410034\n",
            "\n",
            "\n",
            "Epoch number: 160\n",
            "The training loss : 0.25630465149879456\n",
            "The testing loss : 0.2816653549671173\n",
            "\n",
            "\n",
            "Epoch number: 170\n",
            "The training loss : 0.2415919452905655\n",
            "The testing loss : 0.26558464765548706\n",
            "\n",
            "\n",
            "Epoch number: 180\n",
            "The training loss : 0.2284715473651886\n",
            "The testing loss : 0.2497403770685196\n",
            "\n",
            "\n",
            "Epoch number: 190\n",
            "The training loss : 0.214788556098938\n",
            "The testing loss : 0.23293857276439667\n",
            "\n",
            "\n",
            "Epoch number: 200\n",
            "The training loss : 0.20099982619285583\n",
            "The testing loss : 0.21718691289424896\n",
            "\n",
            "\n",
            "Epoch number: 210\n",
            "The training loss : 0.187006413936615\n",
            "The testing loss : 0.19895267486572266\n",
            "\n",
            "\n",
            "Epoch number: 220\n",
            "The training loss : 0.1724158525466919\n",
            "The testing loss : 0.1835690587759018\n",
            "\n",
            "\n",
            "Epoch number: 230\n",
            "The training loss : 0.15949396789073944\n",
            "The testing loss : 0.16938413679599762\n",
            "\n",
            "\n",
            "Epoch number: 240\n",
            "The training loss : 0.14745284616947174\n",
            "The testing loss : 0.15124279260635376\n",
            "\n",
            "\n",
            "Epoch number: 250\n",
            "The training loss : 0.1378016471862793\n",
            "The testing loss : 0.14817652106285095\n",
            "\n",
            "\n",
            "Epoch number: 260\n",
            "The training loss : 0.1252668797969818\n",
            "The testing loss : 0.12913934886455536\n",
            "\n",
            "\n",
            "Epoch number: 270\n",
            "The training loss : 0.11392318457365036\n",
            "The testing loss : 0.12067069858312607\n",
            "\n",
            "\n",
            "Epoch number: 280\n",
            "The training loss : 0.1106628030538559\n",
            "The testing loss : 0.12084784358739853\n",
            "\n",
            "\n",
            "Epoch number: 290\n",
            "The training loss : 0.10281915962696075\n",
            "The testing loss : 0.11116272211074829\n",
            "\n",
            "\n",
            "Epoch number: 300\n",
            "The training loss : 0.09520254284143448\n",
            "The testing loss : 0.10292758792638779\n",
            "\n",
            "\n",
            "Epoch number: 310\n",
            "The training loss : 0.08942502737045288\n",
            "The testing loss : 0.09685780853033066\n",
            "\n",
            "\n",
            "Epoch number: 320\n",
            "The training loss : 0.08562252670526505\n",
            "The testing loss : 0.09272278100252151\n",
            "\n",
            "\n",
            "Epoch number: 330\n",
            "The training loss : 0.08229546993970871\n",
            "The testing loss : 0.09043018519878387\n",
            "\n",
            "\n",
            "Epoch number: 340\n",
            "The training loss : 0.08033469319343567\n",
            "The testing loss : 0.08879195898771286\n",
            "\n",
            "\n",
            "Epoch number: 350\n",
            "The training loss : 0.07696415483951569\n",
            "The testing loss : 0.08570955693721771\n",
            "\n",
            "\n",
            "Epoch number: 360\n",
            "The training loss : 0.07563328742980957\n",
            "The testing loss : 0.08467929065227509\n",
            "\n",
            "\n",
            "Epoch number: 370\n",
            "The training loss : 0.091431625187397\n",
            "The testing loss : 0.10205807536840439\n",
            "\n",
            "\n",
            "Epoch number: 380\n",
            "The training loss : 0.0719589814543724\n",
            "The testing loss : 0.08234532922506332\n",
            "\n",
            "\n",
            "Epoch number: 390\n",
            "The training loss : 0.0719817504286766\n",
            "The testing loss : 0.08195069432258606\n",
            "\n",
            "\n",
            "Epoch number: 400\n",
            "The training loss : 0.06925357133150101\n",
            "The testing loss : 0.0801800936460495\n",
            "\n",
            "\n",
            "Epoch number: 410\n",
            "The training loss : 0.06799342483282089\n",
            "The testing loss : 0.07909586280584335\n",
            "\n",
            "\n",
            "Epoch number: 420\n",
            "The training loss : 0.06698688864707947\n",
            "The testing loss : 0.07860855758190155\n",
            "\n",
            "\n",
            "Epoch number: 430\n",
            "The training loss : 0.06612452864646912\n",
            "The testing loss : 0.07850596308708191\n",
            "\n",
            "\n",
            "Epoch number: 440\n",
            "The training loss : 0.06519270688295364\n",
            "The testing loss : 0.07807853072881699\n",
            "\n",
            "\n",
            "Epoch number: 450\n",
            "The training loss : 0.06439810991287231\n",
            "The testing loss : 0.07748421281576157\n",
            "\n",
            "\n",
            "Epoch number: 460\n",
            "The training loss : 0.0636717677116394\n",
            "The testing loss : 0.07732243835926056\n",
            "\n",
            "\n",
            "Epoch number: 470\n",
            "The training loss : 0.06509159505367279\n",
            "The testing loss : 0.08072245866060257\n",
            "\n",
            "\n",
            "Epoch number: 480\n",
            "The training loss : 0.06433208286762238\n",
            "The testing loss : 0.07914459705352783\n",
            "\n",
            "\n",
            "Epoch number: 490\n",
            "The training loss : 0.06444959342479706\n",
            "The testing loss : 0.08013635873794556\n",
            "\n",
            "\n",
            "Epoch number: 500\n",
            "The training loss : 0.06304727494716644\n",
            "The testing loss : 0.07869856059551239\n",
            "\n",
            "\n"
          ]
        }
      ]
    },
    {
      "cell_type": "code",
      "metadata": {
        "id": "izzTVRw-LznU",
        "outputId": "38405c6f-6d24-4336-f841-71e8633cbb8b"
      },
      "source": [
        "plt.plot(range(epochs), train_losses, color='orange', label=\"Training Loss\")\n",
        "plt.plot(range(epochs), test_losses, color='blue', label=\"Testing Loss\")\n",
        "plt.ylabel('Loss', fontsize=28)\n",
        "plt.xlabel('Epochs (per 10)', fontsize=28)\n",
        "plt.title('Total Epochs '+str(epochs), fontsize=28)\n",
        "plt.legend(prop={'size': 20})\n",
        "plt.tight_layout()\n",
        "plt.show();"
      ],
      "id": "izzTVRw-LznU",
      "execution_count": null,
      "outputs": [
        {
          "data": {
            "image/png": "[encoded data removed]",
            "text/plain": [
              "<Figure size 1440x1080 with 1 Axes>"
            ]
          },
          "metadata": {},
          "output_type": "display_data"
        }
      ]
    },
    {
      "cell_type": "markdown",
      "metadata": {
        "id": "pJmb4gMjLznU"
      },
      "source": [
        "### <span style='color:red'>***Making Predictions***</span>"
      ],
      "id": "pJmb4gMjLznU"
    },
    {
      "cell_type": "code",
      "metadata": {
        "id": "xVEyW4ahLznU",
        "outputId": "b1f9ac85-c9f9-4e3e-9713-90f0a7739bb0"
      },
      "source": [
        "predictions=[]\n",
        "with torch.no_grad():\n",
        "    for i, data in enumerate(X_test):\n",
        "        y_pred=model(data)\n",
        "        predictions.append(y_pred.argmax().item())\n",
        "        print(y_pred.argmax().item())"
      ],
      "id": "xVEyW4ahLznU",
      "execution_count": null,
      "outputs": [
        {
          "name": "stdout",
          "output_type": "stream",
          "text": [
            "3\n",
            "4\n",
            "2\n",
            "2\n",
            "3\n",
            "2\n",
            "2\n",
            "4\n",
            "4\n",
            "3\n",
            "1\n",
            "3\n",
            "2\n",
            "0\n",
            "3\n",
            "2\n",
            "2\n",
            "0\n",
            "2\n",
            "3\n",
            "3\n",
            "1\n",
            "4\n",
            "1\n",
            "2\n",
            "1\n",
            "2\n",
            "4\n",
            "1\n",
            "2\n",
            "4\n",
            "4\n",
            "1\n",
            "2\n",
            "2\n",
            "4\n",
            "0\n",
            "2\n",
            "0\n",
            "2\n",
            "4\n",
            "1\n",
            "0\n",
            "1\n",
            "1\n",
            "2\n",
            "1\n",
            "0\n",
            "4\n",
            "1\n",
            "4\n",
            "1\n",
            "4\n",
            "4\n",
            "0\n",
            "1\n",
            "1\n",
            "2\n",
            "4\n",
            "3\n",
            "1\n",
            "0\n",
            "2\n",
            "0\n",
            "3\n",
            "1\n",
            "0\n",
            "0\n",
            "1\n",
            "0\n",
            "3\n",
            "2\n",
            "4\n",
            "3\n",
            "4\n",
            "1\n",
            "1\n",
            "0\n",
            "0\n",
            "1\n",
            "1\n",
            "3\n",
            "0\n",
            "4\n",
            "2\n",
            "0\n",
            "2\n",
            "1\n",
            "0\n",
            "4\n",
            "3\n",
            "3\n",
            "4\n",
            "1\n",
            "3\n",
            "2\n",
            "0\n",
            "3\n",
            "0\n",
            "2\n",
            "3\n",
            "1\n",
            "1\n",
            "3\n",
            "3\n",
            "4\n",
            "4\n",
            "4\n",
            "1\n",
            "4\n",
            "4\n",
            "1\n",
            "3\n",
            "3\n",
            "4\n",
            "4\n",
            "2\n",
            "4\n",
            "2\n",
            "0\n",
            "4\n",
            "1\n",
            "0\n",
            "4\n",
            "0\n",
            "4\n",
            "1\n",
            "4\n",
            "3\n",
            "0\n",
            "0\n",
            "1\n",
            "4\n",
            "4\n",
            "3\n",
            "1\n",
            "3\n",
            "1\n",
            "4\n",
            "3\n",
            "2\n",
            "4\n",
            "4\n",
            "3\n",
            "0\n",
            "1\n",
            "0\n",
            "0\n",
            "0\n",
            "4\n",
            "0\n",
            "1\n",
            "1\n",
            "2\n",
            "1\n",
            "1\n",
            "4\n",
            "2\n",
            "4\n",
            "0\n",
            "3\n",
            "1\n",
            "3\n",
            "3\n",
            "3\n",
            "4\n",
            "2\n",
            "2\n",
            "2\n",
            "2\n",
            "4\n",
            "1\n",
            "1\n",
            "0\n",
            "0\n",
            "3\n",
            "4\n",
            "1\n",
            "4\n",
            "3\n",
            "0\n",
            "1\n",
            "2\n",
            "3\n"
          ]
        }
      ]
    },
    {
      "cell_type": "markdown",
      "metadata": {
        "id": "ZbA3Wvu9LznV"
      },
      "source": [
        "### <span style='color:red'>***Model Evaluation***</span>"
      ],
      "id": "ZbA3Wvu9LznV"
    },
    {
      "cell_type": "code",
      "metadata": {
        "id": "WMFgZi5CLznV"
      },
      "source": [
        "from sklearn.metrics import accuracy_score, confusion_matrix, classification_report"
      ],
      "id": "WMFgZi5CLznV",
      "execution_count": null,
      "outputs": []
    },
    {
      "cell_type": "code",
      "metadata": {
        "id": "UwbNFk0QLznV",
        "outputId": "d386e6dd-4c77-4447-8ad5-5c800e8cb335"
      },
      "source": [
        "accuracy_score(y_test, predictions)"
      ],
      "id": "UwbNFk0QLznV",
      "execution_count": null,
      "outputs": [
        {
          "data": {
            "text/plain": [
              "0.9836956521739131"
            ]
          },
          "execution_count": 19,
          "metadata": {},
          "output_type": "execute_result"
        }
      ]
    },
    {
      "cell_type": "code",
      "metadata": {
        "id": "TD3UKyvFLznW",
        "outputId": "7ee36c2a-959e-4087-f22a-727f450cc6eb"
      },
      "source": [
        "cm=confusion_matrix(y_test,predictions)\n",
        "sns.heatmap(cm, annot=True, cmap=\"YlGnBu\")\n",
        "plt.xlabel('Actual Values', fontsize=20)\n",
        "plt.ylabel('Predicted Values', fontsize=20)\n",
        "plt.show();"
      ],
      "id": "TD3UKyvFLznW",
      "execution_count": null,
      "outputs": [
        {
          "data": {
            "image/png": "[encoded data removed]",
            "text/plain": [
              "<Figure size 1440x1080 with 2 Axes>"
            ]
          },
          "metadata": {},
          "output_type": "display_data"
        }
      ]
    },
    {
      "cell_type": "code",
      "metadata": {
        "id": "pinR_CuFLznW",
        "outputId": "1173c6c7-1dde-44c2-e7df-90379ff39492"
      },
      "source": [
        "target_names=['Very Bad','Bad','Normal','Good','Very Good']\n",
        "print(classification_report(y_test, predictions, target_names=target_names))"
      ],
      "id": "pinR_CuFLznW",
      "execution_count": null,
      "outputs": [
        {
          "name": "stdout",
          "output_type": "stream",
          "text": [
            "              precision    recall  f1-score   support\n",
            "\n",
            "    Very Bad       1.00      1.00      1.00        33\n",
            "         Bad       0.93      1.00      0.96        39\n",
            "      Normal       1.00      0.92      0.96        36\n",
            "        Good       1.00      1.00      1.00        33\n",
            "   Very Good       1.00      1.00      1.00        43\n",
            "\n",
            "    accuracy                           0.98       184\n",
            "   macro avg       0.99      0.98      0.98       184\n",
            "weighted avg       0.98      0.98      0.98       184\n",
            "\n"
          ]
        }
      ]
    },
    {
      "cell_type": "code",
      "metadata": {
        "id": "UY7A5IGgLznW"
      },
      "source": [
        "#torch.save(model, 'ml_lab_pytorch.pt')"
      ],
      "id": "UY7A5IGgLznW",
      "execution_count": null,
      "outputs": []
    }
  ]
}