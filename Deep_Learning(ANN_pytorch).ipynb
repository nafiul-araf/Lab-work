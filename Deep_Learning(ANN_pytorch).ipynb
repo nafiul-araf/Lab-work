{
  "nbformat": 4,
  "nbformat_minor": 5,
  "metadata": {
    "kernelspec": {
      "display_name": "Python 3",
      "language": "python",
      "name": "python3"
    },
    "language_info": {
      "codemirror_mode": {
        "name": "ipython",
        "version": 3
      },
      "file_extension": ".py",
      "mimetype": "text/x-python",
      "name": "python",
      "nbconvert_exporter": "python",
      "pygments_lexer": "ipython3",
      "version": "3.8.3"
    },
    "colab": {
      "name": "Deep_Learning(ANN_pytorch).ipynb",
      "provenance": [],
      "include_colab_link": true
    }
  },
  "cells": [
    {
      "cell_type": "markdown",
      "metadata": {
        "id": "view-in-github",
        "colab_type": "text"
      },
      "source": [
        "<a href=\"https://colab.research.google.com/github/nafiul-araf/Lab-work/blob/main/Deep_Learning(ANN_pytorch).ipynb\" target=\"_parent\"><img src=\"https://colab.research.google.com/assets/colab-badge.svg\" alt=\"Open In Colab\"/></a>"
      ]
    },
    {
      "cell_type": "markdown",
      "metadata": {
        "id": "pIbltUUKtBe7"
      },
      "source": [
        "# Necessary Libraries"
      ],
      "id": "pIbltUUKtBe7"
    },
    {
      "cell_type": "code",
      "metadata": {
        "id": "xvlAeZ6LtBe9"
      },
      "source": [
        "import pandas as pd\n",
        "import numpy as np\n",
        "import matplotlib.pyplot as plt\n",
        "import seaborn as sns\n",
        "from my_custom_utils import data_preparation,important_features_visualization_classifier,feature_selection_classifier\n",
        "\n",
        "import warnings\n",
        "warnings.filterwarnings('ignore')\n",
        "\n",
        "\n",
        "%matplotlib inline\n",
        "sns.set(rc={\n",
        "    'figure.figsize':(20, 15)\n",
        "})"
      ],
      "id": "xvlAeZ6LtBe9",
      "execution_count": null,
      "outputs": []
    },
    {
      "cell_type": "markdown",
      "metadata": {
        "id": "V2CaIA57tBe_"
      },
      "source": [
        "# Loading the Data"
      ],
      "id": "V2CaIA57tBe_"
    },
    {
      "cell_type": "code",
      "metadata": {
        "id": "CvKCoGK6tBfA",
        "outputId": "aa4b140a-5789-4e9c-c8b6-40a58fd10961"
      },
      "source": [
        "df=pd.read_csv('Copy of Depression and Happiness Factor Analysis.csv')\n",
        "df.shape"
      ],
      "id": "CvKCoGK6tBfA",
      "execution_count": null,
      "outputs": [
        {
          "data": {
            "text/plain": [
              "(920, 21)"
            ]
          },
          "execution_count": 2,
          "metadata": {},
          "output_type": "execute_result"
        }
      ]
    },
    {
      "cell_type": "markdown",
      "metadata": {
        "id": "Kf0Dz1-ntBfB"
      },
      "source": [
        "# Data Preparation"
      ],
      "id": "Kf0Dz1-ntBfB"
    },
    {
      "cell_type": "markdown",
      "metadata": {
        "id": "K-jX5W5atBfC"
      },
      "source": [
        "* Preparing the data using the imported `data_preparation()` function.\n",
        "```Python\n",
        "    def data_preparation(data):\n",
        "  \"\"\"This funtion is for data preparation which returns the clean data. In order to do this, it drops the unnecessay columns and sets the index. \n",
        "  Then it encodes the categorical non-numeric data into numeric data using label encoder.\n",
        "  Input:\n",
        "      data: The dataframe.\n",
        "  \n",
        "  Output:\n",
        "      Concatenation of encoded and numeric data.\n",
        "  \"\"\"\n",
        "  data=data.drop(['Timestamp','Unnamed: 20'],axis=1)\n",
        "  data=data.set_index('Which year are you in?')\n",
        "  data_numeric=data.drop(data.iloc[:, [0,2,4,5,6,8,9,10,11,12,13,14,15,16]],axis=1)\n",
        "  data_non_numeric=data.drop(data.iloc[:, [1,3,7,17]],axis=1)\n",
        "  le=LabelEncoder()\n",
        "  encode=data_non_numeric.apply(le.fit_transform)\n",
        "\n",
        "  return pd.concat([encode,data_numeric],axis=1)\n",
        "```"
      ],
      "id": "K-jX5W5atBfC"
    },
    {
      "cell_type": "code",
      "metadata": {
        "id": "2YchIdSGtBfC",
        "outputId": "93044dd5-1ef2-4d34-cd2f-4c9d6364b0b5"
      },
      "source": [
        "data_final=data_preparation(df)\n",
        "data_final.shape"
      ],
      "id": "2YchIdSGtBfC",
      "execution_count": null,
      "outputs": [
        {
          "data": {
            "text/plain": [
              "(920, 18)"
            ]
          },
          "execution_count": 3,
          "metadata": {},
          "output_type": "execute_result"
        }
      ]
    },
    {
      "cell_type": "markdown",
      "metadata": {
        "id": "TXO3k1VbtBfD"
      },
      "source": [
        "# Feature Selection"
      ],
      "id": "TXO3k1VbtBfD"
    },
    {
      "cell_type": "markdown",
      "metadata": {
        "id": "Iy4Zya6YtBfD"
      },
      "source": [
        "* Visualizing the important features using the imported `important_features_visualization_classifier()` function.\n",
        "```Python\n",
        "def important_features_visualization_classifier(data):\n",
        "  \"\"\"This function plots the importance features using mutual information classifier.\n",
        "  Input:\n",
        "      data: The dataframe.\n",
        "  \n",
        "  Output:\n",
        "      Plots a horizontal bar chart of the important features in a descending order.\n",
        "  \"\"\"\n",
        "  X=data.drop('How are you feeling right now?',axis=1)\n",
        "  y=data['How are you feeling right now?']\n",
        "  imp=mutual_info_classif(X,y)\n",
        "  feat_imp=pd.Series(imp,data.columns[0:len(data.columns)-1])\n",
        "  feat_imp.sort_values(ascending=False).plot(kind='barh',color='teal',figsize=(20,10))\n",
        "  plt.show()\n",
        "```"
      ],
      "id": "Iy4Zya6YtBfD"
    },
    {
      "cell_type": "code",
      "metadata": {
        "id": "26cEaZB2tBfD",
        "outputId": "b9cac629-d107-4241-bedf-ebb320fd42e7"
      },
      "source": [
        "imp_feat_vis=important_features_visualization_classifier(data_final)\n",
        "imp_feat_vis"
      ],
      "id": "26cEaZB2tBfD",
      "execution_count": null,
      "outputs": [
        {
          "data": {
            "image/png": "[encoded data removed]",
            "text/plain": [
              "<Figure size 1440x720 with 1 Axes>"
            ]
          },
          "metadata": {},
          "output_type": "display_data"
        }
      ]
    },
    {
      "cell_type": "markdown",
      "metadata": {
        "id": "h_655EGVtBfE"
      },
      "source": [
        "* Finding the important features using the imported `feature_selection_classifier()` function.\n",
        "```Python\n",
        "def feature_selection_classifier(data):\n",
        "  \"\"\"This function finds the important features using mutual information classifier under a percentile value.\n",
        "  Input:\n",
        "      data: The dataframe.\n",
        "  \n",
        "  Output:\n",
        "      Returns the top important features under 30 percentiles.\n",
        "  \"\"\"\n",
        "  X=data.drop('How are you feeling right now?',axis=1)\n",
        "  y=data['How are you feeling right now?']\n",
        "  select=SelectPercentile(mutual_info_classif,percentile=30)\n",
        "  select.fit(X,y)\n",
        "\n",
        "  return X.columns[select.get_support()]\n",
        "```"
      ],
      "id": "h_655EGVtBfE"
    },
    {
      "cell_type": "code",
      "metadata": {
        "id": "RzF6ftLwtBfE",
        "outputId": "b6317612-5236-466c-dc06-f09d21359b1b"
      },
      "source": [
        "important_features=feature_selection_classifier(data_final)\n",
        "important_features"
      ],
      "id": "RzF6ftLwtBfE",
      "execution_count": null,
      "outputs": [
        {
          "data": {
            "text/plain": [
              "Index(['Your location ?',\n",
              "       'Are you feeling pressure in your study or work right now?',\n",
              "       'Are you satisfied with your meal today?',\n",
              "       'On a scale of 1-100, how would you express this feeling?',\n",
              "       'How long did you sleep last night?(in hours)'],\n",
              "      dtype='object')"
            ]
          },
          "execution_count": 5,
          "metadata": {},
          "output_type": "execute_result"
        }
      ]
    },
    {
      "cell_type": "markdown",
      "metadata": {
        "id": "nzSYNwy4tBfE"
      },
      "source": [
        "# Splitting the Data"
      ],
      "id": "nzSYNwy4tBfE"
    },
    {
      "cell_type": "code",
      "metadata": {
        "id": "V7jcA0JrtBfE"
      },
      "source": [
        "X_new=data_final[['Your location ?','Are you feeling pressure in your study or work right now?','Are you satisfied with your meal today?','On a scale of 1-100, how would you express this feeling?','How long did you sleep last night?(in hours)']].values\n",
        "y_new=data_final['How are you feeling right now?'].values"
      ],
      "id": "V7jcA0JrtBfE",
      "execution_count": null,
      "outputs": []
    },
    {
      "cell_type": "code",
      "metadata": {
        "id": "fcMKL9optBfF"
      },
      "source": [
        "from sklearn.model_selection import train_test_split\n",
        "\n",
        "X_train,X_test,y_train,y_test=train_test_split(X_new,y_new,test_size=0.20,stratify=y_new,random_state=21)"
      ],
      "id": "fcMKL9optBfF",
      "execution_count": null,
      "outputs": []
    },
    {
      "cell_type": "markdown",
      "metadata": {
        "id": "PSycYHRstBfF"
      },
      "source": [
        "# Building the Artificial Neural Network Model"
      ],
      "id": "PSycYHRstBfF"
    },
    {
      "cell_type": "code",
      "metadata": {
        "id": "SU5kGpI_tBfH"
      },
      "source": [
        "import torch\n",
        "import torch.nn as nn\n",
        "import torch.nn.functional as F"
      ],
      "id": "SU5kGpI_tBfH",
      "execution_count": null,
      "outputs": []
    },
    {
      "cell_type": "code",
      "metadata": {
        "id": "c-OwsuXjtBfI"
      },
      "source": [
        "X_train=torch.FloatTensor(X_train)\n",
        "X_test=torch.FloatTensor(X_test)\n",
        "y_train=torch.LongTensor(y_train)\n",
        "y_test=torch.LongTensor(y_test)"
      ],
      "id": "c-OwsuXjtBfI",
      "execution_count": null,
      "outputs": []
    },
    {
      "cell_type": "code",
      "metadata": {
        "id": "vrRJLzFAtBfI"
      },
      "source": [
        "class ANN(nn.Module):\n",
        "    def __init__(self,input_features=5,hidden1=20,hidden2=20,out_features=5):\n",
        "        super().__init__()\n",
        "        self.f_connected1=nn.Linear(input_features,hidden1)\n",
        "        self.f_connected2=nn.Linear(hidden1,hidden2)\n",
        "        self.out=nn.Linear(hidden2,out_features)\n",
        "    def forward(self,x):\n",
        "        x=F.relu(self.f_connected1(x))\n",
        "        x=F.relu(self.f_connected2(x))\n",
        "        x=self.out(x)\n",
        "        return x"
      ],
      "id": "vrRJLzFAtBfI",
      "execution_count": null,
      "outputs": []
    },
    {
      "cell_type": "code",
      "metadata": {
        "id": "0ilzDnIgtBfJ"
      },
      "source": [
        "torch.manual_seed(20)\n",
        "model=ANN()"
      ],
      "id": "0ilzDnIgtBfJ",
      "execution_count": null,
      "outputs": []
    },
    {
      "cell_type": "code",
      "metadata": {
        "scrolled": true,
        "id": "4idiTcW_tBfK",
        "outputId": "c58055dc-1cf9-4dad-d499-125664e06952"
      },
      "source": [
        "dir(model)"
      ],
      "id": "4idiTcW_tBfK",
      "execution_count": null,
      "outputs": [
        {
          "data": {
            "text/plain": [
              "['T_destination',\n",
              " '__annotations__',\n",
              " '__call__',\n",
              " '__class__',\n",
              " '__delattr__',\n",
              " '__dict__',\n",
              " '__dir__',\n",
              " '__doc__',\n",
              " '__eq__',\n",
              " '__format__',\n",
              " '__ge__',\n",
              " '__getattr__',\n",
              " '__getattribute__',\n",
              " '__gt__',\n",
              " '__hash__',\n",
              " '__init__',\n",
              " '__init_subclass__',\n",
              " '__le__',\n",
              " '__lt__',\n",
              " '__module__',\n",
              " '__ne__',\n",
              " '__new__',\n",
              " '__reduce__',\n",
              " '__reduce_ex__',\n",
              " '__repr__',\n",
              " '__setattr__',\n",
              " '__setstate__',\n",
              " '__sizeof__',\n",
              " '__str__',\n",
              " '__subclasshook__',\n",
              " '__weakref__',\n",
              " '_apply',\n",
              " '_backward_hooks',\n",
              " '_buffers',\n",
              " '_call_impl',\n",
              " '_forward_hooks',\n",
              " '_forward_pre_hooks',\n",
              " '_get_backward_hooks',\n",
              " '_get_name',\n",
              " '_is_full_backward_hook',\n",
              " '_load_from_state_dict',\n",
              " '_load_state_dict_pre_hooks',\n",
              " '_maybe_warn_non_full_backward_hook',\n",
              " '_modules',\n",
              " '_named_members',\n",
              " '_non_persistent_buffers_set',\n",
              " '_parameters',\n",
              " '_register_load_state_dict_pre_hook',\n",
              " '_register_state_dict_hook',\n",
              " '_replicate_for_data_parallel',\n",
              " '_save_to_state_dict',\n",
              " '_slow_forward',\n",
              " '_state_dict_hooks',\n",
              " '_version',\n",
              " 'add_module',\n",
              " 'apply',\n",
              " 'bfloat16',\n",
              " 'buffers',\n",
              " 'children',\n",
              " 'cpu',\n",
              " 'cuda',\n",
              " 'double',\n",
              " 'dump_patches',\n",
              " 'eval',\n",
              " 'extra_repr',\n",
              " 'f_connected1',\n",
              " 'f_connected2',\n",
              " 'float',\n",
              " 'forward',\n",
              " 'get_buffer',\n",
              " 'get_parameter',\n",
              " 'get_submodule',\n",
              " 'half',\n",
              " 'load_state_dict',\n",
              " 'modules',\n",
              " 'named_buffers',\n",
              " 'named_children',\n",
              " 'named_modules',\n",
              " 'named_parameters',\n",
              " 'out',\n",
              " 'parameters',\n",
              " 'register_backward_hook',\n",
              " 'register_buffer',\n",
              " 'register_forward_hook',\n",
              " 'register_forward_pre_hook',\n",
              " 'register_full_backward_hook',\n",
              " 'register_parameter',\n",
              " 'requires_grad_',\n",
              " 'share_memory',\n",
              " 'state_dict',\n",
              " 'to',\n",
              " 'to_empty',\n",
              " 'train',\n",
              " 'training',\n",
              " 'type',\n",
              " 'xpu',\n",
              " 'zero_grad']"
            ]
          },
          "execution_count": 12,
          "metadata": {},
          "output_type": "execute_result"
        }
      ]
    },
    {
      "cell_type": "code",
      "metadata": {
        "id": "vv_Oz8totBfL",
        "outputId": "98479520-ed5d-4940-aa11-efbdc2a04ac8"
      },
      "source": [
        "model.parameters"
      ],
      "id": "vv_Oz8totBfL",
      "execution_count": null,
      "outputs": [
        {
          "data": {
            "text/plain": [
              "<bound method Module.parameters of ANN(\n",
              "  (f_connected1): Linear(in_features=5, out_features=20, bias=True)\n",
              "  (f_connected2): Linear(in_features=20, out_features=20, bias=True)\n",
              "  (out): Linear(in_features=20, out_features=5, bias=True)\n",
              ")>"
            ]
          },
          "execution_count": 13,
          "metadata": {},
          "output_type": "execute_result"
        }
      ]
    },
    {
      "cell_type": "code",
      "metadata": {
        "id": "PPEciKvhtBfL"
      },
      "source": [
        "loss_function=nn.CrossEntropyLoss()\n",
        "optimizer=torch.optim.Adam(model.parameters(),lr=0.01)"
      ],
      "id": "PPEciKvhtBfL",
      "execution_count": null,
      "outputs": []
    },
    {
      "cell_type": "code",
      "metadata": {
        "scrolled": true,
        "id": "5gI1oXm5tBfM",
        "outputId": "5f8218d2-7f96-40b4-8cc1-0f72a8479716"
      },
      "source": [
        "epochs=500\n",
        "train_losses=[]\n",
        "test_losses=[]\n",
        "for i in range(epochs):\n",
        "    i=i+1\n",
        "    #train\n",
        "    y_pred_train=model.forward(X_train)\n",
        "    loss_train=loss_function(y_pred_train,y_train)\n",
        "    train_losses.append(loss_train)\n",
        "    #if i%10==1:\n",
        "        #print(\"Epoch number: {} and the loss : {}\".format(i,loss_train.item()))\n",
        "    \n",
        "    #test\n",
        "    y_pred_test=model.forward(X_test)\n",
        "    loss_test=loss_function(y_pred_test,y_test)\n",
        "    test_losses.append(loss_test)\n",
        "    if i%10==0:\n",
        "        print(\"Epoch number: {}\".format(i))\n",
        "        print(\"The training loss : {}\".format(loss_train.item()))\n",
        "        print(\"The testing loss : {}\".format(loss_test.item()))\n",
        "        print(\"\\n\")\n",
        "    optimizer.zero_grad()\n",
        "    loss_train.backward()\n",
        "    optimizer.step()"
      ],
      "id": "5gI1oXm5tBfM",
      "execution_count": null,
      "outputs": [
        {
          "name": "stdout",
          "output_type": "stream",
          "text": [
            "Epoch number: 10\n",
            "The training loss : 1.3954905271530151\n",
            "The testing loss : 1.4012243747711182\n",
            "\n",
            "\n",
            "Epoch number: 20\n",
            "The training loss : 1.1661385297775269\n",
            "The testing loss : 1.1568797826766968\n",
            "\n",
            "\n",
            "Epoch number: 30\n",
            "The training loss : 1.0395511388778687\n",
            "The testing loss : 1.0158568620681763\n",
            "\n",
            "\n",
            "Epoch number: 40\n",
            "The training loss : 0.9467398524284363\n",
            "The testing loss : 0.9247807860374451\n",
            "\n",
            "\n",
            "Epoch number: 50\n",
            "The training loss : 0.7984837293624878\n",
            "The testing loss : 0.784808337688446\n",
            "\n",
            "\n",
            "Epoch number: 60\n",
            "The training loss : 0.6126570701599121\n",
            "The testing loss : 0.6038478016853333\n",
            "\n",
            "\n",
            "Epoch number: 70\n",
            "The training loss : 0.4738084077835083\n",
            "The testing loss : 0.46156880259513855\n",
            "\n",
            "\n",
            "Epoch number: 80\n",
            "The training loss : 0.40354079008102417\n",
            "The testing loss : 0.3962932229042053\n",
            "\n",
            "\n",
            "Epoch number: 90\n",
            "The training loss : 0.3709051012992859\n",
            "The testing loss : 0.37321737408638\n",
            "\n",
            "\n",
            "Epoch number: 100\n",
            "The training loss : 0.34922897815704346\n",
            "The testing loss : 0.3661634922027588\n",
            "\n",
            "\n",
            "Epoch number: 110\n",
            "The training loss : 0.3239966332912445\n",
            "The testing loss : 0.3447788655757904\n",
            "\n",
            "\n",
            "Epoch number: 120\n",
            "The training loss : 0.2983112335205078\n",
            "The testing loss : 0.32704198360443115\n",
            "\n",
            "\n",
            "Epoch number: 130\n",
            "The training loss : 0.2737509310245514\n",
            "The testing loss : 0.3000255823135376\n",
            "\n",
            "\n",
            "Epoch number: 140\n",
            "The training loss : 0.28690922260284424\n",
            "The testing loss : 0.33055442571640015\n",
            "\n",
            "\n",
            "Epoch number: 150\n",
            "The training loss : 0.2735011577606201\n",
            "The testing loss : 0.29892224073410034\n",
            "\n",
            "\n",
            "Epoch number: 160\n",
            "The training loss : 0.25630465149879456\n",
            "The testing loss : 0.2816653549671173\n",
            "\n",
            "\n",
            "Epoch number: 170\n",
            "The training loss : 0.2415919452905655\n",
            "The testing loss : 0.26558464765548706\n",
            "\n",
            "\n",
            "Epoch number: 180\n",
            "The training loss : 0.2284715473651886\n",
            "The testing loss : 0.2497403770685196\n",
            "\n",
            "\n",
            "Epoch number: 190\n",
            "The training loss : 0.214788556098938\n",
            "The testing loss : 0.23293857276439667\n",
            "\n",
            "\n",
            "Epoch number: 200\n",
            "The training loss : 0.20099982619285583\n",
            "The testing loss : 0.21718691289424896\n",
            "\n",
            "\n",
            "Epoch number: 210\n",
            "The training loss : 0.187006413936615\n",
            "The testing loss : 0.19895267486572266\n",
            "\n",
            "\n",
            "Epoch number: 220\n",
            "The training loss : 0.1724158525466919\n",
            "The testing loss : 0.1835690587759018\n",
            "\n",
            "\n",
            "Epoch number: 230\n",
            "The training loss : 0.15949396789073944\n",
            "The testing loss : 0.16938413679599762\n",
            "\n",
            "\n",
            "Epoch number: 240\n",
            "The training loss : 0.14745284616947174\n",
            "The testing loss : 0.15124279260635376\n",
            "\n",
            "\n",
            "Epoch number: 250\n",
            "The training loss : 0.1378016471862793\n",
            "The testing loss : 0.14817652106285095\n",
            "\n",
            "\n",
            "Epoch number: 260\n",
            "The training loss : 0.1252668797969818\n",
            "The testing loss : 0.12913934886455536\n",
            "\n",
            "\n",
            "Epoch number: 270\n",
            "The training loss : 0.11392318457365036\n",
            "The testing loss : 0.12067069858312607\n",
            "\n",
            "\n",
            "Epoch number: 280\n",
            "The training loss : 0.1106628030538559\n",
            "The testing loss : 0.12084784358739853\n",
            "\n",
            "\n",
            "Epoch number: 290\n",
            "The training loss : 0.10281915962696075\n",
            "The testing loss : 0.11116272211074829\n",
            "\n",
            "\n",
            "Epoch number: 300\n",
            "The training loss : 0.09520254284143448\n",
            "The testing loss : 0.10292758792638779\n",
            "\n",
            "\n",
            "Epoch number: 310\n",
            "The training loss : 0.08942502737045288\n",
            "The testing loss : 0.09685780853033066\n",
            "\n",
            "\n",
            "Epoch number: 320\n",
            "The training loss : 0.08562252670526505\n",
            "The testing loss : 0.09272278100252151\n",
            "\n",
            "\n",
            "Epoch number: 330\n",
            "The training loss : 0.08229546993970871\n",
            "The testing loss : 0.09043018519878387\n",
            "\n",
            "\n",
            "Epoch number: 340\n",
            "The training loss : 0.08033469319343567\n",
            "The testing loss : 0.08879195898771286\n",
            "\n",
            "\n",
            "Epoch number: 350\n",
            "The training loss : 0.07696415483951569\n",
            "The testing loss : 0.08570955693721771\n",
            "\n",
            "\n",
            "Epoch number: 360\n",
            "The training loss : 0.07563328742980957\n",
            "The testing loss : 0.08467929065227509\n",
            "\n",
            "\n",
            "Epoch number: 370\n",
            "The training loss : 0.091431625187397\n",
            "The testing loss : 0.10205807536840439\n",
            "\n",
            "\n",
            "Epoch number: 380\n",
            "The training loss : 0.0719589814543724\n",
            "The testing loss : 0.08234532922506332\n",
            "\n",
            "\n",
            "Epoch number: 390\n",
            "The training loss : 0.0719817504286766\n",
            "The testing loss : 0.08195069432258606\n",
            "\n",
            "\n",
            "Epoch number: 400\n",
            "The training loss : 0.06925357133150101\n",
            "The testing loss : 0.0801800936460495\n",
            "\n",
            "\n",
            "Epoch number: 410\n",
            "The training loss : 0.06799342483282089\n",
            "The testing loss : 0.07909586280584335\n",
            "\n",
            "\n",
            "Epoch number: 420\n",
            "The training loss : 0.06698688864707947\n",
            "The testing loss : 0.07860855758190155\n",
            "\n",
            "\n",
            "Epoch number: 430\n",
            "The training loss : 0.06612452864646912\n",
            "The testing loss : 0.07850596308708191\n",
            "\n",
            "\n",
            "Epoch number: 440\n",
            "The training loss : 0.06519270688295364\n",
            "The testing loss : 0.07807853072881699\n",
            "\n",
            "\n",
            "Epoch number: 450\n",
            "The training loss : 0.06439810991287231\n",
            "The testing loss : 0.07748421281576157\n",
            "\n",
            "\n",
            "Epoch number: 460\n",
            "The training loss : 0.0636717677116394\n",
            "The testing loss : 0.07732243835926056\n",
            "\n",
            "\n",
            "Epoch number: 470\n",
            "The training loss : 0.06509159505367279\n",
            "The testing loss : 0.08072245866060257\n",
            "\n",
            "\n",
            "Epoch number: 480\n",
            "The training loss : 0.06433208286762238\n",
            "The testing loss : 0.07914459705352783\n",
            "\n",
            "\n",
            "Epoch number: 490\n",
            "The training loss : 0.06444959342479706\n",
            "The testing loss : 0.08013635873794556\n",
            "\n",
            "\n",
            "Epoch number: 500\n",
            "The training loss : 0.06304727494716644\n",
            "The testing loss : 0.07869856059551239\n",
            "\n",
            "\n"
          ]
        }
      ]
    },
    {
      "cell_type": "code",
      "metadata": {
        "id": "V5Z9psSAtBfN",
        "outputId": "7a978e72-2ac8-4c05-abf6-49d7c45f97fd"
      },
      "source": [
        "plt.plot(range(epochs), train_losses, color='orange', label=\"Training Loss\")\n",
        "plt.plot(range(epochs), test_losses, color='blue', label=\"Testing Loss\")\n",
        "plt.ylabel('Loss', fontsize=28)\n",
        "plt.xlabel('Epochs (per 10)', fontsize=28)\n",
        "plt.title('Total Epochs '+str(epochs), fontsize=28)\n",
        "plt.legend(prop={'size': 20})\n",
        "plt.tight_layout()\n",
        "plt.show();"
      ],
      "id": "V5Z9psSAtBfN",
      "execution_count": null,
      "outputs": [
        {
          "data": {
            "image/png": "[encoded data removed]",
            "text/plain": [
              "<Figure size 1440x1080 with 1 Axes>"
            ]
          },
          "metadata": {},
          "output_type": "display_data"
        }
      ]
    },
    {
      "cell_type": "code",
      "metadata": {
        "id": "83Ur1VottBfO",
        "outputId": "543dd151-eb8b-4efc-bf02-682016544c3d"
      },
      "source": [
        "predictions=[]\n",
        "with torch.no_grad():\n",
        "    for i,data in enumerate(X_test):\n",
        "        y_pred=model(data)\n",
        "        predictions.append(y_pred.argmax().item())\n",
        "        print(y_pred.argmax().item())"
      ],
      "id": "83Ur1VottBfO",
      "execution_count": null,
      "outputs": [
        {
          "name": "stdout",
          "output_type": "stream",
          "text": [
            "3\n",
            "4\n",
            "2\n",
            "2\n",
            "3\n",
            "2\n",
            "2\n",
            "4\n",
            "4\n",
            "3\n",
            "1\n",
            "3\n",
            "2\n",
            "0\n",
            "3\n",
            "2\n",
            "2\n",
            "0\n",
            "2\n",
            "3\n",
            "3\n",
            "1\n",
            "4\n",
            "1\n",
            "2\n",
            "1\n",
            "2\n",
            "4\n",
            "1\n",
            "2\n",
            "4\n",
            "4\n",
            "1\n",
            "2\n",
            "2\n",
            "4\n",
            "0\n",
            "2\n",
            "0\n",
            "2\n",
            "4\n",
            "1\n",
            "0\n",
            "1\n",
            "1\n",
            "2\n",
            "1\n",
            "0\n",
            "4\n",
            "1\n",
            "4\n",
            "1\n",
            "4\n",
            "4\n",
            "0\n",
            "1\n",
            "1\n",
            "2\n",
            "4\n",
            "3\n",
            "1\n",
            "0\n",
            "2\n",
            "0\n",
            "3\n",
            "1\n",
            "0\n",
            "0\n",
            "1\n",
            "0\n",
            "3\n",
            "2\n",
            "4\n",
            "3\n",
            "4\n",
            "1\n",
            "1\n",
            "0\n",
            "0\n",
            "1\n",
            "1\n",
            "3\n",
            "0\n",
            "4\n",
            "2\n",
            "0\n",
            "2\n",
            "1\n",
            "0\n",
            "4\n",
            "3\n",
            "3\n",
            "4\n",
            "1\n",
            "3\n",
            "2\n",
            "0\n",
            "3\n",
            "0\n",
            "2\n",
            "3\n",
            "1\n",
            "1\n",
            "3\n",
            "3\n",
            "4\n",
            "4\n",
            "4\n",
            "1\n",
            "4\n",
            "4\n",
            "1\n",
            "3\n",
            "3\n",
            "4\n",
            "4\n",
            "2\n",
            "4\n",
            "2\n",
            "0\n",
            "4\n",
            "1\n",
            "0\n",
            "4\n",
            "0\n",
            "4\n",
            "1\n",
            "4\n",
            "3\n",
            "0\n",
            "0\n",
            "1\n",
            "4\n",
            "4\n",
            "3\n",
            "1\n",
            "3\n",
            "1\n",
            "4\n",
            "3\n",
            "2\n",
            "4\n",
            "4\n",
            "3\n",
            "0\n",
            "1\n",
            "0\n",
            "0\n",
            "0\n",
            "4\n",
            "0\n",
            "1\n",
            "1\n",
            "2\n",
            "1\n",
            "1\n",
            "4\n",
            "2\n",
            "4\n",
            "0\n",
            "3\n",
            "1\n",
            "3\n",
            "3\n",
            "3\n",
            "4\n",
            "2\n",
            "2\n",
            "2\n",
            "2\n",
            "4\n",
            "1\n",
            "1\n",
            "0\n",
            "0\n",
            "3\n",
            "4\n",
            "1\n",
            "4\n",
            "3\n",
            "0\n",
            "1\n",
            "2\n",
            "3\n"
          ]
        }
      ]
    },
    {
      "cell_type": "code",
      "metadata": {
        "id": "cIv9cGoTtBfP"
      },
      "source": [
        "from sklearn.metrics import accuracy_score, confusion_matrix, classification_report"
      ],
      "id": "cIv9cGoTtBfP",
      "execution_count": null,
      "outputs": []
    },
    {
      "cell_type": "code",
      "metadata": {
        "id": "XeEmkDyEtBfP",
        "outputId": "f975d9e4-d909-4d13-a9e9-29424763e712"
      },
      "source": [
        "accuracy_score(y_test, predictions)"
      ],
      "id": "XeEmkDyEtBfP",
      "execution_count": null,
      "outputs": [
        {
          "data": {
            "text/plain": [
              "0.9836956521739131"
            ]
          },
          "execution_count": 19,
          "metadata": {},
          "output_type": "execute_result"
        }
      ]
    },
    {
      "cell_type": "code",
      "metadata": {
        "id": "4jpEDaXptBfQ",
        "outputId": "43c7123c-481e-4e82-992b-86cfd0a608d1"
      },
      "source": [
        "cm=confusion_matrix(y_test,predictions)\n",
        "sns.heatmap(cm, annot=True, cmap=\"YlGnBu\")\n",
        "plt.xlabel('Actual Values', fontsize=20)\n",
        "plt.ylabel('Predicted Values', fontsize=20)\n",
        "plt.show();"
      ],
      "id": "4jpEDaXptBfQ",
      "execution_count": null,
      "outputs": [
        {
          "data": {
            "image/png": "[encoded data removed]",
            "text/plain": [
              "<Figure size 1440x1080 with 2 Axes>"
            ]
          },
          "metadata": {},
          "output_type": "display_data"
        }
      ]
    },
    {
      "cell_type": "code",
      "metadata": {
        "id": "l9_nv5uYtBfR",
        "outputId": "408f39d0-4a40-44e2-9605-d8ed92a2d6c2"
      },
      "source": [
        "target_names=['Very Bad','Bad','Normal','Good','Very Good']\n",
        "print(classification_report(y_test, predictions, target_names=target_names))"
      ],
      "id": "l9_nv5uYtBfR",
      "execution_count": null,
      "outputs": [
        {
          "name": "stdout",
          "output_type": "stream",
          "text": [
            "              precision    recall  f1-score   support\n",
            "\n",
            "    Very Bad       1.00      1.00      1.00        33\n",
            "         Bad       0.93      1.00      0.96        39\n",
            "      Normal       1.00      0.92      0.96        36\n",
            "        Good       1.00      1.00      1.00        33\n",
            "   Very Good       1.00      1.00      1.00        43\n",
            "\n",
            "    accuracy                           0.98       184\n",
            "   macro avg       0.99      0.98      0.98       184\n",
            "weighted avg       0.98      0.98      0.98       184\n",
            "\n"
          ]
        }
      ]
    },
    {
      "cell_type": "code",
      "metadata": {
        "id": "hfYIezCatBfS"
      },
      "source": [
        "#torch.save(model, 'ml_lab_pytorch.pt')"
      ],
      "id": "hfYIezCatBfS",
      "execution_count": null,
      "outputs": []
    }
  ]
}